{
 "cells": [
  {
   "cell_type": "code",
   "execution_count": 4,
   "id": "9b78b48b",
   "metadata": {},
   "outputs": [],
   "source": [
    "import pandas as pd\n",
    "import numpy as np\n",
    "import matplotlib.pyplot as plt\n",
    "import seaborn as sns"
   ]
  },
  {
   "cell_type": "code",
   "execution_count": 5,
   "id": "d061ed40",
   "metadata": {},
   "outputs": [],
   "source": [
    "from sklearn.model_selection import train_test_split\n",
    "from sklearn.linear_model import LinearRegression, Ridge, Lasso\n",
    "from sklearn.metrics import r2_score, mean_squared_error"
   ]
  },
  {
   "cell_type": "code",
   "execution_count": 6,
   "id": "23d53e2b",
   "metadata": {},
   "outputs": [],
   "source": [
    "df = pd.read_csv('data/최종데이터.csv', index_col=0)"
   ]
  },
  {
   "cell_type": "code",
   "execution_count": 7,
   "id": "5f2a3e33",
   "metadata": {},
   "outputs": [
    {
     "data": {
      "text/html": [
       "<div>\n",
       "<style scoped>\n",
       "    .dataframe tbody tr th:only-of-type {\n",
       "        vertical-align: middle;\n",
       "    }\n",
       "\n",
       "    .dataframe tbody tr th {\n",
       "        vertical-align: top;\n",
       "    }\n",
       "\n",
       "    .dataframe thead th {\n",
       "        text-align: right;\n",
       "    }\n",
       "</style>\n",
       "<table border=\"1\" class=\"dataframe\">\n",
       "  <thead>\n",
       "    <tr style=\"text-align: right;\">\n",
       "      <th></th>\n",
       "      <th>date</th>\n",
       "      <th>tesla</th>\n",
       "      <th>tesla_거래량</th>\n",
       "      <th>tesla_volatility</th>\n",
       "      <th>elec_fee</th>\n",
       "      <th>oli_price</th>\n",
       "      <th>oli_price_volatility</th>\n",
       "      <th>carbon_credits</th>\n",
       "      <th>carbon_credits_volatility</th>\n",
       "      <th>EVE종가</th>\n",
       "      <th>...</th>\n",
       "      <th>alu_price</th>\n",
       "      <th>alu_vol</th>\n",
       "      <th>alu_change</th>\n",
       "      <th>cu_price</th>\n",
       "      <th>cu_change</th>\n",
       "      <th>REGI_price</th>\n",
       "      <th>REGI_vol</th>\n",
       "      <th>REGI_change</th>\n",
       "      <th>검색량</th>\n",
       "      <th>updown</th>\n",
       "    </tr>\n",
       "  </thead>\n",
       "  <tbody>\n",
       "    <tr>\n",
       "      <th>0</th>\n",
       "      <td>2015-01-02</td>\n",
       "      <td>43.86</td>\n",
       "      <td>23820.0</td>\n",
       "      <td>-1.39</td>\n",
       "      <td>6.67</td>\n",
       "      <td>52.69</td>\n",
       "      <td>-3.44</td>\n",
       "      <td>7.01</td>\n",
       "      <td>-3.31</td>\n",
       "      <td>13.38</td>\n",
       "      <td>...</td>\n",
       "      <td>1828.00</td>\n",
       "      <td>31.38</td>\n",
       "      <td>-1.12</td>\n",
       "      <td>6250.25</td>\n",
       "      <td>-0.55</td>\n",
       "      <td>9.79</td>\n",
       "      <td>436.60</td>\n",
       "      <td>0.82</td>\n",
       "      <td>22</td>\n",
       "      <td>0</td>\n",
       "    </tr>\n",
       "    <tr>\n",
       "      <th>1</th>\n",
       "      <td>2015-01-05</td>\n",
       "      <td>42.02</td>\n",
       "      <td>26840.0</td>\n",
       "      <td>-4.20</td>\n",
       "      <td>6.67</td>\n",
       "      <td>50.04</td>\n",
       "      <td>-5.03</td>\n",
       "      <td>6.90</td>\n",
       "      <td>-1.57</td>\n",
       "      <td>13.38</td>\n",
       "      <td>...</td>\n",
       "      <td>1812.25</td>\n",
       "      <td>43.25</td>\n",
       "      <td>-0.86</td>\n",
       "      <td>6142.00</td>\n",
       "      <td>-1.73</td>\n",
       "      <td>9.55</td>\n",
       "      <td>481.67</td>\n",
       "      <td>-2.45</td>\n",
       "      <td>19</td>\n",
       "      <td>0</td>\n",
       "    </tr>\n",
       "    <tr>\n",
       "      <th>2</th>\n",
       "      <td>2015-01-06</td>\n",
       "      <td>42.26</td>\n",
       "      <td>31310.0</td>\n",
       "      <td>0.57</td>\n",
       "      <td>6.67</td>\n",
       "      <td>47.93</td>\n",
       "      <td>-4.22</td>\n",
       "      <td>6.77</td>\n",
       "      <td>-1.88</td>\n",
       "      <td>13.89</td>\n",
       "      <td>...</td>\n",
       "      <td>1780.25</td>\n",
       "      <td>56.01</td>\n",
       "      <td>-1.77</td>\n",
       "      <td>6131.00</td>\n",
       "      <td>-0.18</td>\n",
       "      <td>9.12</td>\n",
       "      <td>534.76</td>\n",
       "      <td>-4.50</td>\n",
       "      <td>23</td>\n",
       "      <td>1</td>\n",
       "    </tr>\n",
       "  </tbody>\n",
       "</table>\n",
       "<p>3 rows × 47 columns</p>\n",
       "</div>"
      ],
      "text/plain": [
       "         date  tesla  tesla_거래량  tesla_volatility  elec_fee  oli_price  \\\n",
       "0  2015-01-02  43.86    23820.0             -1.39      6.67      52.69   \n",
       "1  2015-01-05  42.02    26840.0             -4.20      6.67      50.04   \n",
       "2  2015-01-06  42.26    31310.0              0.57      6.67      47.93   \n",
       "\n",
       "   oli_price_volatility  carbon_credits  carbon_credits_volatility  EVE종가  \\\n",
       "0                 -3.44            7.01                      -3.31  13.38   \n",
       "1                 -5.03            6.90                      -1.57  13.38   \n",
       "2                 -4.22            6.77                      -1.88  13.89   \n",
       "\n",
       "   ...  alu_price  alu_vol  alu_change  cu_price  cu_change  REGI_price  \\\n",
       "0  ...    1828.00    31.38       -1.12   6250.25      -0.55        9.79   \n",
       "1  ...    1812.25    43.25       -0.86   6142.00      -1.73        9.55   \n",
       "2  ...    1780.25    56.01       -1.77   6131.00      -0.18        9.12   \n",
       "\n",
       "   REGI_vol  REGI_change  검색량  updown  \n",
       "0    436.60         0.82   22       0  \n",
       "1    481.67        -2.45   19       0  \n",
       "2    534.76        -4.50   23       1  \n",
       "\n",
       "[3 rows x 47 columns]"
      ]
     },
     "execution_count": 7,
     "metadata": {},
     "output_type": "execute_result"
    }
   ],
   "source": [
    "df.head(3)"
   ]
  },
  {
   "cell_type": "code",
   "execution_count": 8,
   "id": "05911387",
   "metadata": {},
   "outputs": [],
   "source": [
    "df_2019 = df.iloc[1027:]"
   ]
  },
  {
   "cell_type": "code",
   "execution_count": 148,
   "id": "4b67ab0a",
   "metadata": {},
   "outputs": [],
   "source": [
    "df_2019.reset_index(drop=True, inplace=True)"
   ]
  },
  {
   "cell_type": "code",
   "execution_count": null,
   "id": "52298e4d",
   "metadata": {},
   "outputs": [],
   "source": [
    "# 다음날 주가 예측"
   ]
  },
  {
   "cell_type": "code",
   "execution_count": 151,
   "id": "f35cd6d1",
   "metadata": {},
   "outputs": [],
   "source": [
    "y = df_2019.tesla[1:]\n",
    "x = df_2019.drop(['tesla', 'tesla_volatility', 'updown', 'date'], axis=1)[:-1]"
   ]
  },
  {
   "cell_type": "code",
   "execution_count": 152,
   "id": "6389932e",
   "metadata": {},
   "outputs": [],
   "source": [
    "x_train = x[:640]\n",
    "x_test = x[640:]\n",
    "y_train = y[:640]\n",
    "y_test = y[640:]"
   ]
  },
  {
   "cell_type": "code",
   "execution_count": 153,
   "id": "53910831",
   "metadata": {},
   "outputs": [
    {
     "name": "stdout",
     "output_type": "stream",
     "text": [
      "LinearRegression\n",
      "-2.20098478287437\n",
      "285.28876080960373\n",
      "Ridge\n",
      "-2.2142584634441063\n",
      "285.87965931364124\n",
      "Lasso\n",
      "-1.0627967316443239\n",
      "229.01876856239147\n"
     ]
    },
    {
     "name": "stderr",
     "output_type": "stream",
     "text": [
      "C:\\Users\\bitcamp\\anaconda3\\lib\\site-packages\\sklearn\\linear_model\\_coordinate_descent.py:647: ConvergenceWarning: Objective did not converge. You might want to increase the number of iterations, check the scale of the features or consider increasing regularisation. Duality gap: 3.250e+05, tolerance: 4.473e+03\n",
      "  model = cd_fast.enet_coordinate_descent(\n"
     ]
    }
   ],
   "source": [
    "lr = LinearRegression()\n",
    "rid = Ridge()\n",
    "las = Lasso()\n",
    "\n",
    "models = [lr, rid, las]\n",
    "\n",
    "for model in models:\n",
    "    \n",
    "    model.fit(x_train, y_train)\n",
    "    preds = model.predict(x_test)\n",
    "    \n",
    "    print(model.__class__.__name__)\n",
    "    print(r2_score(y_test, preds))\n",
    "    print(np.sqrt(mean_squared_error(y_test, preds)))"
   ]
  },
  {
   "cell_type": "code",
   "execution_count": null,
   "id": "425a127a",
   "metadata": {},
   "outputs": [],
   "source": []
  },
  {
   "cell_type": "code",
   "execution_count": null,
   "id": "3bba4330",
   "metadata": {},
   "outputs": [],
   "source": [
    "# scalering 후 머신러닝"
   ]
  },
  {
   "cell_type": "code",
   "execution_count": 154,
   "id": "0ac6e7ed",
   "metadata": {},
   "outputs": [],
   "source": [
    "from sklearn.preprocessing import StandardScaler"
   ]
  },
  {
   "cell_type": "code",
   "execution_count": 155,
   "id": "53683554",
   "metadata": {},
   "outputs": [],
   "source": [
    "scaler = StandardScaler()"
   ]
  },
  {
   "cell_type": "code",
   "execution_count": 156,
   "id": "dc88bc5c",
   "metadata": {},
   "outputs": [
    {
     "data": {
      "text/plain": [
       "StandardScaler()"
      ]
     },
     "execution_count": 156,
     "metadata": {},
     "output_type": "execute_result"
    }
   ],
   "source": [
    "scaler.fit(x_train)"
   ]
  },
  {
   "cell_type": "code",
   "execution_count": 160,
   "id": "29511402",
   "metadata": {},
   "outputs": [],
   "source": [
    "x_train_scaled = scaler.transform(x_train)\n",
    "x_test_scaled = scaler.transform(x_test)"
   ]
  },
  {
   "cell_type": "code",
   "execution_count": null,
   "id": "8c2d9072",
   "metadata": {},
   "outputs": [],
   "source": []
  },
  {
   "cell_type": "code",
   "execution_count": 161,
   "id": "6add2bf2",
   "metadata": {},
   "outputs": [
    {
     "name": "stdout",
     "output_type": "stream",
     "text": [
      "LinearRegression\n",
      "-2.2009847795228583\n",
      "285.2887606602515\n",
      "Ridge\n",
      "-1.5288684622333801\n",
      "253.5747336502132\n",
      "Lasso\n",
      "-0.9126082455298523\n",
      "220.52400422134468\n"
     ]
    }
   ],
   "source": [
    "lr = LinearRegression()\n",
    "rid = Ridge()\n",
    "las = Lasso()\n",
    "\n",
    "models = [lr, rid, las]\n",
    "\n",
    "for model in models:\n",
    "    \n",
    "    model.fit(x_train_scaled, y_train)\n",
    "    preds = model.predict(x_test_scaled)\n",
    "    \n",
    "    print(model.__class__.__name__)\n",
    "    print(r2_score(y_test, preds))\n",
    "    print(np.sqrt(mean_squared_error(y_test, preds)))"
   ]
  },
  {
   "cell_type": "code",
   "execution_count": null,
   "id": "20356f54",
   "metadata": {},
   "outputs": [],
   "source": []
  },
  {
   "cell_type": "code",
   "execution_count": null,
   "id": "43fb2896",
   "metadata": {},
   "outputs": [],
   "source": [
    "# 주가 변동폭 예측"
   ]
  },
  {
   "cell_type": "code",
   "execution_count": 181,
   "id": "ef084f11",
   "metadata": {},
   "outputs": [
    {
     "data": {
      "text/html": [
       "<div>\n",
       "<style scoped>\n",
       "    .dataframe tbody tr th:only-of-type {\n",
       "        vertical-align: middle;\n",
       "    }\n",
       "\n",
       "    .dataframe tbody tr th {\n",
       "        vertical-align: top;\n",
       "    }\n",
       "\n",
       "    .dataframe thead th {\n",
       "        text-align: right;\n",
       "    }\n",
       "</style>\n",
       "<table border=\"1\" class=\"dataframe\">\n",
       "  <thead>\n",
       "    <tr style=\"text-align: right;\">\n",
       "      <th></th>\n",
       "      <th>date</th>\n",
       "      <th>tesla</th>\n",
       "      <th>tesla_거래량</th>\n",
       "      <th>tesla_volatility</th>\n",
       "      <th>elec_fee</th>\n",
       "      <th>oli_price</th>\n",
       "      <th>oli_price_volatility</th>\n",
       "      <th>carbon_credits</th>\n",
       "      <th>carbon_credits_volatility</th>\n",
       "      <th>EVE종가</th>\n",
       "      <th>...</th>\n",
       "      <th>alu_price</th>\n",
       "      <th>alu_vol</th>\n",
       "      <th>alu_change</th>\n",
       "      <th>cu_price</th>\n",
       "      <th>cu_change</th>\n",
       "      <th>REGI_price</th>\n",
       "      <th>REGI_vol</th>\n",
       "      <th>REGI_change</th>\n",
       "      <th>검색량</th>\n",
       "      <th>updown</th>\n",
       "    </tr>\n",
       "  </thead>\n",
       "  <tbody>\n",
       "    <tr>\n",
       "      <th>0</th>\n",
       "      <td>2015-01-02</td>\n",
       "      <td>43.86</td>\n",
       "      <td>23820.0</td>\n",
       "      <td>-1.39</td>\n",
       "      <td>6.67</td>\n",
       "      <td>52.69</td>\n",
       "      <td>-3.44</td>\n",
       "      <td>7.01</td>\n",
       "      <td>-3.31</td>\n",
       "      <td>13.38</td>\n",
       "      <td>...</td>\n",
       "      <td>1828.00</td>\n",
       "      <td>31.38</td>\n",
       "      <td>-1.12</td>\n",
       "      <td>6250.25</td>\n",
       "      <td>-0.55</td>\n",
       "      <td>9.79</td>\n",
       "      <td>436.60</td>\n",
       "      <td>0.82</td>\n",
       "      <td>22</td>\n",
       "      <td>0</td>\n",
       "    </tr>\n",
       "    <tr>\n",
       "      <th>1</th>\n",
       "      <td>2015-01-05</td>\n",
       "      <td>42.02</td>\n",
       "      <td>26840.0</td>\n",
       "      <td>-4.20</td>\n",
       "      <td>6.67</td>\n",
       "      <td>50.04</td>\n",
       "      <td>-5.03</td>\n",
       "      <td>6.90</td>\n",
       "      <td>-1.57</td>\n",
       "      <td>13.38</td>\n",
       "      <td>...</td>\n",
       "      <td>1812.25</td>\n",
       "      <td>43.25</td>\n",
       "      <td>-0.86</td>\n",
       "      <td>6142.00</td>\n",
       "      <td>-1.73</td>\n",
       "      <td>9.55</td>\n",
       "      <td>481.67</td>\n",
       "      <td>-2.45</td>\n",
       "      <td>19</td>\n",
       "      <td>0</td>\n",
       "    </tr>\n",
       "    <tr>\n",
       "      <th>2</th>\n",
       "      <td>2015-01-06</td>\n",
       "      <td>42.26</td>\n",
       "      <td>31310.0</td>\n",
       "      <td>0.57</td>\n",
       "      <td>6.67</td>\n",
       "      <td>47.93</td>\n",
       "      <td>-4.22</td>\n",
       "      <td>6.77</td>\n",
       "      <td>-1.88</td>\n",
       "      <td>13.89</td>\n",
       "      <td>...</td>\n",
       "      <td>1780.25</td>\n",
       "      <td>56.01</td>\n",
       "      <td>-1.77</td>\n",
       "      <td>6131.00</td>\n",
       "      <td>-0.18</td>\n",
       "      <td>9.12</td>\n",
       "      <td>534.76</td>\n",
       "      <td>-4.50</td>\n",
       "      <td>23</td>\n",
       "      <td>1</td>\n",
       "    </tr>\n",
       "  </tbody>\n",
       "</table>\n",
       "<p>3 rows × 47 columns</p>\n",
       "</div>"
      ],
      "text/plain": [
       "         date  tesla  tesla_거래량  tesla_volatility  elec_fee  oli_price  \\\n",
       "0  2015-01-02  43.86    23820.0             -1.39      6.67      52.69   \n",
       "1  2015-01-05  42.02    26840.0             -4.20      6.67      50.04   \n",
       "2  2015-01-06  42.26    31310.0              0.57      6.67      47.93   \n",
       "\n",
       "   oli_price_volatility  carbon_credits  carbon_credits_volatility  EVE종가  \\\n",
       "0                 -3.44            7.01                      -3.31  13.38   \n",
       "1                 -5.03            6.90                      -1.57  13.38   \n",
       "2                 -4.22            6.77                      -1.88  13.89   \n",
       "\n",
       "   ...  alu_price  alu_vol  alu_change  cu_price  cu_change  REGI_price  \\\n",
       "0  ...    1828.00    31.38       -1.12   6250.25      -0.55        9.79   \n",
       "1  ...    1812.25    43.25       -0.86   6142.00      -1.73        9.55   \n",
       "2  ...    1780.25    56.01       -1.77   6131.00      -0.18        9.12   \n",
       "\n",
       "   REGI_vol  REGI_change  검색량  updown  \n",
       "0    436.60         0.82   22       0  \n",
       "1    481.67        -2.45   19       0  \n",
       "2    534.76        -4.50   23       1  \n",
       "\n",
       "[3 rows x 47 columns]"
      ]
     },
     "execution_count": 181,
     "metadata": {},
     "output_type": "execute_result"
    }
   ],
   "source": [
    "df.head(3)"
   ]
  },
  {
   "cell_type": "code",
   "execution_count": 182,
   "id": "9bf8b9e1",
   "metadata": {},
   "outputs": [],
   "source": [
    "y = df_2019.tesla_volatility[1:]\n",
    "x = df_2019.drop(['tesla', 'tesla_volatility', 'updown', 'date'], axis=1)[:-1]"
   ]
  },
  {
   "cell_type": "code",
   "execution_count": 183,
   "id": "34c68aa1",
   "metadata": {},
   "outputs": [],
   "source": [
    "x_train = x[:640]\n",
    "x_test = x[640:]\n",
    "y_train = y[:640]\n",
    "y_test = y[640:]"
   ]
  },
  {
   "cell_type": "code",
   "execution_count": 184,
   "id": "e7cd4a1b",
   "metadata": {},
   "outputs": [
    {
     "name": "stdout",
     "output_type": "stream",
     "text": [
      "LinearRegression\n",
      "-0.6084822732046429\n",
      "4.533331475888572\n",
      "Ridge\n",
      "-3.4420810055863376\n",
      "7.533600274658203\n",
      "Lasso\n",
      "-0.004359247047302839\n",
      "3.5822333883820123\n"
     ]
    }
   ],
   "source": [
    "lr = LinearRegression()\n",
    "rid = Ridge()\n",
    "las = Lasso()\n",
    "\n",
    "models = [lr, rid, las]\n",
    "\n",
    "for model in models:\n",
    "    \n",
    "    model.fit(x_train_scaled, y_train)\n",
    "    preds = model.predict(x_test_scaled)\n",
    "    \n",
    "    print(model.__class__.__name__)\n",
    "    print(r2_score(y_test, preds))\n",
    "    print(np.sqrt(mean_squared_error(y_test, preds)))"
   ]
  },
  {
   "cell_type": "code",
   "execution_count": null,
   "id": "2aa6c0ca",
   "metadata": {},
   "outputs": [],
   "source": []
  },
  {
   "cell_type": "code",
   "execution_count": 185,
   "id": "2c5b33d4",
   "metadata": {},
   "outputs": [],
   "source": [
    "from sklearn.preprocessing import StandardScaler"
   ]
  },
  {
   "cell_type": "code",
   "execution_count": 186,
   "id": "edc9e0ee",
   "metadata": {},
   "outputs": [],
   "source": [
    "scaler = StandardScaler()"
   ]
  },
  {
   "cell_type": "code",
   "execution_count": 187,
   "id": "8050959c",
   "metadata": {},
   "outputs": [
    {
     "data": {
      "text/plain": [
       "StandardScaler()"
      ]
     },
     "execution_count": 187,
     "metadata": {},
     "output_type": "execute_result"
    }
   ],
   "source": [
    "scaler.fit(x_train)"
   ]
  },
  {
   "cell_type": "code",
   "execution_count": 188,
   "id": "efd0fa2d",
   "metadata": {},
   "outputs": [],
   "source": [
    "x_train_scaled = scaler.transform(x_train)\n",
    "x_test_scaled = scaler.transform(x_test)"
   ]
  },
  {
   "cell_type": "code",
   "execution_count": null,
   "id": "105d6170",
   "metadata": {},
   "outputs": [],
   "source": []
  },
  {
   "cell_type": "code",
   "execution_count": 189,
   "id": "1651a0f3",
   "metadata": {},
   "outputs": [
    {
     "name": "stdout",
     "output_type": "stream",
     "text": [
      "LinearRegression\n",
      "-0.6084822732046429\n",
      "4.533331475888572\n",
      "Ridge\n",
      "-3.4420810055863376\n",
      "7.533600274658203\n",
      "Lasso\n",
      "-0.004359247047302839\n",
      "3.5822333883820123\n"
     ]
    }
   ],
   "source": [
    "lr = LinearRegression()\n",
    "rid = Ridge()\n",
    "las = Lasso()\n",
    "\n",
    "models = [lr, rid, las]\n",
    "\n",
    "for model in models:\n",
    "    \n",
    "    model.fit(x_train_scaled, y_train)\n",
    "    preds = model.predict(x_test_scaled)\n",
    "    \n",
    "    print(model.__class__.__name__)\n",
    "    print(r2_score(y_test, preds))\n",
    "    print(np.sqrt(mean_squared_error(y_test, preds)))"
   ]
  },
  {
   "cell_type": "code",
   "execution_count": null,
   "id": "0d4bacb6",
   "metadata": {},
   "outputs": [],
   "source": []
  },
  {
   "cell_type": "code",
   "execution_count": 335,
   "id": "00bc7dfa",
   "metadata": {},
   "outputs": [],
   "source": [
    "from sklearn.preprocessing import LabelEncoder"
   ]
  },
  {
   "cell_type": "code",
   "execution_count": 339,
   "id": "05d7f587",
   "metadata": {},
   "outputs": [],
   "source": [
    "le = LabelEncoder()\n",
    "le.fit(df.date)\n",
    "df.date = le.transform(df.date)"
   ]
  },
  {
   "cell_type": "code",
   "execution_count": 224,
   "id": "c265eed3",
   "metadata": {},
   "outputs": [],
   "source": [
    "# classification을통한 주가 상승/하락 예측"
   ]
  },
  {
   "cell_type": "code",
   "execution_count": 398,
   "id": "f13c0446",
   "metadata": {},
   "outputs": [],
   "source": [
    "df = pd.read_csv('prepro_data/최종+재무제표.csv', index_col=0)"
   ]
  },
  {
   "cell_type": "code",
   "execution_count": 399,
   "id": "e5524954",
   "metadata": {},
   "outputs": [
    {
     "data": {
      "text/html": [
       "<div>\n",
       "<style scoped>\n",
       "    .dataframe tbody tr th:only-of-type {\n",
       "        vertical-align: middle;\n",
       "    }\n",
       "\n",
       "    .dataframe tbody tr th {\n",
       "        vertical-align: top;\n",
       "    }\n",
       "\n",
       "    .dataframe thead th {\n",
       "        text-align: right;\n",
       "    }\n",
       "</style>\n",
       "<table border=\"1\" class=\"dataframe\">\n",
       "  <thead>\n",
       "    <tr style=\"text-align: right;\">\n",
       "      <th></th>\n",
       "      <th>date</th>\n",
       "      <th>tesla</th>\n",
       "      <th>tesla_거래량</th>\n",
       "      <th>tesla_volatility</th>\n",
       "      <th>elec_fee</th>\n",
       "      <th>oli_price</th>\n",
       "      <th>oli_price_volatility</th>\n",
       "      <th>carbon_credits</th>\n",
       "      <th>carbon_credits_volatility</th>\n",
       "      <th>EVE종가</th>\n",
       "      <th>...</th>\n",
       "      <th>매출원가</th>\n",
       "      <th>매출총이익</th>\n",
       "      <th>영업이익</th>\n",
       "      <th>순이익</th>\n",
       "      <th>자산총계</th>\n",
       "      <th>매출총이익률</th>\n",
       "      <th>영업이익률</th>\n",
       "      <th>주당순이익EPS(달러)</th>\n",
       "      <th>주가수익배수PER(배)</th>\n",
       "      <th>총자산이익률ROA(%)</th>\n",
       "    </tr>\n",
       "  </thead>\n",
       "  <tbody>\n",
       "    <tr>\n",
       "      <th>0</th>\n",
       "      <td>2015-03-31</td>\n",
       "      <td>37.75</td>\n",
       "      <td>25130.0</td>\n",
       "      <td>-0.94</td>\n",
       "      <td>6.83</td>\n",
       "      <td>47.60</td>\n",
       "      <td>-2.22</td>\n",
       "      <td>6.92</td>\n",
       "      <td>0.58</td>\n",
       "      <td>20.09</td>\n",
       "      <td>...</td>\n",
       "      <td>2531.000000</td>\n",
       "      <td>987.0</td>\n",
       "      <td>-245.000000</td>\n",
       "      <td>-398.000000</td>\n",
       "      <td>6120.000000</td>\n",
       "      <td>28.055713</td>\n",
       "      <td>-6.964184</td>\n",
       "      <td>-0.640000</td>\n",
       "      <td>-59.590000</td>\n",
       "      <td>-7.100000</td>\n",
       "    </tr>\n",
       "    <tr>\n",
       "      <th>1</th>\n",
       "      <td>2015-04-01</td>\n",
       "      <td>37.52</td>\n",
       "      <td>18970.0</td>\n",
       "      <td>-0.61</td>\n",
       "      <td>6.61</td>\n",
       "      <td>50.09</td>\n",
       "      <td>5.23</td>\n",
       "      <td>7.14</td>\n",
       "      <td>3.18</td>\n",
       "      <td>21.49</td>\n",
       "      <td>...</td>\n",
       "      <td>2533.936508</td>\n",
       "      <td>987.0</td>\n",
       "      <td>-247.253968</td>\n",
       "      <td>-399.952381</td>\n",
       "      <td>6125.523810</td>\n",
       "      <td>28.033465</td>\n",
       "      <td>-7.019530</td>\n",
       "      <td>-0.643016</td>\n",
       "      <td>-59.677778</td>\n",
       "      <td>-7.125397</td>\n",
       "    </tr>\n",
       "    <tr>\n",
       "      <th>2</th>\n",
       "      <td>2015-04-02</td>\n",
       "      <td>38.20</td>\n",
       "      <td>25050.0</td>\n",
       "      <td>1.81</td>\n",
       "      <td>6.61</td>\n",
       "      <td>49.14</td>\n",
       "      <td>-1.90</td>\n",
       "      <td>7.15</td>\n",
       "      <td>0.14</td>\n",
       "      <td>21.66</td>\n",
       "      <td>...</td>\n",
       "      <td>2536.873016</td>\n",
       "      <td>987.0</td>\n",
       "      <td>-249.507937</td>\n",
       "      <td>-401.904762</td>\n",
       "      <td>6131.047619</td>\n",
       "      <td>28.011217</td>\n",
       "      <td>-7.074876</td>\n",
       "      <td>-0.646032</td>\n",
       "      <td>-59.765556</td>\n",
       "      <td>-7.150794</td>\n",
       "    </tr>\n",
       "  </tbody>\n",
       "</table>\n",
       "<p>3 rows × 58 columns</p>\n",
       "</div>"
      ],
      "text/plain": [
       "         date  tesla  tesla_거래량  tesla_volatility  elec_fee  oli_price  \\\n",
       "0  2015-03-31  37.75    25130.0             -0.94      6.83      47.60   \n",
       "1  2015-04-01  37.52    18970.0             -0.61      6.61      50.09   \n",
       "2  2015-04-02  38.20    25050.0              1.81      6.61      49.14   \n",
       "\n",
       "   oli_price_volatility  carbon_credits  carbon_credits_volatility  EVE종가  \\\n",
       "0                 -2.22            6.92                       0.58  20.09   \n",
       "1                  5.23            7.14                       3.18  21.49   \n",
       "2                 -1.90            7.15                       0.14  21.66   \n",
       "\n",
       "   ...         매출원가  매출총이익        영업이익         순이익         자산총계     매출총이익률  \\\n",
       "0  ...  2531.000000  987.0 -245.000000 -398.000000  6120.000000  28.055713   \n",
       "1  ...  2533.936508  987.0 -247.253968 -399.952381  6125.523810  28.033465   \n",
       "2  ...  2536.873016  987.0 -249.507937 -401.904762  6131.047619  28.011217   \n",
       "\n",
       "      영업이익률  주당순이익EPS(달러)  주가수익배수PER(배)  총자산이익률ROA(%)  \n",
       "0 -6.964184     -0.640000    -59.590000     -7.100000  \n",
       "1 -7.019530     -0.643016    -59.677778     -7.125397  \n",
       "2 -7.074876     -0.646032    -59.765556     -7.150794  \n",
       "\n",
       "[3 rows x 58 columns]"
      ]
     },
     "execution_count": 399,
     "metadata": {},
     "output_type": "execute_result"
    }
   ],
   "source": [
    "df.head(3)"
   ]
  },
  {
   "cell_type": "code",
   "execution_count": 425,
   "id": "17a5098b",
   "metadata": {},
   "outputs": [],
   "source": [
    "y = df.updown[1:]\n",
    "x = df.drop(['date', 'updown'], axis=1)[:-1]"
   ]
  },
  {
   "cell_type": "code",
   "execution_count": null,
   "id": "c8486c6d",
   "metadata": {},
   "outputs": [],
   "source": []
  },
  {
   "cell_type": "code",
   "execution_count": 403,
   "id": "ea38f823",
   "metadata": {},
   "outputs": [],
   "source": [
    "x_train = x[:1444]\n",
    "x_test = x[1444:]\n",
    "y_train = y[:1444]\n",
    "y_test = y[1444:]"
   ]
  },
  {
   "cell_type": "code",
   "execution_count": 404,
   "id": "4a9c7c5a",
   "metadata": {},
   "outputs": [],
   "source": [
    "from sklearn.linear_model import LogisticRegression\n",
    "from sklearn.ensemble import RandomForestClassifier, GradientBoostingClassifier\n",
    "from sklearn.metrics import classification_report, accuracy_score, roc_auc_score\n",
    "from sklearn import svm\n",
    "from lightgbm import LGBMClassifier\n",
    "import xgboost as xgb"
   ]
  },
  {
   "cell_type": "code",
   "execution_count": 405,
   "id": "1e5b82af",
   "metadata": {},
   "outputs": [
    {
     "name": "stdout",
     "output_type": "stream",
     "text": [
      "LogisticRegression\n",
      "accuracy_score : 0.5248618784530387\n",
      "roc_auc_score : 0.49491785659450327\n",
      "RandomForestClassifier\n",
      "accuracy_score : 0.4889502762430939\n",
      "roc_auc_score : 0.4951174573929065\n",
      "SVC\n",
      "accuracy_score : 0.5386740331491713\n",
      "roc_auc_score : 0.5\n",
      "LGBMClassifier\n",
      "accuracy_score : 0.5469613259668509\n",
      "roc_auc_score : 0.5201596806387225\n",
      "GradientBoostingClassifier\n",
      "accuracy_score : 0.5662983425414365\n",
      "roc_auc_score : 0.5385383079993858\n",
      "[17:47:24] WARNING: C:/Users/Administrator/workspace/xgboost-win64_release_1.5.1/src/learner.cc:1115: Starting in XGBoost 1.3.0, the default evaluation metric used with the objective 'binary:logistic' was changed from 'error' to 'logloss'. Explicitly set eval_metric if you'd like to restore the old behavior.\n"
     ]
    },
    {
     "name": "stderr",
     "output_type": "stream",
     "text": [
      "C:\\Users\\bitcamp\\anaconda3\\lib\\site-packages\\xgboost\\sklearn.py:1224: UserWarning:\n",
      "\n",
      "The use of label encoder in XGBClassifier is deprecated and will be removed in a future release. To remove this warning, do the following: 1) Pass option use_label_encoder=False when constructing XGBClassifier object; and 2) Encode your labels (y) as integers starting with 0, i.e. 0, 1, 2, ..., [num_class - 1].\n",
      "\n"
     ]
    },
    {
     "name": "stdout",
     "output_type": "stream",
     "text": [
      "XGBClassifier\n",
      "accuracy_score : 0.5414364640883977\n",
      "roc_auc_score : 0.5369568555197298\n"
     ]
    }
   ],
   "source": [
    "lg = LogisticRegression()\n",
    "rfc = RandomForestClassifier()\n",
    "svc = svm.SVC()\n",
    "lgbm = LGBMClassifier(n_estimators=400)\n",
    "gbs = GradientBoostingClassifier(n_estimators=400)\n",
    "clf = xgb.XGBClassifier()\n",
    "\n",
    "\n",
    "\n",
    "models = [lg, rfc, svc, lgbm, gbs, clf]\n",
    "\n",
    "for model in models:\n",
    "    model.fit(x_train, y_train)\n",
    "    preds = model.predict(x_test)\n",
    "    print(model.__class__.__name__)\n",
    "    print('accuracy_score :', accuracy_score(y_test, preds))\n",
    "    print('roc_auc_score :', roc_auc_score(y_test, preds))\n",
    "    #print('classification_report :', classification_report(y_test, preds)) "
   ]
  },
  {
   "cell_type": "code",
   "execution_count": 372,
   "id": "d536118b",
   "metadata": {},
   "outputs": [],
   "source": [
    "params = {\n",
    "    'max_depth': [2, 3],\n",
    "    'min_samples_split': [2, 3]\n",
    "}"
   ]
  },
  {
   "cell_type": "code",
   "execution_count": null,
   "id": "fb2130f1",
   "metadata": {},
   "outputs": [],
   "source": [
    "# 스케일링 후 예측"
   ]
  },
  {
   "cell_type": "code",
   "execution_count": 141,
   "id": "27d3445d",
   "metadata": {},
   "outputs": [],
   "source": [
    "from sklearn.preprocessing import StandardScaler"
   ]
  },
  {
   "cell_type": "code",
   "execution_count": 142,
   "id": "18dfe661",
   "metadata": {},
   "outputs": [],
   "source": [
    "scaler = StandardScaler()"
   ]
  },
  {
   "cell_type": "code",
   "execution_count": 143,
   "id": "0d976419",
   "metadata": {},
   "outputs": [
    {
     "data": {
      "text/plain": [
       "StandardScaler()"
      ]
     },
     "execution_count": 143,
     "metadata": {},
     "output_type": "execute_result"
    }
   ],
   "source": [
    "scaler.fit(x_train)"
   ]
  },
  {
   "cell_type": "code",
   "execution_count": 144,
   "id": "1eeafddd",
   "metadata": {},
   "outputs": [],
   "source": [
    "x_train_scaled = scaler.transform(x_train)\n",
    "x_test_scaled = scaler.transform(x_test)"
   ]
  },
  {
   "cell_type": "code",
   "execution_count": 146,
   "id": "e33f4436",
   "metadata": {
    "collapsed": true
   },
   "outputs": [
    {
     "name": "stdout",
     "output_type": "stream",
     "text": [
      "LogisticRegression\n",
      "accuracy_score : 0.47643979057591623\n",
      "roc_auc_score : 0.505047440423654\n",
      "RandomForestClassifier\n",
      "accuracy_score : 0.5314136125654451\n",
      "roc_auc_score : 0.4960282436010591\n",
      "SVC\n",
      "accuracy_score : 0.5392670157068062\n",
      "roc_auc_score : 0.5\n",
      "LGBMClassifier\n",
      "accuracy_score : 0.5418848167539267\n",
      "roc_auc_score : 0.5111154015887025\n",
      "GradientBoostingClassifier\n",
      "accuracy_score : 0.5314136125654451\n",
      "roc_auc_score : 0.5105086054721977\n",
      "[15:52:36] WARNING: C:/Users/Administrator/workspace/xgboost-win64_release_1.5.1/src/learner.cc:1115: Starting in XGBoost 1.3.0, the default evaluation metric used with the objective 'binary:logistic' was changed from 'error' to 'logloss'. Explicitly set eval_metric if you'd like to restore the old behavior.\n"
     ]
    },
    {
     "name": "stderr",
     "output_type": "stream",
     "text": [
      "C:\\Users\\bitcamp\\anaconda3\\lib\\site-packages\\xgboost\\sklearn.py:1224: UserWarning:\n",
      "\n",
      "The use of label encoder in XGBClassifier is deprecated and will be removed in a future release. To remove this warning, do the following: 1) Pass option use_label_encoder=False when constructing XGBClassifier object; and 2) Encode your labels (y) as integers starting with 0, i.e. 0, 1, 2, ..., [num_class - 1].\n",
      "\n"
     ]
    },
    {
     "name": "stdout",
     "output_type": "stream",
     "text": [
      "XGBClassifier\n",
      "accuracy_score : 0.5759162303664922\n",
      "roc_auc_score : 0.5534256398940864\n"
     ]
    }
   ],
   "source": [
    "for model in models:\n",
    "    model.fit(x_train_scaled, y_train)\n",
    "    preds = model.predict(x_test_scaled)\n",
    "    print(model.__class__.__name__)\n",
    "    print('accuracy_score :', accuracy_score(y_test, preds))\n",
    "    print('roc_auc_score :', roc_auc_score(y_test, preds))"
   ]
  },
  {
   "cell_type": "code",
   "execution_count": null,
   "id": "997bab4a",
   "metadata": {},
   "outputs": [],
   "source": [
    "# GridSearch를 사용하여 최적의 값 검색"
   ]
  },
  {
   "cell_type": "code",
   "execution_count": 194,
   "id": "13a02bb1",
   "metadata": {},
   "outputs": [],
   "source": [
    "from sklearn.model_selection import GridSearchCV, KFold"
   ]
  },
  {
   "cell_type": "code",
   "execution_count": 205,
   "id": "a96157d3",
   "metadata": {},
   "outputs": [],
   "source": [
    "param_grid={'booster' :['gbtree'],\n",
    "                 'max_depth':[5,6,8,10,12],\n",
    "                 'min_child_weight':[1,3,5],\n",
    "                 'gamma':[0,1,2,3],\n",
    "                 'nthread':[4],\n",
    "                 'colsample_bytree':[0.5,0.8],\n",
    "                 'colsample_bylevel':[0.9],\n",
    "                 'n_estimators':[50, 100, 150, 200, 250, 300, 350, 400],\n",
    "                 'objective':['binary:logistic'],\n",
    "                 'random_state':[2]}\n"
   ]
  },
  {
   "cell_type": "code",
   "execution_count": 206,
   "id": "2a942577",
   "metadata": {},
   "outputs": [
    {
     "name": "stdout",
     "output_type": "stream",
     "text": [
      "[16:41:20] WARNING: C:/Users/Administrator/workspace/xgboost-win64_release_1.5.1/src/learner.cc:1115: Starting in XGBoost 1.3.0, the default evaluation metric used with the objective 'binary:logistic' was changed from 'error' to 'logloss'. Explicitly set eval_metric if you'd like to restore the old behavior.\n",
      "final params {'booster': 'gbtree', 'colsample_bylevel': 0.9, 'colsample_bytree': 0.5, 'gamma': 1, 'max_depth': 6, 'min_child_weight': 3, 'n_estimators': 350, 'nthread': 4, 'objective': 'binary:logistic', 'random_state': 2}\n",
      "best score 0.5989638590672023\n"
     ]
    }
   ],
   "source": [
    "# 3번\n",
    "cv=KFold()\n",
    "\n",
    "# 4번\n",
    "gcv=GridSearchCV(clf, param_grid=param_grid, cv=cv, scoring='f1', n_jobs=4)\n",
    "\n",
    "# 5번\n",
    "gcv.fit(x_train, y_train)\n",
    "print('final params', gcv.best_params_)   # 최적의 파라미터 값 출력\n",
    "print('best score', gcv.best_score_) \n",
    "\n",
    "\n"
   ]
  },
  {
   "cell_type": "code",
   "execution_count": 211,
   "id": "eace50c3",
   "metadata": {},
   "outputs": [],
   "source": [
    "preds = em.predict(x_test)"
   ]
  },
  {
   "cell_type": "code",
   "execution_count": 237,
   "id": "c61158a3",
   "metadata": {},
   "outputs": [
    {
     "name": "stdout",
     "output_type": "stream",
     "text": [
      "              precision    recall  f1-score   support\n",
      "\n",
      "           0       0.55      0.35      0.43       176\n",
      "           1       0.58      0.76      0.65       206\n",
      "\n",
      "    accuracy                           0.57       382\n",
      "   macro avg       0.56      0.55      0.54       382\n",
      "weighted avg       0.56      0.57      0.55       382\n",
      "\n"
     ]
    }
   ],
   "source": [
    "print(classification_report(y_test, preds))"
   ]
  },
  {
   "cell_type": "code",
   "execution_count": 391,
   "id": "c7813722",
   "metadata": {},
   "outputs": [],
   "source": [
    "sorted_idx = clf.feature_importances_.argsort()"
   ]
  },
  {
   "cell_type": "code",
   "execution_count": null,
   "id": "2b1e6932",
   "metadata": {},
   "outputs": [],
   "source": []
  },
  {
   "cell_type": "code",
   "execution_count": 396,
   "id": "3cc8fc93",
   "metadata": {
    "scrolled": true
   },
   "outputs": [
    {
     "data": {
      "text/plain": [
       "array([ 0, 24, 25, 26, 27, 28, 29, 30, 31, 32, 33, 34, 35, 36, 37, 38, 39,\n",
       "       40, 41, 42, 23, 43, 22, 20,  1,  3,  4,  5,  6,  7,  8,  9, 21, 10,\n",
       "       12, 13, 14, 15, 16, 17, 18, 19, 11, 44,  2], dtype=int64)"
      ]
     },
     "execution_count": 396,
     "metadata": {},
     "output_type": "execute_result"
    }
   ],
   "source": [
    "sorted_idx"
   ]
  },
  {
   "cell_type": "code",
   "execution_count": 397,
   "id": "de9ba2dd",
   "metadata": {
    "scrolled": true
   },
   "outputs": [
    {
     "data": {
      "text/plain": [
       "Index(['date', 'SGL변동률', 'li_price', 'co', 'co_volatility', '희토류가격', 'nasdaq',\n",
       "       'nasdaq_거래량', 'nasdaq_volatility', 'ssec', 'ssec_거래량',\n",
       "       'ssec_volatility', 'dollar', 'dollar_volatility', 'alu_price',\n",
       "       'alu_vol', 'alu_change', 'cu_price', 'cu_change', 'REGI_price', 'SGL종가',\n",
       "       'REGI_vol', 'LIT거래량', 'SOXL거래량', 'tesla', 'tesla_volatility',\n",
       "       'elec_fee', 'oli_price', 'oli_price_volatility', 'carbon_credits',\n",
       "       'carbon_credits_volatility', 'EVE종가', 'LIT조정종가', 'EVE거래량', 'BYD종가',\n",
       "       'BYD거래량', 'BYD변동률', 'PSI종가', 'PSI거래량', 'SOXX종가', 'SOXX거래량', 'SOXL종가',\n",
       "       'EVE변동률', 'REGI_change', 'tesla_거래량'],\n",
       "      dtype='object')"
      ]
     },
     "execution_count": 397,
     "metadata": {},
     "output_type": "execute_result"
    }
   ],
   "source": [
    "df.iloc[:, sorted_idx].columns"
   ]
  },
  {
   "cell_type": "code",
   "execution_count": 428,
   "id": "5e6a28a0",
   "metadata": {},
   "outputs": [
    {
     "data": {
      "text/html": [
       "<div>\n",
       "<style scoped>\n",
       "    .dataframe tbody tr th:only-of-type {\n",
       "        vertical-align: middle;\n",
       "    }\n",
       "\n",
       "    .dataframe tbody tr th {\n",
       "        vertical-align: top;\n",
       "    }\n",
       "\n",
       "    .dataframe thead th {\n",
       "        text-align: right;\n",
       "    }\n",
       "</style>\n",
       "<table border=\"1\" class=\"dataframe\">\n",
       "  <thead>\n",
       "    <tr style=\"text-align: right;\">\n",
       "      <th></th>\n",
       "      <th>tesla</th>\n",
       "      <th>tesla_거래량</th>\n",
       "      <th>tesla_volatility</th>\n",
       "      <th>elec_fee</th>\n",
       "      <th>oli_price</th>\n",
       "    </tr>\n",
       "  </thead>\n",
       "  <tbody>\n",
       "    <tr>\n",
       "      <th>0</th>\n",
       "      <td>37.75</td>\n",
       "      <td>25130.0</td>\n",
       "      <td>-0.94</td>\n",
       "      <td>6.83</td>\n",
       "      <td>47.60</td>\n",
       "    </tr>\n",
       "    <tr>\n",
       "      <th>1</th>\n",
       "      <td>37.52</td>\n",
       "      <td>18970.0</td>\n",
       "      <td>-0.61</td>\n",
       "      <td>6.61</td>\n",
       "      <td>50.09</td>\n",
       "    </tr>\n",
       "    <tr>\n",
       "      <th>2</th>\n",
       "      <td>38.20</td>\n",
       "      <td>25050.0</td>\n",
       "      <td>1.81</td>\n",
       "      <td>6.61</td>\n",
       "      <td>49.14</td>\n",
       "    </tr>\n",
       "    <tr>\n",
       "      <th>3</th>\n",
       "      <td>40.62</td>\n",
       "      <td>62280.0</td>\n",
       "      <td>6.34</td>\n",
       "      <td>6.61</td>\n",
       "      <td>52.14</td>\n",
       "    </tr>\n",
       "    <tr>\n",
       "      <th>4</th>\n",
       "      <td>40.65</td>\n",
       "      <td>21740.0</td>\n",
       "      <td>0.07</td>\n",
       "      <td>6.61</td>\n",
       "      <td>53.98</td>\n",
       "    </tr>\n",
       "    <tr>\n",
       "      <th>...</th>\n",
       "      <td>...</td>\n",
       "      <td>...</td>\n",
       "      <td>...</td>\n",
       "      <td>...</td>\n",
       "      <td>...</td>\n",
       "    </tr>\n",
       "    <tr>\n",
       "      <th>1801</th>\n",
       "      <td>809.87</td>\n",
       "      <td>25360.0</td>\n",
       "      <td>1.14</td>\n",
       "      <td>7.16</td>\n",
       "      <td>91.59</td>\n",
       "    </tr>\n",
       "    <tr>\n",
       "      <th>1802</th>\n",
       "      <td>870.43</td>\n",
       "      <td>32770.0</td>\n",
       "      <td>7.48</td>\n",
       "      <td>7.16</td>\n",
       "      <td>95.72</td>\n",
       "    </tr>\n",
       "    <tr>\n",
       "      <th>1803</th>\n",
       "      <td>864.37</td>\n",
       "      <td>24720.0</td>\n",
       "      <td>-0.70</td>\n",
       "      <td>7.16</td>\n",
       "      <td>103.41</td>\n",
       "    </tr>\n",
       "    <tr>\n",
       "      <th>1804</th>\n",
       "      <td>879.89</td>\n",
       "      <td>24650.0</td>\n",
       "      <td>1.80</td>\n",
       "      <td>7.16</td>\n",
       "      <td>110.60</td>\n",
       "    </tr>\n",
       "    <tr>\n",
       "      <th>1805</th>\n",
       "      <td>839.29</td>\n",
       "      <td>20260.0</td>\n",
       "      <td>-4.61</td>\n",
       "      <td>7.16</td>\n",
       "      <td>107.67</td>\n",
       "    </tr>\n",
       "  </tbody>\n",
       "</table>\n",
       "<p>1806 rows × 5 columns</p>\n",
       "</div>"
      ],
      "text/plain": [
       "       tesla  tesla_거래량  tesla_volatility  elec_fee  oli_price\n",
       "0      37.75    25130.0             -0.94      6.83      47.60\n",
       "1      37.52    18970.0             -0.61      6.61      50.09\n",
       "2      38.20    25050.0              1.81      6.61      49.14\n",
       "3      40.62    62280.0              6.34      6.61      52.14\n",
       "4      40.65    21740.0              0.07      6.61      53.98\n",
       "...      ...        ...               ...       ...        ...\n",
       "1801  809.87    25360.0              1.14      7.16      91.59\n",
       "1802  870.43    32770.0              7.48      7.16      95.72\n",
       "1803  864.37    24720.0             -0.70      7.16     103.41\n",
       "1804  879.89    24650.0              1.80      7.16     110.60\n",
       "1805  839.29    20260.0             -4.61      7.16     107.67\n",
       "\n",
       "[1806 rows x 5 columns]"
      ]
     },
     "execution_count": 428,
     "metadata": {},
     "output_type": "execute_result"
    }
   ],
   "source": [
    "x.loc[:, columns_li[0]]\n",
    "\n",
    "for model in models:\n",
    "    model.fit(x_train, y_train)\n",
    "    preds = model.predict(x_test)\n",
    "    print(model.__class__.__name__)\n",
    "    print('accuracy_score :', accuracy_score(y_test, preds))\n",
    "    print('roc_auc_score :', roc_auc_score(y_test, preds))"
   ]
  },
  {
   "cell_type": "code",
   "execution_count": 422,
   "id": "e769b53f",
   "metadata": {},
   "outputs": [],
   "source": [
    "from itertools import combinations"
   ]
  },
  {
   "cell_type": "code",
   "execution_count": 427,
   "id": "e000328e",
   "metadata": {},
   "outputs": [],
   "source": [
    "columns_li = list(combinations(x.columns, 5))"
   ]
  },
  {
   "cell_type": "code",
   "execution_count": null,
   "id": "60dc71ad",
   "metadata": {},
   "outputs": [],
   "source": [
    "for li in columns_li:\n",
    "    "
   ]
  },
  {
   "cell_type": "code",
   "execution_count": null,
   "id": "d868b2f1",
   "metadata": {},
   "outputs": [],
   "source": []
  },
  {
   "cell_type": "code",
   "execution_count": null,
   "id": "f522ae53",
   "metadata": {},
   "outputs": [],
   "source": []
  },
  {
   "cell_type": "code",
   "execution_count": null,
   "id": "8db8e078",
   "metadata": {},
   "outputs": [],
   "source": []
  },
  {
   "cell_type": "code",
   "execution_count": null,
   "id": "92c253da",
   "metadata": {},
   "outputs": [],
   "source": []
  },
  {
   "cell_type": "code",
   "execution_count": null,
   "id": "4c476786",
   "metadata": {},
   "outputs": [],
   "source": []
  },
  {
   "cell_type": "code",
   "execution_count": null,
   "id": "a91a61d2",
   "metadata": {},
   "outputs": [],
   "source": []
  }
 ],
 "metadata": {
  "kernelspec": {
   "display_name": "Python 3 (ipykernel)",
   "language": "python",
   "name": "python3"
  },
  "language_info": {
   "codemirror_mode": {
    "name": "ipython",
    "version": 3
   },
   "file_extension": ".py",
   "mimetype": "text/x-python",
   "name": "python",
   "nbconvert_exporter": "python",
   "pygments_lexer": "ipython3",
   "version": "3.9.7"
  }
 },
 "nbformat": 4,
 "nbformat_minor": 5
}
