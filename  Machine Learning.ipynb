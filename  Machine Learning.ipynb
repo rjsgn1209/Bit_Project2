{
 "cells": [
  {
   "cell_type": "code",
   "execution_count": 2,
   "id": "9b78b48b",
   "metadata": {},
   "outputs": [],
   "source": [
    "import pandas as pd\n",
    "import numpy as np\n",
    "import matplotlib.pyplot as plt\n",
    "import seaborn as sns"
   ]
  },
  {
   "cell_type": "code",
   "execution_count": 3,
   "id": "d061ed40",
   "metadata": {},
   "outputs": [],
   "source": [
    "from sklearn.model_selection import train_test_split\n",
    "from sklearn.linear_model import LinearRegression, Ridge, Lasso\n",
    "from sklearn.metrics import r2_score, mean_squared_error"
   ]
  },
  {
   "cell_type": "code",
   "execution_count": 121,
   "id": "23d53e2b",
   "metadata": {},
   "outputs": [],
   "source": [
    "df = pd.read_csv('data/최종데이터.csv', index_col=0)"
   ]
  },
  {
   "cell_type": "code",
   "execution_count": 122,
   "id": "5f2a3e33",
   "metadata": {},
   "outputs": [
    {
     "data": {
      "text/html": [
       "<div>\n",
       "<style scoped>\n",
       "    .dataframe tbody tr th:only-of-type {\n",
       "        vertical-align: middle;\n",
       "    }\n",
       "\n",
       "    .dataframe tbody tr th {\n",
       "        vertical-align: top;\n",
       "    }\n",
       "\n",
       "    .dataframe thead th {\n",
       "        text-align: right;\n",
       "    }\n",
       "</style>\n",
       "<table border=\"1\" class=\"dataframe\">\n",
       "  <thead>\n",
       "    <tr style=\"text-align: right;\">\n",
       "      <th></th>\n",
       "      <th>date</th>\n",
       "      <th>tesla</th>\n",
       "      <th>tesla_거래량</th>\n",
       "      <th>tesla_volatility</th>\n",
       "      <th>elec_fee</th>\n",
       "      <th>oli_price</th>\n",
       "      <th>oli_price_volatility</th>\n",
       "      <th>carbon_credits</th>\n",
       "      <th>carbon_credits_volatility</th>\n",
       "      <th>EVE종가</th>\n",
       "      <th>...</th>\n",
       "      <th>alu_price</th>\n",
       "      <th>alu_vol</th>\n",
       "      <th>alu_change</th>\n",
       "      <th>cu_price</th>\n",
       "      <th>cu_change</th>\n",
       "      <th>REGI_price</th>\n",
       "      <th>REGI_vol</th>\n",
       "      <th>REGI_change</th>\n",
       "      <th>검색량</th>\n",
       "      <th>updown</th>\n",
       "    </tr>\n",
       "  </thead>\n",
       "  <tbody>\n",
       "    <tr>\n",
       "      <th>0</th>\n",
       "      <td>2015-01-02</td>\n",
       "      <td>43.86</td>\n",
       "      <td>23820.0</td>\n",
       "      <td>-1.39</td>\n",
       "      <td>6.67</td>\n",
       "      <td>52.69</td>\n",
       "      <td>-3.44</td>\n",
       "      <td>7.01</td>\n",
       "      <td>-3.31</td>\n",
       "      <td>13.38</td>\n",
       "      <td>...</td>\n",
       "      <td>1828.00</td>\n",
       "      <td>31.38</td>\n",
       "      <td>-1.12</td>\n",
       "      <td>6250.25</td>\n",
       "      <td>-0.55</td>\n",
       "      <td>9.79</td>\n",
       "      <td>436.60</td>\n",
       "      <td>0.82</td>\n",
       "      <td>22</td>\n",
       "      <td>0</td>\n",
       "    </tr>\n",
       "    <tr>\n",
       "      <th>1</th>\n",
       "      <td>2015-01-05</td>\n",
       "      <td>42.02</td>\n",
       "      <td>26840.0</td>\n",
       "      <td>-4.20</td>\n",
       "      <td>6.67</td>\n",
       "      <td>50.04</td>\n",
       "      <td>-5.03</td>\n",
       "      <td>6.90</td>\n",
       "      <td>-1.57</td>\n",
       "      <td>13.38</td>\n",
       "      <td>...</td>\n",
       "      <td>1812.25</td>\n",
       "      <td>43.25</td>\n",
       "      <td>-0.86</td>\n",
       "      <td>6142.00</td>\n",
       "      <td>-1.73</td>\n",
       "      <td>9.55</td>\n",
       "      <td>481.67</td>\n",
       "      <td>-2.45</td>\n",
       "      <td>19</td>\n",
       "      <td>0</td>\n",
       "    </tr>\n",
       "    <tr>\n",
       "      <th>2</th>\n",
       "      <td>2015-01-06</td>\n",
       "      <td>42.26</td>\n",
       "      <td>31310.0</td>\n",
       "      <td>0.57</td>\n",
       "      <td>6.67</td>\n",
       "      <td>47.93</td>\n",
       "      <td>-4.22</td>\n",
       "      <td>6.77</td>\n",
       "      <td>-1.88</td>\n",
       "      <td>13.89</td>\n",
       "      <td>...</td>\n",
       "      <td>1780.25</td>\n",
       "      <td>56.01</td>\n",
       "      <td>-1.77</td>\n",
       "      <td>6131.00</td>\n",
       "      <td>-0.18</td>\n",
       "      <td>9.12</td>\n",
       "      <td>534.76</td>\n",
       "      <td>-4.50</td>\n",
       "      <td>23</td>\n",
       "      <td>1</td>\n",
       "    </tr>\n",
       "  </tbody>\n",
       "</table>\n",
       "<p>3 rows × 47 columns</p>\n",
       "</div>"
      ],
      "text/plain": [
       "         date  tesla  tesla_거래량  tesla_volatility  elec_fee  oli_price  \\\n",
       "0  2015-01-02  43.86    23820.0             -1.39      6.67      52.69   \n",
       "1  2015-01-05  42.02    26840.0             -4.20      6.67      50.04   \n",
       "2  2015-01-06  42.26    31310.0              0.57      6.67      47.93   \n",
       "\n",
       "   oli_price_volatility  carbon_credits  carbon_credits_volatility  EVE종가  \\\n",
       "0                 -3.44            7.01                      -3.31  13.38   \n",
       "1                 -5.03            6.90                      -1.57  13.38   \n",
       "2                 -4.22            6.77                      -1.88  13.89   \n",
       "\n",
       "   ...  alu_price  alu_vol  alu_change  cu_price  cu_change  REGI_price  \\\n",
       "0  ...    1828.00    31.38       -1.12   6250.25      -0.55        9.79   \n",
       "1  ...    1812.25    43.25       -0.86   6142.00      -1.73        9.55   \n",
       "2  ...    1780.25    56.01       -1.77   6131.00      -0.18        9.12   \n",
       "\n",
       "   REGI_vol  REGI_change  검색량  updown  \n",
       "0    436.60         0.82   22       0  \n",
       "1    481.67        -2.45   19       0  \n",
       "2    534.76        -4.50   23       1  \n",
       "\n",
       "[3 rows x 47 columns]"
      ]
     },
     "execution_count": 122,
     "metadata": {},
     "output_type": "execute_result"
    }
   ],
   "source": [
    "df.head(3)"
   ]
  },
  {
   "cell_type": "code",
   "execution_count": 140,
   "id": "05911387",
   "metadata": {},
   "outputs": [],
   "source": [
    "df_2019 = df.iloc[1027:]"
   ]
  },
  {
   "cell_type": "code",
   "execution_count": 148,
   "id": "4b67ab0a",
   "metadata": {},
   "outputs": [],
   "source": [
    "df_2019.reset_index(drop=True, inplace=True)"
   ]
  },
  {
   "cell_type": "code",
   "execution_count": null,
   "id": "52298e4d",
   "metadata": {},
   "outputs": [],
   "source": [
    "# 다음날 주가 예측"
   ]
  },
  {
   "cell_type": "code",
   "execution_count": 151,
   "id": "f35cd6d1",
   "metadata": {},
   "outputs": [],
   "source": [
    "y = df_2019.tesla[1:]\n",
    "x = df_2019.drop(['tesla', 'tesla_volatility', 'updown', 'date'], axis=1)[:-1]"
   ]
  },
  {
   "cell_type": "code",
   "execution_count": 152,
   "id": "6389932e",
   "metadata": {},
   "outputs": [],
   "source": [
    "x_train = x[:640]\n",
    "x_test = x[640:]\n",
    "y_train = y[:640]\n",
    "y_test = y[640:]"
   ]
  },
  {
   "cell_type": "code",
   "execution_count": 153,
   "id": "53910831",
   "metadata": {},
   "outputs": [
    {
     "name": "stdout",
     "output_type": "stream",
     "text": [
      "LinearRegression\n",
      "-2.20098478287437\n",
      "285.28876080960373\n",
      "Ridge\n",
      "-2.2142584634441063\n",
      "285.87965931364124\n",
      "Lasso\n",
      "-1.0627967316443239\n",
      "229.01876856239147\n"
     ]
    },
    {
     "name": "stderr",
     "output_type": "stream",
     "text": [
      "C:\\Users\\bitcamp\\anaconda3\\lib\\site-packages\\sklearn\\linear_model\\_coordinate_descent.py:647: ConvergenceWarning: Objective did not converge. You might want to increase the number of iterations, check the scale of the features or consider increasing regularisation. Duality gap: 3.250e+05, tolerance: 4.473e+03\n",
      "  model = cd_fast.enet_coordinate_descent(\n"
     ]
    }
   ],
   "source": [
    "lr = LinearRegression()\n",
    "rid = Ridge()\n",
    "las = Lasso()\n",
    "\n",
    "models = [lr, rid, las]\n",
    "\n",
    "for model in models:\n",
    "    \n",
    "    model.fit(x_train, y_train)\n",
    "    preds = model.predict(x_test)\n",
    "    \n",
    "    print(model.__class__.__name__)\n",
    "    print(r2_score(y_test, preds))\n",
    "    print(np.sqrt(mean_squared_error(y_test, preds)))"
   ]
  },
  {
   "cell_type": "code",
   "execution_count": null,
   "id": "425a127a",
   "metadata": {},
   "outputs": [],
   "source": []
  },
  {
   "cell_type": "code",
   "execution_count": null,
   "id": "3bba4330",
   "metadata": {},
   "outputs": [],
   "source": [
    "# scalering 후 머신러닝"
   ]
  },
  {
   "cell_type": "code",
   "execution_count": 154,
   "id": "0ac6e7ed",
   "metadata": {},
   "outputs": [],
   "source": [
    "from sklearn.preprocessing import StandardScaler"
   ]
  },
  {
   "cell_type": "code",
   "execution_count": 155,
   "id": "53683554",
   "metadata": {},
   "outputs": [],
   "source": [
    "scaler = StandardScaler()"
   ]
  },
  {
   "cell_type": "code",
   "execution_count": 156,
   "id": "dc88bc5c",
   "metadata": {},
   "outputs": [
    {
     "data": {
      "text/plain": [
       "StandardScaler()"
      ]
     },
     "execution_count": 156,
     "metadata": {},
     "output_type": "execute_result"
    }
   ],
   "source": [
    "scaler.fit(x_train)"
   ]
  },
  {
   "cell_type": "code",
   "execution_count": 160,
   "id": "29511402",
   "metadata": {},
   "outputs": [],
   "source": [
    "x_train_scaled = scaler.transform(x_train)\n",
    "x_test_scaled = scaler.transform(x_test)"
   ]
  },
  {
   "cell_type": "code",
   "execution_count": null,
   "id": "8c2d9072",
   "metadata": {},
   "outputs": [],
   "source": []
  },
  {
   "cell_type": "code",
   "execution_count": 161,
   "id": "6add2bf2",
   "metadata": {},
   "outputs": [
    {
     "name": "stdout",
     "output_type": "stream",
     "text": [
      "LinearRegression\n",
      "-2.2009847795228583\n",
      "285.2887606602515\n",
      "Ridge\n",
      "-1.5288684622333801\n",
      "253.5747336502132\n",
      "Lasso\n",
      "-0.9126082455298523\n",
      "220.52400422134468\n"
     ]
    }
   ],
   "source": [
    "lr = LinearRegression()\n",
    "rid = Ridge()\n",
    "las = Lasso()\n",
    "\n",
    "models = [lr, rid, las]\n",
    "\n",
    "for model in models:\n",
    "    \n",
    "    model.fit(x_train_scaled, y_train)\n",
    "    preds = model.predict(x_test_scaled)\n",
    "    \n",
    "    print(model.__class__.__name__)\n",
    "    print(r2_score(y_test, preds))\n",
    "    print(np.sqrt(mean_squared_error(y_test, preds)))"
   ]
  },
  {
   "cell_type": "code",
   "execution_count": null,
   "id": "20356f54",
   "metadata": {},
   "outputs": [],
   "source": []
  },
  {
   "cell_type": "code",
   "execution_count": null,
   "id": "43fb2896",
   "metadata": {},
   "outputs": [],
   "source": [
    "# 주가 변동폭 예측"
   ]
  },
  {
   "cell_type": "code",
   "execution_count": 181,
   "id": "ef084f11",
   "metadata": {},
   "outputs": [
    {
     "data": {
      "text/html": [
       "<div>\n",
       "<style scoped>\n",
       "    .dataframe tbody tr th:only-of-type {\n",
       "        vertical-align: middle;\n",
       "    }\n",
       "\n",
       "    .dataframe tbody tr th {\n",
       "        vertical-align: top;\n",
       "    }\n",
       "\n",
       "    .dataframe thead th {\n",
       "        text-align: right;\n",
       "    }\n",
       "</style>\n",
       "<table border=\"1\" class=\"dataframe\">\n",
       "  <thead>\n",
       "    <tr style=\"text-align: right;\">\n",
       "      <th></th>\n",
       "      <th>date</th>\n",
       "      <th>tesla</th>\n",
       "      <th>tesla_거래량</th>\n",
       "      <th>tesla_volatility</th>\n",
       "      <th>elec_fee</th>\n",
       "      <th>oli_price</th>\n",
       "      <th>oli_price_volatility</th>\n",
       "      <th>carbon_credits</th>\n",
       "      <th>carbon_credits_volatility</th>\n",
       "      <th>EVE종가</th>\n",
       "      <th>...</th>\n",
       "      <th>alu_price</th>\n",
       "      <th>alu_vol</th>\n",
       "      <th>alu_change</th>\n",
       "      <th>cu_price</th>\n",
       "      <th>cu_change</th>\n",
       "      <th>REGI_price</th>\n",
       "      <th>REGI_vol</th>\n",
       "      <th>REGI_change</th>\n",
       "      <th>검색량</th>\n",
       "      <th>updown</th>\n",
       "    </tr>\n",
       "  </thead>\n",
       "  <tbody>\n",
       "    <tr>\n",
       "      <th>0</th>\n",
       "      <td>2015-01-02</td>\n",
       "      <td>43.86</td>\n",
       "      <td>23820.0</td>\n",
       "      <td>-1.39</td>\n",
       "      <td>6.67</td>\n",
       "      <td>52.69</td>\n",
       "      <td>-3.44</td>\n",
       "      <td>7.01</td>\n",
       "      <td>-3.31</td>\n",
       "      <td>13.38</td>\n",
       "      <td>...</td>\n",
       "      <td>1828.00</td>\n",
       "      <td>31.38</td>\n",
       "      <td>-1.12</td>\n",
       "      <td>6250.25</td>\n",
       "      <td>-0.55</td>\n",
       "      <td>9.79</td>\n",
       "      <td>436.60</td>\n",
       "      <td>0.82</td>\n",
       "      <td>22</td>\n",
       "      <td>0</td>\n",
       "    </tr>\n",
       "    <tr>\n",
       "      <th>1</th>\n",
       "      <td>2015-01-05</td>\n",
       "      <td>42.02</td>\n",
       "      <td>26840.0</td>\n",
       "      <td>-4.20</td>\n",
       "      <td>6.67</td>\n",
       "      <td>50.04</td>\n",
       "      <td>-5.03</td>\n",
       "      <td>6.90</td>\n",
       "      <td>-1.57</td>\n",
       "      <td>13.38</td>\n",
       "      <td>...</td>\n",
       "      <td>1812.25</td>\n",
       "      <td>43.25</td>\n",
       "      <td>-0.86</td>\n",
       "      <td>6142.00</td>\n",
       "      <td>-1.73</td>\n",
       "      <td>9.55</td>\n",
       "      <td>481.67</td>\n",
       "      <td>-2.45</td>\n",
       "      <td>19</td>\n",
       "      <td>0</td>\n",
       "    </tr>\n",
       "    <tr>\n",
       "      <th>2</th>\n",
       "      <td>2015-01-06</td>\n",
       "      <td>42.26</td>\n",
       "      <td>31310.0</td>\n",
       "      <td>0.57</td>\n",
       "      <td>6.67</td>\n",
       "      <td>47.93</td>\n",
       "      <td>-4.22</td>\n",
       "      <td>6.77</td>\n",
       "      <td>-1.88</td>\n",
       "      <td>13.89</td>\n",
       "      <td>...</td>\n",
       "      <td>1780.25</td>\n",
       "      <td>56.01</td>\n",
       "      <td>-1.77</td>\n",
       "      <td>6131.00</td>\n",
       "      <td>-0.18</td>\n",
       "      <td>9.12</td>\n",
       "      <td>534.76</td>\n",
       "      <td>-4.50</td>\n",
       "      <td>23</td>\n",
       "      <td>1</td>\n",
       "    </tr>\n",
       "  </tbody>\n",
       "</table>\n",
       "<p>3 rows × 47 columns</p>\n",
       "</div>"
      ],
      "text/plain": [
       "         date  tesla  tesla_거래량  tesla_volatility  elec_fee  oli_price  \\\n",
       "0  2015-01-02  43.86    23820.0             -1.39      6.67      52.69   \n",
       "1  2015-01-05  42.02    26840.0             -4.20      6.67      50.04   \n",
       "2  2015-01-06  42.26    31310.0              0.57      6.67      47.93   \n",
       "\n",
       "   oli_price_volatility  carbon_credits  carbon_credits_volatility  EVE종가  \\\n",
       "0                 -3.44            7.01                      -3.31  13.38   \n",
       "1                 -5.03            6.90                      -1.57  13.38   \n",
       "2                 -4.22            6.77                      -1.88  13.89   \n",
       "\n",
       "   ...  alu_price  alu_vol  alu_change  cu_price  cu_change  REGI_price  \\\n",
       "0  ...    1828.00    31.38       -1.12   6250.25      -0.55        9.79   \n",
       "1  ...    1812.25    43.25       -0.86   6142.00      -1.73        9.55   \n",
       "2  ...    1780.25    56.01       -1.77   6131.00      -0.18        9.12   \n",
       "\n",
       "   REGI_vol  REGI_change  검색량  updown  \n",
       "0    436.60         0.82   22       0  \n",
       "1    481.67        -2.45   19       0  \n",
       "2    534.76        -4.50   23       1  \n",
       "\n",
       "[3 rows x 47 columns]"
      ]
     },
     "execution_count": 181,
     "metadata": {},
     "output_type": "execute_result"
    }
   ],
   "source": [
    "df.head(3)"
   ]
  },
  {
   "cell_type": "code",
   "execution_count": 182,
   "id": "9bf8b9e1",
   "metadata": {},
   "outputs": [],
   "source": [
    "y = df_2019.tesla_volatility[1:]\n",
    "x = df_2019.drop(['tesla', 'tesla_volatility', 'updown', 'date'], axis=1)[:-1]"
   ]
  },
  {
   "cell_type": "code",
   "execution_count": 183,
   "id": "34c68aa1",
   "metadata": {},
   "outputs": [],
   "source": [
    "x_train = x[:640]\n",
    "x_test = x[640:]\n",
    "y_train = y[:640]\n",
    "y_test = y[640:]"
   ]
  },
  {
   "cell_type": "code",
   "execution_count": 184,
   "id": "e7cd4a1b",
   "metadata": {},
   "outputs": [
    {
     "name": "stdout",
     "output_type": "stream",
     "text": [
      "LinearRegression\n",
      "-0.6084822732046429\n",
      "4.533331475888572\n",
      "Ridge\n",
      "-3.4420810055863376\n",
      "7.533600274658203\n",
      "Lasso\n",
      "-0.004359247047302839\n",
      "3.5822333883820123\n"
     ]
    }
   ],
   "source": [
    "lr = LinearRegression()\n",
    "rid = Ridge()\n",
    "las = Lasso()\n",
    "\n",
    "models = [lr, rid, las]\n",
    "\n",
    "for model in models:\n",
    "    \n",
    "    model.fit(x_train_scaled, y_train)\n",
    "    preds = model.predict(x_test_scaled)\n",
    "    \n",
    "    print(model.__class__.__name__)\n",
    "    print(r2_score(y_test, preds))\n",
    "    print(np.sqrt(mean_squared_error(y_test, preds)))"
   ]
  },
  {
   "cell_type": "code",
   "execution_count": null,
   "id": "2aa6c0ca",
   "metadata": {},
   "outputs": [],
   "source": []
  },
  {
   "cell_type": "code",
   "execution_count": 185,
   "id": "2c5b33d4",
   "metadata": {},
   "outputs": [],
   "source": [
    "from sklearn.preprocessing import StandardScaler"
   ]
  },
  {
   "cell_type": "code",
   "execution_count": 186,
   "id": "edc9e0ee",
   "metadata": {},
   "outputs": [],
   "source": [
    "scaler = StandardScaler()"
   ]
  },
  {
   "cell_type": "code",
   "execution_count": 187,
   "id": "8050959c",
   "metadata": {},
   "outputs": [
    {
     "data": {
      "text/plain": [
       "StandardScaler()"
      ]
     },
     "execution_count": 187,
     "metadata": {},
     "output_type": "execute_result"
    }
   ],
   "source": [
    "scaler.fit(x_train)"
   ]
  },
  {
   "cell_type": "code",
   "execution_count": 188,
   "id": "efd0fa2d",
   "metadata": {},
   "outputs": [],
   "source": [
    "x_train_scaled = scaler.transform(x_train)\n",
    "x_test_scaled = scaler.transform(x_test)"
   ]
  },
  {
   "cell_type": "code",
   "execution_count": null,
   "id": "105d6170",
   "metadata": {},
   "outputs": [],
   "source": []
  },
  {
   "cell_type": "code",
   "execution_count": 189,
   "id": "1651a0f3",
   "metadata": {},
   "outputs": [
    {
     "name": "stdout",
     "output_type": "stream",
     "text": [
      "LinearRegression\n",
      "-0.6084822732046429\n",
      "4.533331475888572\n",
      "Ridge\n",
      "-3.4420810055863376\n",
      "7.533600274658203\n",
      "Lasso\n",
      "-0.004359247047302839\n",
      "3.5822333883820123\n"
     ]
    }
   ],
   "source": [
    "lr = LinearRegression()\n",
    "rid = Ridge()\n",
    "las = Lasso()\n",
    "\n",
    "models = [lr, rid, las]\n",
    "\n",
    "for model in models:\n",
    "    \n",
    "    model.fit(x_train_scaled, y_train)\n",
    "    preds = model.predict(x_test_scaled)\n",
    "    \n",
    "    print(model.__class__.__name__)\n",
    "    print(r2_score(y_test, preds))\n",
    "    print(np.sqrt(mean_squared_error(y_test, preds)))"
   ]
  },
  {
   "cell_type": "code",
   "execution_count": null,
   "id": "0d4bacb6",
   "metadata": {},
   "outputs": [],
   "source": []
  },
  {
   "cell_type": "code",
   "execution_count": null,
   "id": "00bc7dfa",
   "metadata": {},
   "outputs": [],
   "source": []
  },
  {
   "cell_type": "code",
   "execution_count": null,
   "id": "05d7f587",
   "metadata": {},
   "outputs": [],
   "source": []
  },
  {
   "cell_type": "code",
   "execution_count": 190,
   "id": "c265eed3",
   "metadata": {},
   "outputs": [],
   "source": [
    "# classification을통한 주가 상승/하락 예측"
   ]
  },
  {
   "cell_type": "code",
   "execution_count": 195,
   "id": "17a5098b",
   "metadata": {},
   "outputs": [],
   "source": [
    "y = df.updown[1:]\n",
    "x = df.drop(['updown', 'tesla', 'tesla_volatility', 'date'], axis=1)[:-1]"
   ]
  },
  {
   "cell_type": "code",
   "execution_count": 196,
   "id": "ea38f823",
   "metadata": {},
   "outputs": [],
   "source": [
    "x_train = x[:640]\n",
    "x_test = x[640:]\n",
    "y_train = y[:640]\n",
    "y_test = y[640:]"
   ]
  },
  {
   "cell_type": "code",
   "execution_count": 197,
   "id": "4a9c7c5a",
   "metadata": {},
   "outputs": [],
   "source": [
    "from sklearn.linear_model import LogisticRegression\n",
    "from sklearn.ensemble import RandomForestClassifier\n",
    "from sklearn.metrics import classification_report"
   ]
  },
  {
   "cell_type": "code",
   "execution_count": 198,
   "id": "1e5b82af",
   "metadata": {},
   "outputs": [
    {
     "name": "stdout",
     "output_type": "stream",
     "text": [
      "LogisticRegression\n",
      "              precision    recall  f1-score   support\n",
      "\n",
      "           0       0.48      0.62      0.54       567\n",
      "           1       0.52      0.38      0.44       619\n",
      "\n",
      "    accuracy                           0.49      1186\n",
      "   macro avg       0.50      0.50      0.49      1186\n",
      "weighted avg       0.50      0.49      0.49      1186\n",
      "\n",
      "RandomForestClassifier\n",
      "              precision    recall  f1-score   support\n",
      "\n",
      "           0       0.47      0.38      0.42       567\n",
      "           1       0.52      0.62      0.56       619\n",
      "\n",
      "    accuracy                           0.50      1186\n",
      "   macro avg       0.50      0.50      0.49      1186\n",
      "weighted avg       0.50      0.50      0.49      1186\n",
      "\n"
     ]
    }
   ],
   "source": [
    "lg = LogisticRegression()\n",
    "rfc = RandomForestClassifier()\n",
    "\n",
    "models = [lg, rfc]\n",
    "\n",
    "for model in models:\n",
    "    model.fit(x_train, y_train)\n",
    "    preds = model.predict(x_test)\n",
    "    print(model.__class__.__name__)\n",
    "    print(classification_report(y_test, preds))"
   ]
  },
  {
   "cell_type": "code",
   "execution_count": null,
   "id": "fb2130f1",
   "metadata": {},
   "outputs": [],
   "source": []
  },
  {
   "cell_type": "code",
   "execution_count": 199,
   "id": "0ac6e7ed",
   "metadata": {},
   "outputs": [],
   "source": [
    "from sklearn.preprocessing import StandardScaler"
   ]
  },
  {
   "cell_type": "code",
   "execution_count": 200,
   "id": "18dfe661",
   "metadata": {},
   "outputs": [],
   "source": [
    "scaler = StandardScaler()"
   ]
  },
  {
   "cell_type": "code",
   "execution_count": 201,
   "id": "0d976419",
   "metadata": {},
   "outputs": [
    {
     "data": {
      "text/plain": [
       "StandardScaler()"
      ]
     },
     "execution_count": 201,
     "metadata": {},
     "output_type": "execute_result"
    }
   ],
   "source": [
    "scaler.fit(x_train)"
   ]
  },
  {
   "cell_type": "code",
   "execution_count": 202,
   "id": "1eeafddd",
   "metadata": {},
   "outputs": [],
   "source": [
    "x_train_scaled = scaler.transform(x_train)\n",
    "x_test_scaled = scaler.transform(x_test)"
   ]
  },
  {
   "cell_type": "code",
   "execution_count": null,
   "id": "591151f4",
   "metadata": {},
   "outputs": [],
   "source": []
  },
  {
   "cell_type": "code",
   "execution_count": 203,
   "id": "e33f4436",
   "metadata": {},
   "outputs": [
    {
     "name": "stdout",
     "output_type": "stream",
     "text": [
      "LogisticRegression\n",
      "              precision    recall  f1-score   support\n",
      "\n",
      "           0       0.48      0.62      0.54       567\n",
      "           1       0.52      0.38      0.44       619\n",
      "\n",
      "    accuracy                           0.49      1186\n",
      "   macro avg       0.50      0.50      0.49      1186\n",
      "weighted avg       0.50      0.49      0.49      1186\n",
      "\n",
      "RandomForestClassifier\n",
      "              precision    recall  f1-score   support\n",
      "\n",
      "           0       0.47      0.11      0.18       567\n",
      "           1       0.52      0.89      0.66       619\n",
      "\n",
      "    accuracy                           0.51      1186\n",
      "   macro avg       0.49      0.50      0.42      1186\n",
      "weighted avg       0.49      0.51      0.43      1186\n",
      "\n"
     ]
    }
   ],
   "source": [
    "lg = LogisticRegression()\n",
    "rfc = RandomForestClassifier()\n",
    "\n",
    "models = [lg, rfc]\n",
    "\n",
    "for model in models:\n",
    "    model.fit(x_train, y_train)\n",
    "    preds = model.predict(x_test)\n",
    "    print(model.__class__.__name__)\n",
    "    print(classification_report(y_test, preds))"
   ]
  },
  {
   "cell_type": "code",
   "execution_count": null,
   "id": "2a942577",
   "metadata": {},
   "outputs": [],
   "source": []
  },
  {
   "cell_type": "code",
   "execution_count": 204,
   "id": "bcba472d",
   "metadata": {},
   "outputs": [
    {
     "data": {
      "text/plain": [
       "Index(['date', 'tesla', 'tesla_거래량', 'tesla_volatility', 'elec_fee',\n",
       "       'oli_price', 'oli_price_volatility', 'carbon_credits',\n",
       "       'carbon_credits_volatility', 'EVE종가', 'EVE거래량', 'EVE변동률', 'BYD종가',\n",
       "       'BYD거래량', 'BYD변동률', 'PSI종가', 'PSI거래량', 'SOXX종가', 'SOXX거래량', 'SOXL종가',\n",
       "       'SOXL거래량', 'LIT조정종가', 'LIT거래량', 'SGL종가', 'SGL변동률', 'li_price', 'co',\n",
       "       'co_volatility', '희토류가격', 'nasdaq', 'nasdaq_거래량', 'nasdaq_volatility',\n",
       "       'ssec', 'ssec_거래량', 'ssec_volatility', 'dollar', 'dollar_volatility',\n",
       "       'alu_price', 'alu_vol', 'alu_change', 'cu_price', 'cu_change',\n",
       "       'REGI_price', 'REGI_vol', 'REGI_change', '검색량', 'updown'],\n",
       "      dtype='object')"
      ]
     },
     "execution_count": 204,
     "metadata": {},
     "output_type": "execute_result"
    }
   ],
   "source": [
    "df.columns"
   ]
  },
  {
   "cell_type": "code",
   "execution_count": null,
   "id": "50646b49",
   "metadata": {},
   "outputs": [],
   "source": []
  },
  {
   "cell_type": "code",
   "execution_count": 205,
   "id": "c7509fe2",
   "metadata": {},
   "outputs": [
    {
     "data": {
      "text/plain": [
       "0       13.38\n",
       "1       13.38\n",
       "2       13.89\n",
       "3       13.75\n",
       "4       13.80\n",
       "        ...  \n",
       "1822    89.50\n",
       "1823    86.90\n",
       "1824    84.23\n",
       "1825    79.51\n",
       "1826    78.15\n",
       "Name: EVE종가, Length: 1827, dtype: float64"
      ]
     },
     "execution_count": 205,
     "metadata": {},
     "output_type": "execute_result"
    }
   ],
   "source": []
  },
  {
   "cell_type": "code",
   "execution_count": null,
   "id": "e21adae8",
   "metadata": {},
   "outputs": [],
   "source": []
  },
  {
   "cell_type": "code",
   "execution_count": null,
   "id": "b853b613",
   "metadata": {},
   "outputs": [],
   "source": []
  },
  {
   "cell_type": "code",
   "execution_count": null,
   "id": "3be526b2",
   "metadata": {},
   "outputs": [],
   "source": []
  },
  {
   "cell_type": "code",
   "execution_count": null,
   "id": "e7c4a086",
   "metadata": {},
   "outputs": [],
   "source": []
  }
 ],
 "metadata": {
  "kernelspec": {
   "display_name": "Python 3 (ipykernel)",
   "language": "python",
   "name": "python3"
  },
  "language_info": {
   "codemirror_mode": {
    "name": "ipython",
    "version": 3
   },
   "file_extension": ".py",
   "mimetype": "text/x-python",
   "name": "python",
   "nbconvert_exporter": "python",
   "pygments_lexer": "ipython3",
   "version": "3.9.7"
  }
 },
 "nbformat": 4,
 "nbformat_minor": 5
}
