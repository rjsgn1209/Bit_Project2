{
 "cells": [
  {
   "cell_type": "code",
   "execution_count": 322,
   "id": "9d01e6ca",
   "metadata": {},
   "outputs": [],
   "source": [
    "import warnings\n",
    "warnings.filterwarnings(action='ignore')\n",
    "import MySQLdb\n",
    "import pandas as pd\n",
    "import numpy as np\n",
    "import matplotlib.pyplot as plt\n",
    "import seaborn as sns"
   ]
  },
  {
   "cell_type": "code",
   "execution_count": 323,
   "id": "deb72c0a",
   "metadata": {},
   "outputs": [],
   "source": [
    "import requests\n",
    "from bs4 import BeautifulSoup"
   ]
  },
  {
   "cell_type": "code",
   "execution_count": 324,
   "id": "9f301eee",
   "metadata": {},
   "outputs": [],
   "source": [
    "import time\n",
    "from selenium import webdriver\n",
    "from selenium.webdriver.common.keys import Keys"
   ]
  },
  {
   "cell_type": "code",
   "execution_count": 325,
   "id": "4e40336a",
   "metadata": {},
   "outputs": [],
   "source": [
    "# pip install html_table_parser"
   ]
  },
  {
   "cell_type": "code",
   "execution_count": 326,
   "id": "9aea93f8",
   "metadata": {},
   "outputs": [],
   "source": [
    "import requests\n",
    "from bs4 import BeautifulSoup\n",
    "from html_table_parser import parser_functions\n",
    "import os"
   ]
  },
  {
   "cell_type": "code",
   "execution_count": null,
   "id": "1eab642d",
   "metadata": {},
   "outputs": [],
   "source": []
  },
  {
   "cell_type": "code",
   "execution_count": 327,
   "id": "9a522590",
   "metadata": {},
   "outputs": [],
   "source": [
    "# # 날짜 dataframe 만들기\n",
    "# start_date = pd.to_datetime('2015-01-01') ## 시작 날짜\n",
    "# end_date = pd.to_datetime('2022-03-07') ## 마지막 날짜\n",
    " \n",
    "# dates = pd.date_range(start_date,end_date,freq='M') ## 월단위로 생성\n",
    "# dates = pd.DataFrame(dates, columns=['date'])"
   ]
  },
  {
   "cell_type": "code",
   "execution_count": null,
   "id": "394a0dcd",
   "metadata": {},
   "outputs": [],
   "source": []
  },
  {
   "cell_type": "code",
   "execution_count": 328,
   "id": "dbdc093b",
   "metadata": {},
   "outputs": [],
   "source": [
    "# 년,월,일 -> 날짜\n",
    "def change_date(x):\n",
    "    ret = []\n",
    "    for da in x.split():\n",
    "        ret.append(da[:-1])\n",
    "    return '.'.join(ret)"
   ]
  },
  {
   "cell_type": "code",
   "execution_count": 329,
   "id": "4e74fabe",
   "metadata": {},
   "outputs": [],
   "source": [
    "# K, M, B 변환\n",
    "def m_to_k(x):\n",
    "    if x[-1] == 'M':\n",
    "        return float(x[:-1]) * 1000\n",
    "    elif x[-1] == 'K':\n",
    "        return float(x[:-1])\n",
    "    elif x[-1] == 'B':\n",
    "        return float(x[:-1]) * 1000000\n",
    "    else:\n",
    "        return np.nan"
   ]
  },
  {
   "cell_type": "code",
   "execution_count": 330,
   "id": "43f90c13",
   "metadata": {},
   "outputs": [],
   "source": [
    "# 나스닥 종합지수, 상해 종합지수, 달러지수 병합"
   ]
  },
  {
   "cell_type": "code",
   "execution_count": 331,
   "id": "222ee6a7",
   "metadata": {},
   "outputs": [],
   "source": [
    "## 나스닥\n",
    "df_nasdaq = pd.read_csv('나스닥종합지수.csv')\n",
    "df_nasdaq.drop(['오픈','고가','저가'], axis=1, inplace=True)\n",
    "df_nasdaq.rename(columns={'날짜':'date', '종가':'nasdaq', '거래량':'nasdaq_거래량', '변동 %':'nasdaq_volatility'},\n",
    "                 inplace=True)\n",
    "\n",
    "### 날짜 전처리\n",
    "df_nasdaq.date = df_nasdaq.date.apply(change_date)\n",
    "df_nasdaq.date = pd.to_datetime(df_nasdaq.date)\n",
    "\n",
    "### 가격 float타입\n",
    "df_nasdaq.nasdaq = df_nasdaq.nasdaq.str.replace(',','').astype('float')\n",
    "\n",
    "### 거래량 전처리\n",
    "df_nasdaq['nasdaq_거래량'] = df_nasdaq['nasdaq_거래량'].apply(m_to_k)\n",
    "\n",
    "### 변동% 전처리\n",
    "df_nasdaq['nasdaq_volatility'] = df_nasdaq.nasdaq_volatility.apply(lambda x : float(x[:-1]))"
   ]
  },
  {
   "cell_type": "code",
   "execution_count": 332,
   "id": "1a769834",
   "metadata": {},
   "outputs": [],
   "source": [
    "## 상해 종합지수\n",
    "df_ssec = pd.read_csv('상하이종합 내역.csv')\n",
    "df_ssec.drop(['오픈','고가','저가'], axis=1, inplace=True)\n",
    "df_ssec.rename(columns={'날짜':'date', '종가':'ssec', '거래량':'ssec_거래량', '변동 %':'ssec_volatility'},\n",
    "               inplace=True)\n",
    "\n",
    "### 날짜 전처리\n",
    "df_ssec.date = df_ssec.date.apply(change_date)\n",
    "df_ssec.date = pd.to_datetime(df_ssec.date)\n",
    "\n",
    "### 가격 float타입\n",
    "df_ssec.ssec = df_ssec.ssec.str.replace(',','').astype('float')\n",
    "\n",
    "### 거래량 전처리\n",
    "df_ssec['ssec_거래량'] = df_ssec['ssec_거래량'].apply(m_to_k)\n",
    "\n",
    "### 변동% 전처리\n",
    "df_ssec['ssec_volatility'] = df_ssec.ssec_volatility.apply(lambda x : float(x[:-1]))"
   ]
  },
  {
   "cell_type": "code",
   "execution_count": 333,
   "id": "be42851c",
   "metadata": {},
   "outputs": [],
   "source": [
    "## 달러지수\n",
    "df_dollar = pd.read_csv('달러 지수.csv')\n",
    "df_dollar.drop(['오픈','고가','저가', '거래량'], axis=1, inplace=True)\n",
    "df_dollar.rename(columns={'날짜':'date', '종가':'dollar', '변동 %':'dollar_volatility'}, inplace=True)\n",
    "\n",
    "### 날짜 전처리\n",
    "df_dollar.date = df_dollar.date.apply(change_date)\n",
    "df_dollar.date = pd.to_datetime(df_dollar.date)\n",
    "\n",
    "### 변동% 전처리\n",
    "df_dollar['dollar_volatility'] = df_dollar.dollar_volatility.apply(lambda x : float(x[:-1]))"
   ]
  },
  {
   "cell_type": "code",
   "execution_count": 334,
   "id": "bd0d4db7",
   "metadata": {},
   "outputs": [],
   "source": [
    "## 병합\n",
    "df_composite_index = pd.merge(df_nasdaq, df_ssec, how='outer', on='date')\n",
    "df_composite_index = pd.merge(df_composite_index, df_dollar, how='outer', on='date')\n",
    "# df_composite_index.to_csv('종합지수_merge.csv')"
   ]
  },
  {
   "cell_type": "code",
   "execution_count": null,
   "id": "bd35d2b5",
   "metadata": {},
   "outputs": [],
   "source": []
  },
  {
   "cell_type": "code",
   "execution_count": 335,
   "id": "4e486928",
   "metadata": {},
   "outputs": [],
   "source": [
    "# 중국 2차전지, 전기차"
   ]
  },
  {
   "cell_type": "code",
   "execution_count": 336,
   "id": "70d4ba7d",
   "metadata": {},
   "outputs": [],
   "source": [
    "## EVE Energy\n",
    "df_eve = pd.read_csv('EVE Energy 주가.csv')\n",
    "df_eve.drop(['오픈', '고가', '저가'], axis = 1, inplace = True)\n",
    "df_eve.columns = 'date', 'EVE종가', 'EVE거래량', 'EVE변동률'\n",
    "df_eve['date'] = pd.to_datetime(df_eve['date'].apply(change_date))\n",
    "df_eve['EVE거래량'] = df_eve['EVE거래량'].apply(m_to_k).astype('float')\n",
    "df_eve['EVE변동률'] = df_eve['EVE변동률'].apply(lambda x : x[:-1]).astype('float')"
   ]
  },
  {
   "cell_type": "code",
   "execution_count": 337,
   "id": "e8119623",
   "metadata": {},
   "outputs": [],
   "source": [
    "## BYD 주가\n",
    "df_byd = pd.read_csv('BYD 주가.csv')\n",
    "df_byd.drop(['오픈', '고가', '저가'], axis = 1, inplace=True)\n",
    "df_byd.columns = 'date', 'BYD종가', 'BYD거래량', 'BYD변동률'\n",
    "df_byd['BYD거래량'] = df_byd['BYD거래량'].apply(m_to_k).astype('float')\n",
    "df_byd['date'] = pd.to_datetime(df_byd['date'].apply(change_date))\n",
    "df_byd['BYD변동률'] = df_byd['BYD변동률'].apply(lambda x : x[:-1]).astype('float')"
   ]
  },
  {
   "cell_type": "code",
   "execution_count": 338,
   "id": "f8b3b488",
   "metadata": {},
   "outputs": [],
   "source": [
    "## eve, byd merge\n",
    "merge_eve_byd = pd.merge(df_eve, df_byd, on = 'date', how = 'outer')\n",
    "# merge_eve_byd.to_csv('중국2차전지.csv', header = False, index = False)"
   ]
  },
  {
   "cell_type": "code",
   "execution_count": null,
   "id": "cfa01a4f",
   "metadata": {},
   "outputs": [],
   "source": []
  },
  {
   "cell_type": "code",
   "execution_count": 339,
   "id": "06f5452d",
   "metadata": {},
   "outputs": [],
   "source": [
    "# 희토류, 리튬, 코발트 병합"
   ]
  },
  {
   "cell_type": "code",
   "execution_count": 340,
   "id": "e6de7733",
   "metadata": {},
   "outputs": [],
   "source": [
    "## 리튬\n",
    "df_li = pd.read_excel('리튬+가격2022-03-08.xls')\n",
    "df_li.drop(['등락가', '등락비율', '재고량'], axis=1, inplace=True)\n",
    "df_li.columns = ['date', 'li_price']\n",
    "df_li.date = pd.to_datetime(df_li.date)\n",
    "# df_li.to_csv('data_li.csv')\n",
    "\n",
    "df_li = pd.read_csv('data_li.csv')\n",
    "df_li.date = pd.to_datetime(df_li.date)"
   ]
  },
  {
   "cell_type": "code",
   "execution_count": 341,
   "id": "90bd47c8",
   "metadata": {},
   "outputs": [],
   "source": [
    "## 코발트\n",
    "df_co = pd.read_csv('코발트 가격.csv')\n",
    "df_co.drop(['오픈','고가','저가','거래량'], axis=1, inplace=True)\n",
    "df_co.rename(columns={'날짜':'date', '종가':'co', '변동 %':'co_volatility'},\n",
    "                 inplace=True)\n",
    "\n",
    "### 날짜 전처리\n",
    "df_co.date = df_co.date.apply(change_date)\n",
    "df_co.date = pd.to_datetime(df_co.date)\n",
    "\n",
    "### 가격 float타입\n",
    "df_co.co = df_co.co.str.replace(',','').astype('float')\n",
    "\n",
    "### 변동% 전처리\n",
    "df_co['co_volatility'] = df_co.co_volatility.apply(lambda x : float(x[:-1]))"
   ]
  },
  {
   "cell_type": "code",
   "execution_count": 342,
   "id": "bf907f1c",
   "metadata": {},
   "outputs": [],
   "source": [
    "## 희토류\n",
    "df_ra = pd.read_excel('희토류 가격.xlsx')\n",
    "df_ra.drop(['등락가', '재고량', '등락비율'], axis = 1, inplace = True)\n",
    "df_ra.columns = 'date', '희토류가격'\n",
    "df_ra.date = pd.to_datetime(df_ra.date)"
   ]
  },
  {
   "cell_type": "code",
   "execution_count": 343,
   "id": "7e824db3",
   "metadata": {},
   "outputs": [],
   "source": [
    "## 병합\n",
    "merge_lico = pd.merge(df_li, df_co, on = 'date', how = 'outer')\n",
    "merge_licora = pd.merge(merge_lico, df_ra, on = 'date', how = 'outer')\n",
    "# merge_licora.to_csv('배터리원자재_merge.csv')"
   ]
  },
  {
   "cell_type": "code",
   "execution_count": null,
   "id": "05c9a36a",
   "metadata": {},
   "outputs": [],
   "source": []
  },
  {
   "cell_type": "code",
   "execution_count": 344,
   "id": "26f77dc8",
   "metadata": {},
   "outputs": [],
   "source": [
    "# 재무제표"
   ]
  },
  {
   "cell_type": "code",
   "execution_count": 345,
   "id": "ae1b962e",
   "metadata": {},
   "outputs": [],
   "source": [
    "## 재무제표1 크롤링\n",
    "url = 'https://www.choicestock.co.kr/search/invest/TSLA/MRQ'\n",
    "res = requests.get(url)\n",
    "soup = BeautifulSoup(res.text, 'html.parser')\n",
    "datas = soup.select('table.tableRanking')\n",
    "\n",
    "## 데이터 프레임 생성\n",
    "li = []\n",
    "for data in datas:\n",
    "    table = parser_functions.make2d(data)\n",
    "    df = pd.DataFrame(data=table[1:], columns=table[0])\n",
    "    li.append(df)\n",
    "    \n",
    "## 합병\n",
    "df = pd.concat(li)\n",
    "\n",
    "## 저장\n",
    "# df.to_csv('fn_statement.csv')"
   ]
  },
  {
   "cell_type": "code",
   "execution_count": 346,
   "id": "dc212b11",
   "metadata": {},
   "outputs": [],
   "source": [
    "## 재무제표1 전처리\n",
    "df_fn_statements = pd.read_csv('tesla 재무제표.csv')\n",
    "df_fn_statements = df_fn_statements.set_index('Unnamed: 1')\n",
    "df_fn_statements = df_fn_statements.drop(['Unnamed: 0','초이스스탁US 프리미엄', '프리미엄', '무료'], axis = 1)\n",
    "df_fn_statements.dropna(inplace = True)\n",
    "df_fn_statements = df_fn_statements.T\n",
    "df_fn_statements = df_fn_statements.astype('object')\n",
    "df_fn_statements = df_fn_statements.reset_index()\n",
    "df_fn_statements = df_fn_statements.rename_axis(columns={'Unnamed: 1' : ''})\n",
    "df_fn_statements = df_fn_statements.rename(columns={'index':'date'})\n",
    "df_fn_statements.date = df_fn_statements.date.apply(lambda x : x.replace('.','/'))\n",
    "df_fn_statements.date = df_fn_statements.date.apply(lambda x : '/'.join(x.split('/')[::-1]))\n",
    "df_fn_statements.date = pd.to_datetime(df_fn_statements.date)\n",
    "df_fn_statements.drop(['중단손익'], axis=1, inplace=True)\n",
    "\n",
    "drop_col = ['매입채무등', '단기차입금', '장기차입금', '이연수익', '이연세부채','기타부채', '부채총계',\n",
    "            '이익잉여금', '기타포괄익', '자본총계', '영업활동', '투자활동', '재무활동', '환율변동',\n",
    "            '현금의증감', '자본적지출', '잉여현금', '현금성자산', '단기투자', '매출채권등', '재고자산',\n",
    "            '장기투자', '유형자산', '무형자산', '이연세자산', '기타자산','EBITDA', '법인세', '판매관리비',\n",
    "            '연구개발비']\n",
    "\n",
    "df_fn_statements.drop(drop_col, axis=1, inplace=True)\n",
    "df_fn_statements = df_fn_statements.iloc[:28]\n",
    "\n",
    "# float 타입변환\n",
    "col = df_fn_statements.columns.values\n",
    "for c in col[1:]:\n",
    "    df_fn_statements.loc[:,c] = df_fn_statements.loc[:,c].apply(lambda x : x.replace(',',''))\n",
    "    df_fn_statements[c] = df_fn_statements[c].astype('float')\n",
    "\n",
    "# 이익률 계산\n",
    "df_fn_statements['매출총이익률'] = (df_fn_statements['매출총이익']/df_fn_statements['매출액'])*100\n",
    "df_fn_statements['영업이익률'] = (df_fn_statements['영업이익']/df_fn_statements['매출액'])*100\n",
    "# df_fn_statements.to_csv('fn_statements.csv')"
   ]
  },
  {
   "cell_type": "code",
   "execution_count": 347,
   "id": "25a7cb84",
   "metadata": {},
   "outputs": [],
   "source": [
    "## 재무제표2 크롤링\n",
    "url = 'https://www.choicestock.co.kr/search/invest/TSLA'\n",
    "res = requests.get(url)\n",
    "soup = BeautifulSoup(res.text, 'html.parser')\n",
    "datas = soup.select('table')\n",
    "li = []\n",
    "for data in datas:\n",
    "    table = parser_functions.make2d(data)\n",
    "    df = pd.DataFrame(data=table[1:], columns=table[0])\n",
    "    li.append(df)\n",
    "### 병합\n",
    "df = pd.concat(li)"
   ]
  },
  {
   "cell_type": "code",
   "execution_count": 348,
   "id": "534b6b40",
   "metadata": {},
   "outputs": [],
   "source": [
    "## 재무제표2 전처리"
   ]
  },
  {
   "cell_type": "code",
   "execution_count": 349,
   "id": "958c5ea9",
   "metadata": {},
   "outputs": [],
   "source": [
    "df = df.iloc[:12, :].drop(['초이스스탁US 프리미엄', '프리미엄', '무료'], axis=1).set_index('').T\n",
    "df.to_csv('재무재표2_전처리.csv')"
   ]
  },
  {
   "cell_type": "code",
   "execution_count": 350,
   "id": "198893f1",
   "metadata": {},
   "outputs": [],
   "source": [
    "df_fn_statements2 = pd.read_csv('재무재표2_전처리.csv')\n",
    "df_fn_statements2 = df_fn_statements2.rename(columns={'Unnamed: 0':'date'})\n",
    "df_fn_statements2.date = df_fn_statements2.date.apply(lambda x : x.replace('.','/'))\n",
    "df_fn_statements2.date = df_fn_statements2.date.apply(lambda x : '/'.join(x.split('/')[::-1]))\n",
    "df_fn_statements2.date = pd.to_datetime(df_fn_statements2.date)\n",
    "df_fn_statements2.drop(['부채비율(%)','이자보상배수(배)'], axis=1, inplace=True)"
   ]
  },
  {
   "cell_type": "code",
   "execution_count": null,
   "id": "ad6bf4cf",
   "metadata": {},
   "outputs": [],
   "source": []
  },
  {
   "cell_type": "code",
   "execution_count": 351,
   "id": "a30cc290",
   "metadata": {},
   "outputs": [],
   "source": [
    "# 리튬관련 etf"
   ]
  },
  {
   "cell_type": "code",
   "execution_count": 352,
   "id": "7629b78a",
   "metadata": {},
   "outputs": [],
   "source": [
    "## LIT etf\n",
    "df_lit = pd.read_csv('리튬 etf LIT.csv')\n",
    "df_lit.drop(['Open', 'High', 'Low', 'Close'], axis = 1, inplace=True)\n",
    "df_lit.columns = 'date', 'LIT조정종가', 'LIT거래량'\n",
    "df_lit['date'] = pd.to_datetime(df_lit['date'])"
   ]
  },
  {
   "cell_type": "code",
   "execution_count": 353,
   "id": "7cf89077",
   "metadata": {},
   "outputs": [],
   "source": [
    "## SGL ETF\n",
    "df_sgl = pd.read_csv('리튬전지 SGL etf.csv')\n",
    "df_sgl.drop(['오픈', '고가', '저가', '거래량'], axis = 1, inplace = True)\n",
    "df_sgl.columns = 'date', 'SGL종가', 'SGL변동률'\n",
    "df_sgl['date'] = df_sgl['date'].apply(change_date)\n",
    "df_sgl['date'] = pd.to_datetime(df_sgl['date'])\n",
    "### 변동% 전처리\n",
    "df_sgl['SGL변동률'] = df_sgl.SGL변동률.apply(lambda x : float(x[:-1]))"
   ]
  },
  {
   "cell_type": "code",
   "execution_count": 354,
   "id": "58ba09a8",
   "metadata": {},
   "outputs": [],
   "source": [
    "## 리튬 etf 병합\n",
    "df_lithium_etf = pd.merge(df_lit, df_sgl, on = 'date', how = 'outer')\n",
    "# df_lithium_etf.to_csv('lithium_etf_merge')"
   ]
  },
  {
   "cell_type": "code",
   "execution_count": null,
   "id": "e65edbf6",
   "metadata": {},
   "outputs": [],
   "source": []
  },
  {
   "cell_type": "code",
   "execution_count": 355,
   "id": "a6bafec6",
   "metadata": {},
   "outputs": [],
   "source": [
    "# 반도체관련 etf"
   ]
  },
  {
   "cell_type": "code",
   "execution_count": 356,
   "id": "71616353",
   "metadata": {},
   "outputs": [],
   "source": [
    "## psi etf (미국)\n",
    "df_psi = pd.read_csv(\"미국 반도체 etf PSI.csv\")\n",
    "df_psi = df_psi.rename(columns={'날짜':'date'})\n",
    "df_psi = df_psi.rename(columns={'거래량':'PSI거래량','종가':'PSI종가'})\n",
    "df_psi.drop(['오픈','고가','저가','변동 %'], axis=1, inplace=True)\n",
    "df_psi.date = pd.to_datetime(df_psi.date.apply(change_date))\n",
    "df_psi.PSI거래량 = df_psi.PSI거래량.apply(m_to_k).astype('float')"
   ]
  },
  {
   "cell_type": "code",
   "execution_count": 357,
   "id": "417935d3",
   "metadata": {},
   "outputs": [],
   "source": [
    "## soxx etf (미국)\n",
    "df_soxx = pd.read_csv(\"미국 반도체 etf SOXX.csv\")\n",
    "df_soxx = df_soxx.rename(columns = {'날짜' : 'date','거래량' : 'SOXX거래량','종가' : 'SOXX종가'})\n",
    "df_soxx.drop(['오픈','고가','저가','변동 %'], axis=1, inplace=True)\n",
    "df_soxx.date = pd.to_datetime(df_soxx.date.apply(change_date))\n",
    "df_soxx.SOXX거래량 = df_soxx.SOXX거래량.apply(m_to_k).astype(\"float\")"
   ]
  },
  {
   "cell_type": "code",
   "execution_count": 358,
   "id": "cbbbe22b",
   "metadata": {},
   "outputs": [],
   "source": [
    "## soxl etf (미국)\n",
    "df_soxl = pd.read_csv(\"미국 반도체 etf SOXL.csv\")\n",
    "df_soxl = df_soxl.rename(columns = {'날짜' : 'date','거래량' : 'SOXL거래량','종가' : 'SOXL종가'})\n",
    "df_soxl.drop(['오픈','고가','저가','변동 %'], axis=1, inplace=True)\n",
    "df_soxl.date = pd.to_datetime(df_soxl.date.apply(change_date))\n",
    "df_soxl.SOXL거래량 = df_soxl.SOXL거래량.apply(m_to_k).astype(\"float\")"
   ]
  },
  {
   "cell_type": "code",
   "execution_count": 359,
   "id": "b3282de4",
   "metadata": {},
   "outputs": [],
   "source": [
    "## 반도체 etf merge\n",
    "merge_outer = pd.merge(df_psi, df_soxx,how='outer', on='date')\n",
    "semi_etf_merge = pd.merge(merge_outer,df_soxl, how='outer', on='date')\n",
    "# semi_etf_merge.to_csv('반도체 etf merge.csv')"
   ]
  },
  {
   "cell_type": "code",
   "execution_count": null,
   "id": "7700aa7a",
   "metadata": {},
   "outputs": [],
   "source": []
  },
  {
   "cell_type": "code",
   "execution_count": 360,
   "id": "37a3276d",
   "metadata": {},
   "outputs": [],
   "source": [
    "# 전기차관련 etf"
   ]
  },
  {
   "cell_type": "code",
   "execution_count": 361,
   "id": "605dd275",
   "metadata": {},
   "outputs": [],
   "source": [
    "## driv etf (미국)\n",
    "df_driv = pd.read_csv(\"미국 전기차 erf DRIV.csv\")\n",
    "df_driv = df_driv.rename(columns = {'날짜':'date', '종가':'DRIV종가','거래량':'DRIV거래량'})\n",
    "df_driv.drop(['오픈','고가','저가','변동 %'], axis =1, inplace=True)\n",
    "df_driv.date = pd.to_datetime(df_driv.date.apply(change_date))\n",
    "df_driv.DRIV거래량 = df_driv.DRIV거래량.apply(m_to_k).astype('float')"
   ]
  },
  {
   "cell_type": "code",
   "execution_count": 362,
   "id": "1a2f2665",
   "metadata": {},
   "outputs": [],
   "source": [
    "## acdc etf (캐나다)\n",
    "df_acdc = pd.read_csv(\"캐나다 전기차 etf ACDC.csv\")\n",
    "df_acdc = df_acdc.rename(columns = {'날짜':'date', '종가':'ACDC종가','거래량':'ACDC거래량'})\n",
    "df_acdc.drop(['오픈','고가','저가','변동 %'], axis =1, inplace=True)\n",
    "df_acdc.date = pd.to_datetime(df_acdc.date.apply(change_date))\n",
    "df_acdc.ACDC거래량 = df_acdc.ACDC거래량.apply(m_to_k).astype('float')"
   ]
  },
  {
   "cell_type": "code",
   "execution_count": 363,
   "id": "7a40ceac",
   "metadata": {
    "scrolled": true
   },
   "outputs": [],
   "source": [
    "## kars (미국 자율주행 etf)\n",
    "df_kars = pd.read_csv(\"미국 자율주행전기차 etf KARS.csv\")\n",
    "df_kars.drop(['오픈','고가','저가'], axis=1, inplace=True)\n",
    "df_kars.rename(columns={'날짜':'date', '종가':'kars', '거래량':'kars_거래량', '변동 %':'kars_volatility'},\n",
    "                 inplace=True)\n",
    "\n",
    "### 날짜 전처리\n",
    "df_kars.date = df_kars.date.apply(change_date)\n",
    "df_kars.date = pd.to_datetime(df_kars.date)\n",
    "\n",
    "### 가격 float타입\n",
    "df_kars.kars = df_kars.kars.astype('float')\n",
    "\n",
    "### 거래량 전처리\n",
    "df_kars['kars_거래량'] = df_kars['kars_거래량'].apply(m_to_k)\n",
    "\n",
    "### 변동% 전처리\n",
    "df_kars['kars_volatility'] = df_kars.kars_volatility.apply(lambda x : float(x[:-1]))"
   ]
  },
  {
   "cell_type": "code",
   "execution_count": 364,
   "id": "8cca023b",
   "metadata": {},
   "outputs": [],
   "source": [
    "## BATT (미국 배터리 etf)\n",
    "df_batt = pd.read_csv(\"미국 배터리 etf BATT.csv\")\n",
    "df_batt.drop(['오픈','고가','저가'], axis=1, inplace=True)\n",
    "df_batt.rename(columns={'날짜':'date', '종가':'batt', '거래량':'batt_거래량', '변동 %':'batt_volatility'},\n",
    "                 inplace=True)\n",
    "\n",
    "### 날짜 전처리\n",
    "df_batt.date = df_batt.date.apply(change_date)\n",
    "df_batt.date = pd.to_datetime(df_batt.date)\n",
    "\n",
    "### 가격 float타입\n",
    "df_batt.batt = df_batt.batt.astype('float')\n",
    "\n",
    "### 거래량 전처리\n",
    "df_batt['batt_거래량'] = df_batt['batt_거래량'].apply(m_to_k)\n",
    "\n",
    "### 변동% 전처리\n",
    "df_batt['batt_volatility'] = df_batt.batt_volatility.apply(lambda x : float(x[:-1]))"
   ]
  },
  {
   "cell_type": "code",
   "execution_count": 365,
   "id": "8b2885f3",
   "metadata": {},
   "outputs": [],
   "source": [
    "## 전기차 etf 병합\n",
    "ele_car_merge = pd.merge(df_driv, df_acdc, how='outer', on='date')\n",
    "ele_car_merge = pd.merge(ele_car_merge, df_kars, how='outer', on='date')\n",
    "ele_car_merge = pd.merge(ele_car_merge, df_batt, how='outer', on='date')\n",
    "# ele_car_merge.to_csv('전기차 etf merge.csv')"
   ]
  },
  {
   "cell_type": "code",
   "execution_count": null,
   "id": "ceb79781",
   "metadata": {},
   "outputs": [],
   "source": []
  },
  {
   "cell_type": "code",
   "execution_count": 366,
   "id": "80688c7f",
   "metadata": {},
   "outputs": [],
   "source": [
    "## TBX (미국채금리 인버스 etf)"
   ]
  },
  {
   "cell_type": "code",
   "execution_count": 367,
   "id": "07f6a4ad",
   "metadata": {},
   "outputs": [],
   "source": [
    "df_tbx = pd.read_csv(\"미국채금리 인버스 etf TBX.csv\")\n",
    "df_tbx.drop(['오픈','고가','저가'], axis=1, inplace=True)\n",
    "df_tbx.rename(columns={'날짜':'date', '종가':'tbx', '거래량':'tbx_거래량', '변동 %':'tbx_volatility'},\n",
    "                 inplace=True)\n",
    "\n",
    "### 날짜 전처리\n",
    "df_tbx.date = df_tbx.date.apply(change_date)\n",
    "df_tbx.date = pd.to_datetime(df_tbx.date)\n",
    "\n",
    "### 가격 float타입\n",
    "df_tbx.tbx = df_tbx.tbx.astype('float')\n",
    "\n",
    "### 거래량 전처리\n",
    "df_tbx['tbx_거래량'] = df_tbx['tbx_거래량'].apply(m_to_k)\n",
    "\n",
    "### 변동% 전처리\n",
    "df_tbx['tbx_volatility'] = df_tbx.tbx_volatility.apply(lambda x : float(x[:-1]))"
   ]
  },
  {
   "cell_type": "code",
   "execution_count": null,
   "id": "c03a85d9",
   "metadata": {},
   "outputs": [],
   "source": []
  },
  {
   "cell_type": "code",
   "execution_count": 368,
   "id": "8cec0c2a",
   "metadata": {},
   "outputs": [],
   "source": [
    "# 한국 2차전지 etf"
   ]
  },
  {
   "cell_type": "code",
   "execution_count": 369,
   "id": "402454c4",
   "metadata": {},
   "outputs": [],
   "source": [
    "## kodex\n",
    "df_kodex = pd.read_csv('한국 2차전지 etf KODEX 2차전지산업.csv')\n",
    "df_kodex.drop(['오픈','고가','저가'], axis=1, inplace=True)\n",
    "df_kodex.rename(columns={'날짜':'date', '종가':'kodex', '거래량':'kodex_거래량', '변동 %':'kodex_volatility'},\n",
    "                 inplace=True)\n",
    "\n",
    "### 날짜 전처리\n",
    "df_kodex.date = df_kodex.date.apply(change_date)\n",
    "df_kodex.date = pd.to_datetime(df_kodex.date)\n",
    "\n",
    "### 가격 float타입\n",
    "df_kodex.kodex = df_kodex.kodex.str.replace(',','').astype('float')\n",
    "\n",
    "### 거래량 전처리\n",
    "df_kodex['kodex_거래량'] = df_kodex['kodex_거래량'].apply(m_to_k)\n",
    "\n",
    "### 변동% 전처리\n",
    "df_kodex['kodex_volatility'] = df_kodex.kodex_volatility.apply(lambda x : float(x[:-1]))"
   ]
  },
  {
   "cell_type": "code",
   "execution_count": 370,
   "id": "0ce1961e",
   "metadata": {},
   "outputs": [],
   "source": [
    "## tiger\n",
    "df_tiger = pd.read_csv('타이거 2차전지 etf.csv')\n",
    "df_tiger.drop(['오픈','고가','저가'], axis=1, inplace=True)\n",
    "df_tiger.rename(columns={'날짜':'date', '종가':'tiger', '거래량':'tiger_거래량', '변동 %':'tiger_volatility'},\n",
    "                 inplace=True)\n",
    "\n",
    "### 날짜 전처리\n",
    "df_tiger.date = df_tiger.date.apply(change_date)\n",
    "df_tiger.date = pd.to_datetime(df_tiger.date)\n",
    "\n",
    "### 가격 float타입\n",
    "df_tiger.tiger = df_tiger.tiger.str.replace(',','').astype('float')\n",
    "\n",
    "### 거래량 전처리\n",
    "df_tiger['tiger_거래량'] = df_tiger['tiger_거래량'].apply(m_to_k)\n",
    "\n",
    "### 변동% 전처리\n",
    "df_tiger['tiger_volatility'] = df_tiger.tiger_volatility.apply(lambda x : float(x[:-1]))"
   ]
  },
  {
   "cell_type": "code",
   "execution_count": 371,
   "id": "6fcbb0e7",
   "metadata": {},
   "outputs": [],
   "source": [
    "btr_merge = pd.merge(df_kodex, df_tiger, how='outer', on='date')"
   ]
  },
  {
   "cell_type": "code",
   "execution_count": null,
   "id": "b0e17daa",
   "metadata": {},
   "outputs": [],
   "source": []
  },
  {
   "cell_type": "code",
   "execution_count": 372,
   "id": "d4d410b0",
   "metadata": {},
   "outputs": [],
   "source": [
    "# 테슬라 주가(target)"
   ]
  },
  {
   "cell_type": "code",
   "execution_count": 373,
   "id": "efe80676",
   "metadata": {},
   "outputs": [],
   "source": [
    "## 테슬라\n",
    "df_tesla = pd.read_csv('테슬라 주가.csv')\n",
    "df_tesla.drop(['오픈','고가','저가'], axis=1, inplace=True)\n",
    "df_tesla.rename(columns={'날짜':'date', '종가':'tesla', '거래량':'tesla_거래량', '변동 %':'tesla_volatility'},\n",
    "                 inplace=True)\n",
    "\n",
    "### 가격 float타입\n",
    "df_tesla.tesla = df_tesla.tesla.str.replace(',','').astype('float')\n",
    "\n",
    "### 날짜 전처리\n",
    "df_tesla.date = df_tesla.date.apply(change_date)\n",
    "df_tesla.date = pd.to_datetime(df_tesla.date)\n",
    "\n",
    "### 거래량 전처리\n",
    "df_tesla['tesla_거래량'] = df_tesla['tesla_거래량'].apply(m_to_k)\n",
    "\n",
    "### 변동% 전처리\n",
    "df_tesla['tesla_volatility'] = df_tesla.tesla_volatility.apply(lambda x : float(x[:-1]))"
   ]
  },
  {
   "cell_type": "code",
   "execution_count": null,
   "id": "ed7bab2e",
   "metadata": {},
   "outputs": [],
   "source": []
  },
  {
   "cell_type": "code",
   "execution_count": 374,
   "id": "e2d30451",
   "metadata": {},
   "outputs": [],
   "source": [
    "# 유가 선물지수, 탄소배출권"
   ]
  },
  {
   "cell_type": "code",
   "execution_count": 375,
   "id": "8fa15856",
   "metadata": {},
   "outputs": [],
   "source": [
    "## 유가 선물지수\n",
    "df_oli_price = pd.read_csv('국제 유가 선물.csv')\n",
    "df_oli_price.drop(['오픈','고가','저가', '거래량'], axis=1, inplace=True)\n",
    "df_oli_price.rename(columns={'날짜':'date', '종가':'oli_price', '변동 %':'oli_price_volatility'}, inplace=True)\n",
    "\n",
    "### 날짜 전처리\n",
    "df_oli_price.date = df_oli_price.date.apply(change_date)\n",
    "df_oli_price.date = pd.to_datetime(df_oli_price.date)\n",
    "\n",
    "### 변동% 전처리\n",
    "df_oli_price['oli_price_volatility'] = df_oli_price.oli_price_volatility.apply(lambda x : float(x[:-1]))"
   ]
  },
  {
   "cell_type": "code",
   "execution_count": 376,
   "id": "12ff55bb",
   "metadata": {},
   "outputs": [],
   "source": [
    "## 탄소배출권\n",
    "df_carbon_credits = pd.read_csv('탄소배출권.csv')\n",
    "df_carbon_credits.drop(['오픈','고가','저가', '거래량'], axis=1, inplace=True)\n",
    "df_carbon_credits.rename(columns={'날짜':'date', '종가':'carbon_credits', '변동 %':'carbon_credits_volatility'}, inplace=True)\n",
    "\n",
    "### 날짜 전처리\n",
    "df_carbon_credits.date = df_carbon_credits.date.apply(change_date)\n",
    "df_carbon_credits.date = pd.to_datetime(df_carbon_credits.date)\n",
    "\n",
    "### 변동% 전처리\n",
    "df_carbon_credits['carbon_credits_volatility'] = df_carbon_credits.carbon_credits_volatility.apply(lambda x : float(x[:-1]))"
   ]
  },
  {
   "cell_type": "code",
   "execution_count": 377,
   "id": "529549b5",
   "metadata": {},
   "outputs": [],
   "source": [
    "## 유가, 탄소배출권 병합\n",
    "merge_oli_carbon = pd.merge(df_oli_price, df_carbon_credits, how='outer', on='date')\n",
    "# merge_oli_carbon.to_csv('유가 탄소 merge.csv')"
   ]
  },
  {
   "cell_type": "code",
   "execution_count": null,
   "id": "f05331c7",
   "metadata": {},
   "outputs": [],
   "source": []
  },
  {
   "cell_type": "code",
   "execution_count": 378,
   "id": "99f45e92",
   "metadata": {},
   "outputs": [],
   "source": [
    "# 미국 전기세"
   ]
  },
  {
   "cell_type": "code",
   "execution_count": 379,
   "id": "0c7495b7",
   "metadata": {},
   "outputs": [],
   "source": [
    "## 미국 전기세 전처리\n",
    "df_e_fee_usa = pd.read_csv('미국 전기세.csv', skiprows=4)\n",
    "df_e_fee_usa = df_e_fee_usa.drop(['units','source key'], axis=1)\n",
    "df_e_fee_usa = df_e_fee_usa.set_index('description').T\n",
    "df_e_fee_usa = pd.DataFrame(df_e_fee_usa['United States : industrial'])\n",
    "df_e_fee_usa = df_e_fee_usa.reset_index()\n",
    "df_e_fee_usa = df_e_fee_usa.rename(columns={'United States : industrial' : 'elec_fee', 'index':'date'})\n",
    "df_e_fee_usa = df_e_fee_usa.iloc[168:]\n",
    "df_e_fee_usa.date = pd.to_datetime(df_e_fee_usa['date'])\n",
    "df_e_fee_usa.elec_fee = df_e_fee_usa.elec_fee.astype('float')"
   ]
  },
  {
   "cell_type": "code",
   "execution_count": null,
   "id": "4a347cb9",
   "metadata": {},
   "outputs": [],
   "source": []
  },
  {
   "cell_type": "code",
   "execution_count": 380,
   "id": "413233ce",
   "metadata": {},
   "outputs": [],
   "source": [
    "# 알류미늄, 구리, 신재생"
   ]
  },
  {
   "cell_type": "code",
   "execution_count": 381,
   "id": "3cdd6134",
   "metadata": {},
   "outputs": [],
   "source": [
    "## REGI(신재생)\n",
    "### REGI 데이터 전처리\n",
    "df_regi = pd.read_csv('./REGI 역사적 데이터/REGI 역사적 데이터.csv')\n",
    "df_regi.drop(['오픈', '고가', '저가'], axis=1, inplace=True)\n",
    "df_regi.columns = ['date', 'REGI_price', 'REGI_vol', 'REGI_change']\n",
    "df_regi.date = df_regi.date.apply(change_date)\n",
    "df_regi.date = pd.to_datetime(df_regi.date)\n",
    "df_regi.REGI_vol = df_regi.REGI_vol.apply(m_to_k)\n",
    "df_regi['REGI_change'] = df_regi['REGI_change'].apply(lambda x: float(x.replace('%', '')))"
   ]
  },
  {
   "cell_type": "code",
   "execution_count": null,
   "id": "ac50b3ad",
   "metadata": {},
   "outputs": [],
   "source": []
  },
  {
   "cell_type": "code",
   "execution_count": 382,
   "id": "d3cc51aa",
   "metadata": {},
   "outputs": [],
   "source": [
    "## 알루미늄 전처리\n",
    "df_alu = pd.read_csv('알루미늄 내역.csv')\n",
    "df_alu.drop(['오픈', '고가', '저가'], axis=1, inplace=True)\n",
    "df_alu.columns = ['date', 'alu_price', 'alu_vol', 'alu_change']\n",
    "df_alu.date = df_alu.date.apply(change_date)\n",
    "df_alu.date = pd.to_datetime(df_alu.date)\n",
    "df_alu['alu_price'] = df_alu['alu_price'].apply(lambda x: x.replace(',', ''))\n",
    "df_alu['alu_price'] = pd.to_numeric(df_alu['alu_price'])\n",
    "df_alu['alu_vol'] = df_alu['alu_vol'].apply(m_to_k)\n",
    "df_alu['alu_change'] = df_alu['alu_change'].apply(lambda x: float(x.replace('%', '')))"
   ]
  },
  {
   "cell_type": "code",
   "execution_count": 383,
   "id": "a02a0008",
   "metadata": {},
   "outputs": [],
   "source": [
    "## 구리 데이터 전처리\n",
    "df_cu = pd.read_csv('영국 구리 선물 내역.csv')\n",
    "df_cu.drop(['오픈', '고가', '저가', '거래량'], axis=1, inplace=True)\n",
    "df_cu.columns = ['date', 'cu_price', 'cu_change']\n",
    "df_cu.date = df_cu.date.apply(change_date)\n",
    "df_cu.date = pd.to_datetime(df_cu.date)\n",
    "df_cu.cu_price = df_cu.cu_price.apply(lambda x: float(x.replace(',', '')))\n",
    "df_cu['cu_change'] = df_cu['cu_change'].apply(lambda x: float(x.replace('%', '')))"
   ]
  },
  {
   "cell_type": "code",
   "execution_count": 384,
   "id": "0fcff042",
   "metadata": {},
   "outputs": [],
   "source": [
    "## 알류미늄, 구리, 신재생 병합\n",
    "al_cu_regi_merge = pd.merge(df_alu, df_cu, on='date', how='outer')\n",
    "al_cu_regi_merge = pd.merge(al_cu_regi_merge, df_regi, on='date', how='outer')\n",
    "# al_cu_regi_merge = pd.read_csv('alu_cu_REGI_df.csv')\n",
    "# al_cu_regi_merge.drop('Unnamed: 0', axis=1, inplace=True)\n",
    "al_cu_regi_merge.date = pd.to_datetime(al_cu_regi_merge.date)"
   ]
  },
  {
   "cell_type": "code",
   "execution_count": null,
   "id": "7b709184",
   "metadata": {},
   "outputs": [],
   "source": []
  },
  {
   "cell_type": "code",
   "execution_count": 385,
   "id": "7ddaf083",
   "metadata": {
    "scrolled": false
   },
   "outputs": [],
   "source": [
    "## S&P 500\n",
    "df_snp_500 = pd.read_csv('S&P 500 내역.csv')\n",
    "df_snp_500.drop(['오픈','고가','저가', '거래량'], axis=1, inplace=True)\n",
    "df_snp_500.rename(columns={'날짜':'date', '종가':'snp_500', '거래량':'snp_500_거래량', '변동 %':'snp_500_volatility'},\n",
    "               inplace=True)\n",
    "\n",
    "### 날짜 전처리\n",
    "df_snp_500.date = df_snp_500.date.apply(change_date)\n",
    "df_snp_500.date = pd.to_datetime(df_snp_500.date)\n",
    "\n",
    "### 가격 float타입\n",
    "df_snp_500.snp_500 = df_snp_500.snp_500.str.replace(',','').astype('float')\n",
    "\n",
    "### 변동% 전처리\n",
    "df_snp_500['snp_500_volatility'] = df_snp_500.snp_500_volatility.apply(lambda x : float(x[:-1]))"
   ]
  },
  {
   "cell_type": "code",
   "execution_count": null,
   "id": "641280bd",
   "metadata": {},
   "outputs": [],
   "source": []
  },
  {
   "cell_type": "code",
   "execution_count": null,
   "id": "b7190216",
   "metadata": {},
   "outputs": [],
   "source": [
    "## 검색량"
   ]
  },
  {
   "cell_type": "code",
   "execution_count": 413,
   "id": "e8c75f35",
   "metadata": {},
   "outputs": [],
   "source": [
    "datas = os.listdir('./multiTimeline')\n",
    "li = []\n",
    "for data in datas:\n",
    "    df = pd.read_csv('./multiTimeline/{}'.format(data))\n",
    "    li.append(df)\n",
    "df_con = pd.concat(li)\n",
    "df_con = df_con.reset_index()\n",
    "df_con = df_con.rename(columns={'index' : 'date', '카테고리: 모든 카테고리' : '검색량'})\n",
    "df_con.검색량 = df_con.검색량.apply(lambda x: x if x.isnumeric() else np.nan)\n",
    "df_con.dropna(inplace=True)\n",
    "df_con.date = pd.to_datetime(df_con.date)\n",
    "df_con.to_csv('검색량.csv')"
   ]
  },
  {
   "cell_type": "code",
   "execution_count": null,
   "id": "556f20c2",
   "metadata": {},
   "outputs": [],
   "source": []
  },
  {
   "cell_type": "code",
   "execution_count": 386,
   "id": "3082b32f",
   "metadata": {},
   "outputs": [],
   "source": [
    "# 테슬라 주가 기준 merge"
   ]
  },
  {
   "cell_type": "code",
   "execution_count": 387,
   "id": "d640b52b",
   "metadata": {},
   "outputs": [],
   "source": [
    "## 테슬라 - 미국전기세\n",
    "df_total = pd.merge(df_tesla, df_e_fee_usa, how='outer', on='date')\n",
    "df_total = df_total.sort_values('date')\n",
    "### 전기세의 nan값은 ffill(한달 단위기 때문에)\n",
    "df_total.elec_fee.fillna(method='ffill', inplace=True)\n",
    "df_total.dropna(how='any',inplace=True)"
   ]
  },
  {
   "cell_type": "code",
   "execution_count": 388,
   "id": "e78037be",
   "metadata": {},
   "outputs": [],
   "source": [
    "## 테슬라 - 유가,탄소\n",
    "df_total = pd.merge(df_total, merge_oli_carbon, how='left', on='date')"
   ]
  },
  {
   "cell_type": "code",
   "execution_count": 389,
   "id": "d91ef49b",
   "metadata": {},
   "outputs": [],
   "source": [
    "## 테슬라 - 중국 전기차 주가\n",
    "df_total = pd.merge(df_total, merge_eve_byd, how='left', on='date')"
   ]
  },
  {
   "cell_type": "code",
   "execution_count": 390,
   "id": "10e1855f",
   "metadata": {},
   "outputs": [],
   "source": [
    "# ## 테슬라 - 전기차 etf\n",
    "# df_total = pd.merge(df_total, ele_car_merge, how='left', on='date')"
   ]
  },
  {
   "cell_type": "code",
   "execution_count": 391,
   "id": "fb6d2590",
   "metadata": {
    "scrolled": false
   },
   "outputs": [],
   "source": [
    "## 테슬라 - 반도체 etf\n",
    "df_total = pd.merge(df_total, semi_etf_merge, how='left', on='date')"
   ]
  },
  {
   "cell_type": "code",
   "execution_count": 392,
   "id": "70d13155",
   "metadata": {},
   "outputs": [],
   "source": [
    "## 테슬라 - 리튬 etf\n",
    "df_total = pd.merge(df_total, df_lithium_etf, how='left', on='date')"
   ]
  },
  {
   "cell_type": "code",
   "execution_count": 393,
   "id": "a82b97e7",
   "metadata": {},
   "outputs": [],
   "source": [
    "## 테슬라 - 희토류, 리튬, 코발트\n",
    "df_total = pd.merge(df_total, merge_licora, how='left', on='date')\n",
    "\n",
    "### 리튬 nan값 선형보간\n",
    "df_total['li_price'] = df_total['li_price'].interpolate()\n",
    "\n",
    "### 희토류 nan값 선형보간\n",
    "df_total.희토류가격 = df_total.희토류가격.interpolate()\n",
    "\n",
    "### 코발트 nan값 선형보간\n",
    "df_total.co = df_total.co.interpolate()\n",
    "df_total['co_volatility'] = df_total['co_volatility'].interpolate()"
   ]
  },
  {
   "cell_type": "code",
   "execution_count": 394,
   "id": "8d5be556",
   "metadata": {},
   "outputs": [],
   "source": [
    "## 테슬라 - 종합지수\n",
    "df_total = pd.merge(df_total, df_composite_index, how='left', on='date')"
   ]
  },
  {
   "cell_type": "code",
   "execution_count": 395,
   "id": "d83002fa",
   "metadata": {},
   "outputs": [],
   "source": [
    "## 테슬라 - 알루미늄, 구리, 신재생\n",
    "df_total = pd.merge(df_total, al_cu_regi_merge, how='left', on='date')"
   ]
  },
  {
   "cell_type": "code",
   "execution_count": 396,
   "id": "0223ff02",
   "metadata": {},
   "outputs": [],
   "source": [
    "## 테슬라 - S&P 500\n",
    "df_total = pd.merge(df_total, df_snp_500, how='left', on='date')"
   ]
  },
  {
   "cell_type": "code",
   "execution_count": 397,
   "id": "2af4ff59",
   "metadata": {},
   "outputs": [],
   "source": [
    "## 테슬라 - 2차전지\n",
    "df_total = pd.merge(df_total, btr_merge, how='left', on='date')"
   ]
  },
  {
   "cell_type": "code",
   "execution_count": 398,
   "id": "1436318a",
   "metadata": {},
   "outputs": [],
   "source": [
    "## 테슬라 - tbx\n",
    "df_total = pd.merge(df_total, df_tbx, how='left', on='date')"
   ]
  },
  {
   "cell_type": "code",
   "execution_count": 415,
   "id": "189fc807",
   "metadata": {},
   "outputs": [],
   "source": [
    "## 테슬라 - 검색량\n",
    "df_total = pd.merge(df_total, df_con, how='left', on='date')"
   ]
  },
  {
   "cell_type": "code",
   "execution_count": 399,
   "id": "c9353a0d",
   "metadata": {},
   "outputs": [],
   "source": [
    "# ## 2차전지, 전기차 etf는 2019년부터 데이터가 있기 때문에 nan값을 따로 채우지 않고 2019년 이전의 데이터를 드랍\n",
    "# ### 나머지 선형보간\n",
    "# col_total = df_total.columns.values\n",
    "# for col in col_total[1:]:\n",
    "#     df_total[col] = df_total[col].interpolate()\n",
    "\n",
    "# ### 나머지 nan값 처리\n",
    "# df_total.fillna(method='bfill', inplace=True)"
   ]
  },
  {
   "cell_type": "code",
   "execution_count": 400,
   "id": "b048c46a",
   "metadata": {},
   "outputs": [],
   "source": [
    "# # 2015년부터 있는 데이터만\n",
    "# df_total.to_csv('테슬라 총합.csv')"
   ]
  },
  {
   "cell_type": "code",
   "execution_count": 416,
   "id": "087f5080",
   "metadata": {},
   "outputs": [],
   "source": [
    "# # 2019년부터 있는 데이터도 포함\n",
    "# df_total.to_csv('테슬라 총합 2019.csv')"
   ]
  },
  {
   "cell_type": "code",
   "execution_count": null,
   "id": "c8a94d55",
   "metadata": {},
   "outputs": [],
   "source": []
  }
 ],
 "metadata": {
  "kernelspec": {
   "display_name": "Python 3 (ipykernel)",
   "language": "python",
   "name": "python3"
  },
  "language_info": {
   "codemirror_mode": {
    "name": "ipython",
    "version": 3
   },
   "file_extension": ".py",
   "mimetype": "text/x-python",
   "name": "python",
   "nbconvert_exporter": "python",
   "pygments_lexer": "ipython3",
   "version": "3.9.7"
  }
 },
 "nbformat": 4,
 "nbformat_minor": 5
}
