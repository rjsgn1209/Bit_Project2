{
 "cells": [
  {
   "cell_type": "code",
   "execution_count": 1,
   "id": "2198784b",
   "metadata": {},
   "outputs": [],
   "source": [
    "import MySQLdb\n",
    "import pandas as pd\n",
    "import numpy as np\n",
    "import matplotlib.pyplot as plt\n",
    "import seaborn as sns\n",
    "import plotly.express as px"
   ]
  },
  {
   "cell_type": "code",
   "execution_count": 2,
   "id": "6a7139b5",
   "metadata": {},
   "outputs": [],
   "source": [
    "# plot 한글\n",
    "plt.rcParams['font.family'] = 'Malgun Gothic'\n",
    "sns.set(font=\"Malgun Gothic\", \n",
    "        rc={\"axes.unicode_minus\":False},\n",
    "        style='darkgrid')\n",
    "sns.set(rc = {'figure.figsize':(5,15)})"
   ]
  },
  {
   "cell_type": "code",
   "execution_count": 3,
   "id": "6e811ce7",
   "metadata": {},
   "outputs": [],
   "source": [
    "from sklearn.preprocessing import StandardScaler, MinMaxScaler\n",
    "from sklearn.model_selection import train_test_split\n",
    "from sklearn.linear_model import LinearRegression, Ridge, Lasso, ElasticNet\n",
    "from sklearn.svm import SVR\n",
    "from sklearn.metrics import r2_score, mean_squared_error\n",
    "from xgboost import XGBRegressor\n",
    "from lightgbm import LGBMRegressor\n",
    "from catboost import CatBoost\n",
    "import warnings\n",
    "warnings.filterwarnings(action='ignore')"
   ]
  },
  {
   "cell_type": "code",
   "execution_count": 4,
   "id": "39b63a16",
   "metadata": {},
   "outputs": [
    {
     "ename": "FileNotFoundError",
     "evalue": "[Errno 2] No such file or directory: '테슬라 총합.csv'",
     "output_type": "error",
     "traceback": [
      "\u001b[1;31m---------------------------------------------------------------------------\u001b[0m",
      "\u001b[1;31mFileNotFoundError\u001b[0m                         Traceback (most recent call last)",
      "\u001b[1;32m~\\AppData\\Local\\Temp/ipykernel_3020/4087944285.py\u001b[0m in \u001b[0;36m<module>\u001b[1;34m\u001b[0m\n\u001b[0;32m      1\u001b[0m \u001b[1;31m# 2015년부터 있는 데이터\u001b[0m\u001b[1;33m\u001b[0m\u001b[1;33m\u001b[0m\u001b[0m\n\u001b[1;32m----> 2\u001b[1;33m \u001b[0mdf\u001b[0m \u001b[1;33m=\u001b[0m \u001b[0mpd\u001b[0m\u001b[1;33m.\u001b[0m\u001b[0mread_csv\u001b[0m\u001b[1;33m(\u001b[0m\u001b[1;34m'테슬라 총합.csv'\u001b[0m\u001b[1;33m,\u001b[0m \u001b[0mindex_col\u001b[0m\u001b[1;33m=\u001b[0m\u001b[1;36m0\u001b[0m\u001b[1;33m)\u001b[0m\u001b[1;33m\u001b[0m\u001b[1;33m\u001b[0m\u001b[0m\n\u001b[0m",
      "\u001b[1;32m~\\anaconda3\\lib\\site-packages\\pandas\\io\\parsers.py\u001b[0m in \u001b[0;36mread_csv\u001b[1;34m(filepath_or_buffer, sep, delimiter, header, names, index_col, usecols, squeeze, prefix, mangle_dupe_cols, dtype, engine, converters, true_values, false_values, skipinitialspace, skiprows, skipfooter, nrows, na_values, keep_default_na, na_filter, verbose, skip_blank_lines, parse_dates, infer_datetime_format, keep_date_col, date_parser, dayfirst, cache_dates, iterator, chunksize, compression, thousands, decimal, lineterminator, quotechar, quoting, doublequote, escapechar, comment, encoding, dialect, error_bad_lines, warn_bad_lines, delim_whitespace, low_memory, memory_map, float_precision, storage_options)\u001b[0m\n\u001b[0;32m    608\u001b[0m     \u001b[0mkwds\u001b[0m\u001b[1;33m.\u001b[0m\u001b[0mupdate\u001b[0m\u001b[1;33m(\u001b[0m\u001b[0mkwds_defaults\u001b[0m\u001b[1;33m)\u001b[0m\u001b[1;33m\u001b[0m\u001b[1;33m\u001b[0m\u001b[0m\n\u001b[0;32m    609\u001b[0m \u001b[1;33m\u001b[0m\u001b[0m\n\u001b[1;32m--> 610\u001b[1;33m     \u001b[1;32mreturn\u001b[0m \u001b[0m_read\u001b[0m\u001b[1;33m(\u001b[0m\u001b[0mfilepath_or_buffer\u001b[0m\u001b[1;33m,\u001b[0m \u001b[0mkwds\u001b[0m\u001b[1;33m)\u001b[0m\u001b[1;33m\u001b[0m\u001b[1;33m\u001b[0m\u001b[0m\n\u001b[0m\u001b[0;32m    611\u001b[0m \u001b[1;33m\u001b[0m\u001b[0m\n\u001b[0;32m    612\u001b[0m \u001b[1;33m\u001b[0m\u001b[0m\n",
      "\u001b[1;32m~\\anaconda3\\lib\\site-packages\\pandas\\io\\parsers.py\u001b[0m in \u001b[0;36m_read\u001b[1;34m(filepath_or_buffer, kwds)\u001b[0m\n\u001b[0;32m    460\u001b[0m \u001b[1;33m\u001b[0m\u001b[0m\n\u001b[0;32m    461\u001b[0m     \u001b[1;31m# Create the parser.\u001b[0m\u001b[1;33m\u001b[0m\u001b[1;33m\u001b[0m\u001b[0m\n\u001b[1;32m--> 462\u001b[1;33m     \u001b[0mparser\u001b[0m \u001b[1;33m=\u001b[0m \u001b[0mTextFileReader\u001b[0m\u001b[1;33m(\u001b[0m\u001b[0mfilepath_or_buffer\u001b[0m\u001b[1;33m,\u001b[0m \u001b[1;33m**\u001b[0m\u001b[0mkwds\u001b[0m\u001b[1;33m)\u001b[0m\u001b[1;33m\u001b[0m\u001b[1;33m\u001b[0m\u001b[0m\n\u001b[0m\u001b[0;32m    463\u001b[0m \u001b[1;33m\u001b[0m\u001b[0m\n\u001b[0;32m    464\u001b[0m     \u001b[1;32mif\u001b[0m \u001b[0mchunksize\u001b[0m \u001b[1;32mor\u001b[0m \u001b[0miterator\u001b[0m\u001b[1;33m:\u001b[0m\u001b[1;33m\u001b[0m\u001b[1;33m\u001b[0m\u001b[0m\n",
      "\u001b[1;32m~\\anaconda3\\lib\\site-packages\\pandas\\io\\parsers.py\u001b[0m in \u001b[0;36m__init__\u001b[1;34m(self, f, engine, **kwds)\u001b[0m\n\u001b[0;32m    817\u001b[0m             \u001b[0mself\u001b[0m\u001b[1;33m.\u001b[0m\u001b[0moptions\u001b[0m\u001b[1;33m[\u001b[0m\u001b[1;34m\"has_index_names\"\u001b[0m\u001b[1;33m]\u001b[0m \u001b[1;33m=\u001b[0m \u001b[0mkwds\u001b[0m\u001b[1;33m[\u001b[0m\u001b[1;34m\"has_index_names\"\u001b[0m\u001b[1;33m]\u001b[0m\u001b[1;33m\u001b[0m\u001b[1;33m\u001b[0m\u001b[0m\n\u001b[0;32m    818\u001b[0m \u001b[1;33m\u001b[0m\u001b[0m\n\u001b[1;32m--> 819\u001b[1;33m         \u001b[0mself\u001b[0m\u001b[1;33m.\u001b[0m\u001b[0m_engine\u001b[0m \u001b[1;33m=\u001b[0m \u001b[0mself\u001b[0m\u001b[1;33m.\u001b[0m\u001b[0m_make_engine\u001b[0m\u001b[1;33m(\u001b[0m\u001b[0mself\u001b[0m\u001b[1;33m.\u001b[0m\u001b[0mengine\u001b[0m\u001b[1;33m)\u001b[0m\u001b[1;33m\u001b[0m\u001b[1;33m\u001b[0m\u001b[0m\n\u001b[0m\u001b[0;32m    820\u001b[0m \u001b[1;33m\u001b[0m\u001b[0m\n\u001b[0;32m    821\u001b[0m     \u001b[1;32mdef\u001b[0m \u001b[0mclose\u001b[0m\u001b[1;33m(\u001b[0m\u001b[0mself\u001b[0m\u001b[1;33m)\u001b[0m\u001b[1;33m:\u001b[0m\u001b[1;33m\u001b[0m\u001b[1;33m\u001b[0m\u001b[0m\n",
      "\u001b[1;32m~\\anaconda3\\lib\\site-packages\\pandas\\io\\parsers.py\u001b[0m in \u001b[0;36m_make_engine\u001b[1;34m(self, engine)\u001b[0m\n\u001b[0;32m   1048\u001b[0m             )\n\u001b[0;32m   1049\u001b[0m         \u001b[1;31m# error: Too many arguments for \"ParserBase\"\u001b[0m\u001b[1;33m\u001b[0m\u001b[1;33m\u001b[0m\u001b[0m\n\u001b[1;32m-> 1050\u001b[1;33m         \u001b[1;32mreturn\u001b[0m \u001b[0mmapping\u001b[0m\u001b[1;33m[\u001b[0m\u001b[0mengine\u001b[0m\u001b[1;33m]\u001b[0m\u001b[1;33m(\u001b[0m\u001b[0mself\u001b[0m\u001b[1;33m.\u001b[0m\u001b[0mf\u001b[0m\u001b[1;33m,\u001b[0m \u001b[1;33m**\u001b[0m\u001b[0mself\u001b[0m\u001b[1;33m.\u001b[0m\u001b[0moptions\u001b[0m\u001b[1;33m)\u001b[0m  \u001b[1;31m# type: ignore[call-arg]\u001b[0m\u001b[1;33m\u001b[0m\u001b[1;33m\u001b[0m\u001b[0m\n\u001b[0m\u001b[0;32m   1051\u001b[0m \u001b[1;33m\u001b[0m\u001b[0m\n\u001b[0;32m   1052\u001b[0m     \u001b[1;32mdef\u001b[0m \u001b[0m_failover_to_python\u001b[0m\u001b[1;33m(\u001b[0m\u001b[0mself\u001b[0m\u001b[1;33m)\u001b[0m\u001b[1;33m:\u001b[0m\u001b[1;33m\u001b[0m\u001b[1;33m\u001b[0m\u001b[0m\n",
      "\u001b[1;32m~\\anaconda3\\lib\\site-packages\\pandas\\io\\parsers.py\u001b[0m in \u001b[0;36m__init__\u001b[1;34m(self, src, **kwds)\u001b[0m\n\u001b[0;32m   1865\u001b[0m \u001b[1;33m\u001b[0m\u001b[0m\n\u001b[0;32m   1866\u001b[0m         \u001b[1;31m# open handles\u001b[0m\u001b[1;33m\u001b[0m\u001b[1;33m\u001b[0m\u001b[0m\n\u001b[1;32m-> 1867\u001b[1;33m         \u001b[0mself\u001b[0m\u001b[1;33m.\u001b[0m\u001b[0m_open_handles\u001b[0m\u001b[1;33m(\u001b[0m\u001b[0msrc\u001b[0m\u001b[1;33m,\u001b[0m \u001b[0mkwds\u001b[0m\u001b[1;33m)\u001b[0m\u001b[1;33m\u001b[0m\u001b[1;33m\u001b[0m\u001b[0m\n\u001b[0m\u001b[0;32m   1868\u001b[0m         \u001b[1;32massert\u001b[0m \u001b[0mself\u001b[0m\u001b[1;33m.\u001b[0m\u001b[0mhandles\u001b[0m \u001b[1;32mis\u001b[0m \u001b[1;32mnot\u001b[0m \u001b[1;32mNone\u001b[0m\u001b[1;33m\u001b[0m\u001b[1;33m\u001b[0m\u001b[0m\n\u001b[0;32m   1869\u001b[0m         \u001b[1;32mfor\u001b[0m \u001b[0mkey\u001b[0m \u001b[1;32min\u001b[0m \u001b[1;33m(\u001b[0m\u001b[1;34m\"storage_options\"\u001b[0m\u001b[1;33m,\u001b[0m \u001b[1;34m\"encoding\"\u001b[0m\u001b[1;33m,\u001b[0m \u001b[1;34m\"memory_map\"\u001b[0m\u001b[1;33m,\u001b[0m \u001b[1;34m\"compression\"\u001b[0m\u001b[1;33m)\u001b[0m\u001b[1;33m:\u001b[0m\u001b[1;33m\u001b[0m\u001b[1;33m\u001b[0m\u001b[0m\n",
      "\u001b[1;32m~\\anaconda3\\lib\\site-packages\\pandas\\io\\parsers.py\u001b[0m in \u001b[0;36m_open_handles\u001b[1;34m(self, src, kwds)\u001b[0m\n\u001b[0;32m   1360\u001b[0m         \u001b[0mLet\u001b[0m \u001b[0mthe\u001b[0m \u001b[0mreaders\u001b[0m \u001b[0mopen\u001b[0m \u001b[0mIOHanldes\u001b[0m \u001b[0mafter\u001b[0m \u001b[0mthey\u001b[0m \u001b[0mare\u001b[0m \u001b[0mdone\u001b[0m \u001b[1;32mwith\u001b[0m \u001b[0mtheir\u001b[0m \u001b[0mpotential\u001b[0m \u001b[0mraises\u001b[0m\u001b[1;33m.\u001b[0m\u001b[1;33m\u001b[0m\u001b[1;33m\u001b[0m\u001b[0m\n\u001b[0;32m   1361\u001b[0m         \"\"\"\n\u001b[1;32m-> 1362\u001b[1;33m         self.handles = get_handle(\n\u001b[0m\u001b[0;32m   1363\u001b[0m             \u001b[0msrc\u001b[0m\u001b[1;33m,\u001b[0m\u001b[1;33m\u001b[0m\u001b[1;33m\u001b[0m\u001b[0m\n\u001b[0;32m   1364\u001b[0m             \u001b[1;34m\"r\"\u001b[0m\u001b[1;33m,\u001b[0m\u001b[1;33m\u001b[0m\u001b[1;33m\u001b[0m\u001b[0m\n",
      "\u001b[1;32m~\\anaconda3\\lib\\site-packages\\pandas\\io\\common.py\u001b[0m in \u001b[0;36mget_handle\u001b[1;34m(path_or_buf, mode, encoding, compression, memory_map, is_text, errors, storage_options)\u001b[0m\n\u001b[0;32m    645\u001b[0m                 \u001b[0merrors\u001b[0m \u001b[1;33m=\u001b[0m \u001b[1;34m\"replace\"\u001b[0m\u001b[1;33m\u001b[0m\u001b[1;33m\u001b[0m\u001b[0m\n\u001b[0;32m    646\u001b[0m             \u001b[1;31m# Encoding\u001b[0m\u001b[1;33m\u001b[0m\u001b[1;33m\u001b[0m\u001b[0m\n\u001b[1;32m--> 647\u001b[1;33m             handle = open(\n\u001b[0m\u001b[0;32m    648\u001b[0m                 \u001b[0mhandle\u001b[0m\u001b[1;33m,\u001b[0m\u001b[1;33m\u001b[0m\u001b[1;33m\u001b[0m\u001b[0m\n\u001b[0;32m    649\u001b[0m                 \u001b[0mioargs\u001b[0m\u001b[1;33m.\u001b[0m\u001b[0mmode\u001b[0m\u001b[1;33m,\u001b[0m\u001b[1;33m\u001b[0m\u001b[1;33m\u001b[0m\u001b[0m\n",
      "\u001b[1;31mFileNotFoundError\u001b[0m: [Errno 2] No such file or directory: '테슬라 총합.csv'"
     ]
    }
   ],
   "source": [
    "# 2015년부터 있는 데이터\n",
    "df = pd.read_csv('테슬라 총합.csv', index_col=0)"
   ]
  },
  {
   "cell_type": "code",
   "execution_count": null,
   "id": "2bd27de3",
   "metadata": {},
   "outputs": [],
   "source": [
    "df.columns"
   ]
  },
  {
   "cell_type": "code",
   "execution_count": null,
   "id": "bb6226ee",
   "metadata": {},
   "outputs": [],
   "source": [
    "# 3일 shift\n",
    "df.tesla = df.tesla.shift(-3)\n",
    "df.dropna(inplace=True)\n",
    "df.date = pd.to_datetime(df.date)"
   ]
  },
  {
   "cell_type": "code",
   "execution_count": null,
   "id": "a62d53d4",
   "metadata": {},
   "outputs": [],
   "source": [
    "y = df.tesla\n",
    "x = df.drop(['date','tesla', 'elec_fee', 'tesla_volatility'], axis=1)"
   ]
  },
  {
   "cell_type": "code",
   "execution_count": null,
   "id": "84277bfe",
   "metadata": {},
   "outputs": [],
   "source": [
    "# 75 : 25 비율\n",
    "x_train, x_test = x.iloc[:1350], x.iloc[1350:]\n",
    "y_train, y_test = y.iloc[:1350], y.iloc[1350:]"
   ]
  },
  {
   "cell_type": "code",
   "execution_count": null,
   "id": "fcd17ce9",
   "metadata": {},
   "outputs": [],
   "source": [
    "scaled = StandardScaler()\n",
    "scaled.fit(x_train)\n",
    "x_train_scaled = scaled.transform(x_train)\n",
    "x_test_scaled = scaled.transform(x_test)"
   ]
  },
  {
   "cell_type": "code",
   "execution_count": null,
   "id": "950dfc19",
   "metadata": {},
   "outputs": [],
   "source": [
    "# model 돌려보기\n",
    "lr = LinearRegression()\n",
    "lr.fit(x_train_scaled, y_train)\n",
    "preds_lr = lr.predict(x_test_scaled)\n",
    "print('lr_train :', lr.score(x_train_scaled,y_train))\n",
    "print('lr_test :', lr.score(x_test_scaled,y_test))\n",
    "\n",
    "rid = Ridge()\n",
    "rid.fit(x_train_scaled, y_train)\n",
    "preds_rid = rid.predict(x_test_scaled)\n",
    "print('='*50)\n",
    "print('rid_train :', rid.score(x_train_scaled,y_train))\n",
    "print('rid_test :', rid.score(x_test_scaled,y_test))\n",
    "las = Lasso()\n",
    "las.fit(x_train_scaled, y_train)\n",
    "preds_las = las.predict(x_test_scaled)\n",
    "print('='*50)\n",
    "print('las_train :', las.score(x_train_scaled,y_train))\n",
    "print('las_test :', las.score(x_test_scaled,y_test))\n",
    "xb = XGBRegressor()\n",
    "xb.fit(x_train_scaled, y_train)\n",
    "preds_xb = xb.predict(x_test_scaled)\n",
    "print('='*50)\n",
    "print('xgb_train :', xb.score(x_train_scaled,y_train))\n",
    "print('xgb_test :', xb.score(x_test_scaled,y_test))\n",
    "lgbm = LGBMRegressor()\n",
    "lgbm.fit(x_train_scaled, y_train)\n",
    "preds_lgbm = lgbm.predict(x_test_scaled)\n",
    "print('='*50)\n",
    "print('lgbm_train :', lgbm.score(x_train_scaled,y_train))\n",
    "print('lgbm_test :', lgbm.score(x_test_scaled,y_test))\n",
    "ela = ElasticNet()\n",
    "ela.fit(x_train_scaled, y_train)\n",
    "preds_ela = ela.predict(x_test_scaled)\n",
    "print('='*50)\n",
    "print('ela_train :', ela.score(x_train_scaled,y_train))\n",
    "print('ela_test :', ela.score(x_test_scaled,y_test))"
   ]
  },
  {
   "cell_type": "code",
   "execution_count": null,
   "id": "2efb32ff",
   "metadata": {},
   "outputs": [],
   "source": [
    "cat = CatBoost()\n",
    "cat.fit(x_train_scaled, y_train)\n",
    "preds_cat = cat.predict(x_test_scaled)\n",
    "print('='*50)\n",
    "print('cat_test :', r2_score(y_test,preds_cat))"
   ]
  },
  {
   "cell_type": "code",
   "execution_count": null,
   "id": "8d377712",
   "metadata": {
    "scrolled": true
   },
   "outputs": [],
   "source": [
    "# rid 계수 바꿔보기\n",
    "for i in [0.0001,0.0005, 0.001, 0.005, 0.01, 0.05, 0.1, 0.5, 1, 5, 10, 100]:\n",
    "    rid = Ridge(alpha=i)\n",
    "    rid.fit(x_train_scaled, y_train)\n",
    "    preds_rid = rid.predict(x_test_scaled)\n",
    "    print('='*50)\n",
    "    print('alpha =', i)\n",
    "    print('rid_train :', rid.score(x_train_scaled,y_train))\n",
    "    print('rid_test :', rid.score(x_test_scaled,y_test))"
   ]
  },
  {
   "cell_type": "code",
   "execution_count": null,
   "id": "c64a215f",
   "metadata": {},
   "outputs": [],
   "source": [
    "# las 계수 바꿔보기\n",
    "for i in [0.0001, 0.0005, 0.001, 0.005, 0.01, 0.05, 0.1, 0.5, 1, 5, 10, 50, 100, 500, 1000]:\n",
    "    las = Lasso(alpha=i)\n",
    "    las.fit(x_train_scaled, y_train)\n",
    "    preds_las = las.predict(x_test_scaled)\n",
    "    print('='*50)\n",
    "    print('alpha =', i)\n",
    "    print('las_train :', las.score(x_train_scaled,y_train))\n",
    "    print('las_test :', las.score(x_test_scaled,y_test))"
   ]
  },
  {
   "cell_type": "code",
   "execution_count": null,
   "id": "9ee94b94",
   "metadata": {},
   "outputs": [],
   "source": [
    "# elastic 계수 바꿔보기\n",
    "max_score = -99\n",
    "max_alpha = 0\n",
    "train_score = 0\n",
    "max_ratio = 0\n",
    "test_li = []\n",
    "train_li = []\n",
    "for rat in np.arange(0.1,1,0.1):\n",
    "    for alp in np.arange(0.01,10,0.01):\n",
    "        ela = ElasticNet(l1_ratio=rat, alpha=alp)\n",
    "        ela.fit(x_train_scaled, y_train)\n",
    "        preds_ela = ela.predict(x_test_scaled)\n",
    "        test_li.append(ela.score(x_test_scaled,y_test))\n",
    "        train_li.append(ela.score(x_train_scaled,y_train))\n",
    "        if max_score < ela.score(x_test_scaled,y_test):\n",
    "            max_score = ela.score(x_test_scaled,y_test)\n",
    "            max_alpha = alp\n",
    "            max_ratio = rat\n",
    "            train_score = ela.score(x_train_scaled,y_train)\n",
    "print('alpha =', max_alpha)\n",
    "print('ratio =', max_ratio)\n",
    "print('ela_train :', train_score)\n",
    "print('ela_test :', max_score)"
   ]
  },
  {
   "cell_type": "code",
   "execution_count": null,
   "id": "02eac750",
   "metadata": {},
   "outputs": [],
   "source": [
    "# 2020년 이전의 데이터는 주가가 의미있는 변화가 없기 때문에 머신러닝 모델이 망가짐"
   ]
  },
  {
   "cell_type": "code",
   "execution_count": null,
   "id": "7dd94d2e",
   "metadata": {},
   "outputs": [],
   "source": [
    "plt.figure(figsize=(15,5))\n",
    "fig = px.line(df, x='date', y=df.tesla, hover_data = {'date':'%Y-%m-%d'})\n",
    "fig.update_xaxes(dtick='M5')"
   ]
  },
  {
   "cell_type": "code",
   "execution_count": null,
   "id": "c5c7ba52",
   "metadata": {},
   "outputs": [],
   "source": []
  },
  {
   "cell_type": "code",
   "execution_count": null,
   "id": "15e13696",
   "metadata": {},
   "outputs": [],
   "source": [
    "# 2019년부터 있는 데이터\n",
    "df = pd.read_csv('테슬라 총합 재무제표.csv', index_col=0)\n",
    "# NaN값 채우기(선형 보간법)\n",
    "df.interpolate(inplace=True)\n",
    "# 5일 shift\n",
    "df.tesla = df.tesla.shift(-5)\n",
    "df.dropna(inplace=True)\n",
    "df.date = pd.to_datetime(df.date)"
   ]
  },
  {
   "cell_type": "code",
   "execution_count": null,
   "id": "f20796fc",
   "metadata": {},
   "outputs": [],
   "source": [
    "plt.figure(figsize=(15,5))\n",
    "fig = px.line(df, x='date', y=df.tesla, hover_data = {'date':'%Y-%m-%d'})\n",
    "fig.update_xaxes(dtick='M5')"
   ]
  },
  {
   "cell_type": "code",
   "execution_count": null,
   "id": "bba12167",
   "metadata": {},
   "outputs": [],
   "source": [
    "# 상관계수가 0.9이상인 feature\n",
    "df_corr = df.drop('date',axis=1).corr()[df.drop('date',axis=1).corr().tesla > 0.9]\n",
    "pd.DataFrame(df_corr.tesla)"
   ]
  },
  {
   "cell_type": "code",
   "execution_count": null,
   "id": "b4742e25",
   "metadata": {},
   "outputs": [],
   "source": [
    "y = df.tesla\n",
    "x = df.drop(['date', 'tesla', 'elec_fee', 'tesla_volatility'], axis=1)\n",
    "# 75 : 25 비율\n",
    "x_train, x_test = x.iloc[:600], x.iloc[600:]\n",
    "y_train, y_test = y.iloc[:600], y.iloc[600:]"
   ]
  },
  {
   "cell_type": "code",
   "execution_count": null,
   "id": "09a7ae6c",
   "metadata": {},
   "outputs": [],
   "source": [
    "# 스케일링\n",
    "scaled = StandardScaler()\n",
    "scaled.fit(x_train)\n",
    "x_train_scaled = scaled.transform(x_train)\n",
    "x_test_scaled = scaled.transform(x_test)"
   ]
  },
  {
   "cell_type": "code",
   "execution_count": null,
   "id": "98d68303",
   "metadata": {},
   "outputs": [],
   "source": [
    "# model 돌려보기\n",
    "lr = LinearRegression()\n",
    "lr.fit(x_train_scaled, y_train)\n",
    "preds_lr = lr.predict(x_test_scaled)\n",
    "print('lr_train :', lr.score(x_train_scaled,y_train))\n",
    "print('lr_test :', lr.score(x_test_scaled,y_test))\n",
    "\n",
    "rid = Ridge()\n",
    "rid.fit(x_train_scaled, y_train)\n",
    "preds_rid = rid.predict(x_test_scaled)\n",
    "print('='*50)\n",
    "print('rid_train :', rid.score(x_train_scaled,y_train))\n",
    "print('rid_test :', rid.score(x_test_scaled,y_test))\n",
    "las = Lasso()\n",
    "las.fit(x_train_scaled, y_train)\n",
    "preds_las = las.predict(x_test_scaled)\n",
    "print('='*50)\n",
    "print('las_train :', las.score(x_train_scaled,y_train))\n",
    "print('las_test :', las.score(x_test_scaled,y_test))\n",
    "xb = XGBRegressor()\n",
    "xb.fit(x_train_scaled, y_train)\n",
    "preds_xb = xb.predict(x_test_scaled)\n",
    "print('='*50)\n",
    "print('xgb_train :', xb.score(x_train_scaled,y_train))\n",
    "print('xgb_test :', xb.score(x_test_scaled,y_test))\n",
    "lgbm = LGBMRegressor()\n",
    "lgbm.fit(x_train_scaled, y_train)\n",
    "preds_lgbm = lgbm.predict(x_test_scaled)\n",
    "print('='*50)\n",
    "print('lgbm_train :', lgbm.score(x_train_scaled,y_train))\n",
    "print('lgbm_test :', lgbm.score(x_test_scaled,y_test))\n",
    "ela = ElasticNet()\n",
    "ela.fit(x_train_scaled, y_train)\n",
    "preds_ela = ela.predict(x_test_scaled)\n",
    "print('='*50)\n",
    "print('ela_train :', ela.score(x_train_scaled,y_train))\n",
    "print('ela_test :', ela.score(x_test_scaled,y_test))"
   ]
  },
  {
   "cell_type": "code",
   "execution_count": null,
   "id": "64bd901d",
   "metadata": {},
   "outputs": [],
   "source": [
    "cat = CatBoost()\n",
    "cat.fit(x_train_scaled, y_train)\n",
    "preds_cat = cat.predict(x_test_scaled)\n",
    "print('='*50)\n",
    "print('cat_test :', r2_score(y_test,preds_cat))"
   ]
  },
  {
   "cell_type": "code",
   "execution_count": null,
   "id": "dff6e61e",
   "metadata": {},
   "outputs": [],
   "source": [
    "# rid 계수 바꿔보기\n",
    "for i in [0.0001,0.0005, 0.001, 0.005, 0.01, 0.05, 0.1, 0.5, 1, 5, 10, 100]:\n",
    "    rid = Ridge(alpha=i)\n",
    "    rid.fit(x_train_scaled, y_train)\n",
    "    preds_rid = rid.predict(x_test_scaled)\n",
    "    print('='*50)\n",
    "    print('alpha =', i)\n",
    "    print('rid_train :', rid.score(x_train_scaled,y_train))\n",
    "    print('rid_test :', rid.score(x_test_scaled,y_test))"
   ]
  },
  {
   "cell_type": "code",
   "execution_count": null,
   "id": "3834bae6",
   "metadata": {},
   "outputs": [],
   "source": [
    "# rid 계수 확인하기\n",
    "max_score = -20\n",
    "max_alpha = 0\n",
    "train_score = 0\n",
    "test_li = []\n",
    "train_li = []\n",
    "for i in np.arange(0.05, 100, 1):\n",
    "    rid = Ridge(alpha=i)\n",
    "    rid.fit(x_train_scaled, y_train)\n",
    "    preds_rid = rid.predict(x_test_scaled)\n",
    "    test_li.append(rid.score(x_test_scaled,y_test))\n",
    "    train_li.append(rid.score(x_train_scaled,y_train))\n",
    "    if max_score < rid.score(x_test_scaled,y_test):\n",
    "        max_score = rid.score(x_test_scaled,y_test)\n",
    "        max_alpha = i\n",
    "        train_score = rid.score(x_train_scaled,y_train)\n",
    "        \n",
    "print('alpha =', max_alpha)\n",
    "print('rid_train :', train_score)\n",
    "print('rid_test :', max_score)"
   ]
  },
  {
   "cell_type": "code",
   "execution_count": null,
   "id": "f4d607d3",
   "metadata": {},
   "outputs": [],
   "source": [
    "plt.figure(figsize=(7,5))\n",
    "plt.plot(test_li, c='r')\n",
    "plt.plot(train_li, c='b')"
   ]
  },
  {
   "cell_type": "code",
   "execution_count": null,
   "id": "461f37df",
   "metadata": {},
   "outputs": [],
   "source": [
    "rid = Ridge(alpha=18.5)\n",
    "rid.fit(x_train_scaled, y_train)\n",
    "preds_rid = rid.predict(x_test_scaled)\n",
    "print(rid.score(x_train_scaled,y_train))\n",
    "print(rid.score(x_test_scaled,y_test))\n",
    "rid.coef_"
   ]
  },
  {
   "cell_type": "code",
   "execution_count": null,
   "id": "c9b80eb6",
   "metadata": {},
   "outputs": [],
   "source": [
    "# etf종목 거래량이 갑자기 떨어진 날이 있음\n",
    "plt.figure(figsize=(15,5))\n",
    "plt.plot(range(0,len(preds_rid)),preds_rid, c='r', label='Predict')\n",
    "plt.plot(range(0,len(preds_rid)),y_test, c='b', label='Real')\n",
    "plt.legend(loc='best', ncol=2) \n",
    "plt.show()"
   ]
  },
  {
   "cell_type": "code",
   "execution_count": null,
   "id": "678faf89",
   "metadata": {
    "scrolled": false
   },
   "outputs": [],
   "source": [
    "coef_df = pd.DataFrame(ela.coef_, index = x_train.columns)\n",
    "coef_df = coef_df.sort_values(0, ascending=False)\n",
    "sns.set(rc = {'figure.figsize':(5,15)})\n",
    "sns.barplot(x=coef_df[0].sort_values(ascending=False), y=coef_df.index)"
   ]
  },
  {
   "cell_type": "code",
   "execution_count": null,
   "id": "ba591dbc",
   "metadata": {},
   "outputs": [],
   "source": [
    "# las 계수 바꿔보기\n",
    "for i in [0.0001, 0.0005, 0.001, 0.005, 0.01, 0.05, 0.1, 0.5, 1, 5, 10, 50, 100, 500, 1000]:\n",
    "    las = Lasso(alpha=i)\n",
    "    las.fit(x_train_scaled, y_train)\n",
    "    preds_las = las.predict(x_test_scaled)\n",
    "    print('='*50)\n",
    "    print('alpha =', i)\n",
    "    print('las_train :', las.score(x_train_scaled,y_train))\n",
    "    print('las_test :', las.score(x_test_scaled,y_test))"
   ]
  },
  {
   "cell_type": "code",
   "execution_count": null,
   "id": "e3826828",
   "metadata": {},
   "outputs": [],
   "source": [
    "# las 계수 찾기\n",
    "max_score = -99\n",
    "max_alpha = 0\n",
    "train_score = 0\n",
    "test_li = []\n",
    "train_li = []\n",
    "for i in np.arange(0.05, 10, 0.01):\n",
    "    las = Lasso(alpha=i)\n",
    "    las.fit(x_train_scaled, y_train)\n",
    "    preds_las = las.predict(x_test_scaled)\n",
    "    test_li.append(las.score(x_test_scaled,y_test))\n",
    "    train_li.append(las.score(x_train_scaled,y_train))\n",
    "    if max_score < las.score(x_test_scaled,y_test):\n",
    "        max_score = las.score(x_test_scaled,y_test)\n",
    "        max_alpha = i\n",
    "        train_score = las.score(x_train_scaled,y_train)\n",
    "        \n",
    "print('alpha =', max_alpha)\n",
    "print('las_train :', train_score)\n",
    "print('las_test :', max_score)"
   ]
  },
  {
   "cell_type": "code",
   "execution_count": null,
   "id": "919f774c",
   "metadata": {},
   "outputs": [],
   "source": [
    "plt.figure(figsize=(7,5))\n",
    "plt.plot(test_li, c='r')\n",
    "plt.plot(train_li, c='b')"
   ]
  },
  {
   "cell_type": "code",
   "execution_count": null,
   "id": "fa869a2a",
   "metadata": {},
   "outputs": [],
   "source": [
    "las = Lasso(alpha=0.35)\n",
    "las.fit(x_train_scaled, y_train)\n",
    "preds_las = las.predict(x_test_scaled)\n",
    "las.coef_"
   ]
  },
  {
   "cell_type": "code",
   "execution_count": null,
   "id": "0f571a2c",
   "metadata": {},
   "outputs": [],
   "source": [
    "# etf종목 거래량이 갑자기 떨어진 날이 있음\n",
    "plt.figure(figsize=(15,5))\n",
    "plt.plot(range(0,len(preds_las)),preds_las, c='r', label='Predict')\n",
    "plt.plot(range(0,len(preds_las)),y_test, c='b', label='Real')\n",
    "plt.legend(loc='best', ncol=2) \n",
    "plt.show()"
   ]
  },
  {
   "cell_type": "code",
   "execution_count": null,
   "id": "41a1cf9f",
   "metadata": {},
   "outputs": [],
   "source": [
    "# elastic 계수 바꿔보기\n",
    "max_score = 0\n",
    "max_alpha = 0\n",
    "train_score = 0\n",
    "max_ratio = 0\n",
    "test_li = []\n",
    "train_li = []\n",
    "for rat in np.arange(0.1,1,0.1):\n",
    "    for alp in np.arange(0.01,10,0.01):\n",
    "        ela = ElasticNet(l1_ratio=rat, alpha=alp)\n",
    "        ela.fit(x_train_scaled, y_train)\n",
    "        preds_ela = ela.predict(x_test_scaled)\n",
    "        test_li.append(ela.score(x_test_scaled,y_test))\n",
    "        train_li.append(ela.score(x_train_scaled,y_train))\n",
    "        if max_score < ela.score(x_test_scaled,y_test):\n",
    "            max_score = ela.score(x_test_scaled,y_test)\n",
    "            max_alpha = alp\n",
    "            max_ratio = rat\n",
    "            train_score = ela.score(x_train_scaled,y_train)\n",
    "print('alpha =', max_alpha)\n",
    "print('ratio =', max_ratio)\n",
    "print('ela_train :', train_score)\n",
    "print('ela_test :', max_score)"
   ]
  },
  {
   "cell_type": "code",
   "execution_count": null,
   "id": "c9fba4e9",
   "metadata": {},
   "outputs": [],
   "source": [
    "plt.figure(figsize=(7,5))\n",
    "plt.plot(test_li, c='r')\n",
    "plt.plot(train_li, c='b')"
   ]
  },
  {
   "cell_type": "code",
   "execution_count": null,
   "id": "dc755e94",
   "metadata": {},
   "outputs": [],
   "source": [
    "ela = ElasticNet(l1_ratio=0.5, alpha=9.44)\n",
    "ela.fit(x_train_scaled, y_train)\n",
    "preds_ela = ela.predict(x_test_scaled)\n",
    "print('='*50)\n",
    "print('ela_train :', ela.score(x_train_scaled,y_train))\n",
    "print('ela_test :', ela.score(x_test_scaled,y_test))\n",
    "ela.coef_"
   ]
  },
  {
   "cell_type": "code",
   "execution_count": null,
   "id": "541a7fc5",
   "metadata": {},
   "outputs": [],
   "source": [
    "coef_df = pd.DataFrame(ela.coef_, index = x_train.columns)\n",
    "coef_df = coef_df.sort_values(0, ascending=False)\n",
    "sns.set(rc = {'figure.figsize':(5,15)})\n",
    "sns.barplot(x=coef_df[0].sort_values(ascending=False), y=coef_df.index)"
   ]
  },
  {
   "cell_type": "code",
   "execution_count": null,
   "id": "8bb56d17",
   "metadata": {},
   "outputs": [],
   "source": [
    "plt.figure(figsize=(15,5))\n",
    "plt.plot(range(0,len(preds_ela)),preds_ela, c='r', label='Predict')\n",
    "plt.plot(range(0,len(preds_ela)),y_test, c='b', label='Real')\n",
    "plt.legend(loc='best', ncol=2) \n",
    "plt.show()"
   ]
  },
  {
   "cell_type": "code",
   "execution_count": null,
   "id": "58a3f80a",
   "metadata": {},
   "outputs": [],
   "source": [
    "## 3개의 모델의 오차\n",
    "print('rid RMSE :', mean_squared_error(y_test, preds_rid)**0.5)\n",
    "print('las RMSE :', mean_squared_error(y_test, preds_las)**0.5)\n",
    "print('ela RMSE :', mean_squared_error(y_test, preds_ela)**0.5)"
   ]
  },
  {
   "cell_type": "code",
   "execution_count": null,
   "id": "3de6ebd5",
   "metadata": {},
   "outputs": [],
   "source": []
  },
  {
   "cell_type": "code",
   "execution_count": null,
   "id": "d75b5cf1",
   "metadata": {},
   "outputs": [],
   "source": [
    "# train, test 비율 바꿔보기"
   ]
  },
  {
   "cell_type": "code",
   "execution_count": null,
   "id": "d3b67b72",
   "metadata": {},
   "outputs": [],
   "source": [
    "df = pd.read_csv('테슬라 총합 재무제표.csv', index_col=0)\n",
    "# NaN값 채우기\n",
    "df.interpolate(inplace=True)\n",
    "# 5일 shift\n",
    "df.tesla = df.tesla.shift(-5)\n",
    "df.dropna(inplace=True)"
   ]
  },
  {
   "cell_type": "code",
   "execution_count": null,
   "id": "3688d801",
   "metadata": {},
   "outputs": [],
   "source": [
    "y = df.tesla\n",
    "x = df.drop(['date', 'tesla', 'elec_fee', 'tesla_volatility'], axis=1)"
   ]
  },
  {
   "cell_type": "code",
   "execution_count": null,
   "id": "bc635e3c",
   "metadata": {},
   "outputs": [],
   "source": [
    "# 70 : 30 비율\n",
    "x_train, x_test = x.iloc[:560], x.iloc[560:]\n",
    "y_train, y_test = y.iloc[:560], y.iloc[560:]"
   ]
  },
  {
   "cell_type": "code",
   "execution_count": null,
   "id": "b6cf028b",
   "metadata": {},
   "outputs": [],
   "source": [
    "scaled = StandardScaler()\n",
    "scaled.fit(x_train)\n",
    "x_train_scaled = scaled.transform(x_train)\n",
    "x_test_scaled = scaled.transform(x_test)"
   ]
  },
  {
   "cell_type": "code",
   "execution_count": null,
   "id": "3f094fe4",
   "metadata": {},
   "outputs": [],
   "source": [
    "# rid 계수 확인하기\n",
    "max_score = -20\n",
    "max_alpha = 0\n",
    "train_score = 0\n",
    "test_li = []\n",
    "train_li = []\n",
    "for i in np.arange(0.05, 100, 0.01):\n",
    "    rid = Ridge(alpha=i)\n",
    "    rid.fit(x_train_scaled, y_train)\n",
    "    preds_rid = rid.predict(x_test_scaled)\n",
    "    test_li.append(rid.score(x_test_scaled,y_test))\n",
    "    train_li.append(rid.score(x_train_scaled,y_train))\n",
    "    if max_score < rid.score(x_test_scaled,y_test):\n",
    "        max_score = rid.score(x_test_scaled,y_test)\n",
    "        max_alpha = i\n",
    "        train_score = rid.score(x_train_scaled,y_train)\n",
    "        \n",
    "print('alpha =', max_alpha)\n",
    "print('rid_train :', train_score)\n",
    "print('rid_test :', max_score)"
   ]
  },
  {
   "cell_type": "code",
   "execution_count": null,
   "id": "62ad5172",
   "metadata": {},
   "outputs": [],
   "source": [
    "plt.figure(figsize=(7,5))\n",
    "plt.plot(test_li, c='r')\n",
    "plt.plot(train_li, c='b')"
   ]
  },
  {
   "cell_type": "code",
   "execution_count": null,
   "id": "3076525e",
   "metadata": {},
   "outputs": [],
   "source": [
    "rid = Ridge(alpha=3.01)\n",
    "rid.fit(x_train_scaled, y_train)\n",
    "preds_rid = rid.predict(x_test_scaled)\n",
    "rid.coef_\n",
    "print(rid.score(x_train_scaled,y_train))\n",
    "print(rid.score(x_test_scaled,y_test))"
   ]
  },
  {
   "cell_type": "code",
   "execution_count": null,
   "id": "f298413d",
   "metadata": {},
   "outputs": [],
   "source": [
    "plt.figure(figsize=(15,5))\n",
    "plt.plot(range(0,len(preds_rid)),preds_rid, c='r', label='Predict')\n",
    "plt.plot(range(0,len(preds_rid)),y_test, c='b', label='Real')\n",
    "plt.legend(loc='best', ncol=2) \n",
    "plt.show()"
   ]
  },
  {
   "cell_type": "code",
   "execution_count": null,
   "id": "d39e4c42",
   "metadata": {},
   "outputs": [],
   "source": [
    "# las 계수 찾기\n",
    "max_score = -99\n",
    "max_alpha = 0\n",
    "train_score = 0\n",
    "test_li = []\n",
    "train_li = []\n",
    "for i in np.arange(0.05, 1, 0.01):\n",
    "    las = Lasso(alpha=i)\n",
    "    las.fit(x_train_scaled, y_train)\n",
    "    preds_las = las.predict(x_test_scaled)\n",
    "    test_li.append(las.score(x_test_scaled,y_test))\n",
    "    train_li.append(las.score(x_train_scaled,y_train))\n",
    "    if max_score < las.score(x_test_scaled,y_test):\n",
    "        max_score = las.score(x_test_scaled,y_test)\n",
    "        max_alpha = i\n",
    "        train_score = las.score(x_train_scaled,y_train)\n",
    "        \n",
    "print('alpha =', max_alpha)\n",
    "print('las_train :', train_score)\n",
    "print('las_test :', max_score)"
   ]
  },
  {
   "cell_type": "code",
   "execution_count": null,
   "id": "8562dbf5",
   "metadata": {},
   "outputs": [],
   "source": [
    "plt.figure(figsize=(7,5))\n",
    "plt.plot(test_li, c='r')\n",
    "plt.plot(train_li, c='b')"
   ]
  },
  {
   "cell_type": "code",
   "execution_count": null,
   "id": "1f182f02",
   "metadata": {},
   "outputs": [],
   "source": [
    "las = Lasso(alpha=0.18)\n",
    "las.fit(x_train_scaled, y_train)\n",
    "preds_las = las.predict(x_test_scaled)"
   ]
  },
  {
   "cell_type": "code",
   "execution_count": null,
   "id": "e01da4e3",
   "metadata": {},
   "outputs": [],
   "source": [
    "plt.figure(figsize=(15,5))\n",
    "plt.plot(range(0,len(preds_las)),preds_las, c='r', label='Predict')\n",
    "plt.plot(range(0,len(preds_las)),y_test, c='b', label='Real')\n",
    "plt.legend(loc='best', ncol=2) \n",
    "plt.show()"
   ]
  },
  {
   "cell_type": "code",
   "execution_count": null,
   "id": "ad18b740",
   "metadata": {},
   "outputs": [],
   "source": [
    "# elastic 계수 바꿔보기\n",
    "max_score = 0\n",
    "max_alpha = 0\n",
    "train_score = 0\n",
    "max_ratio = 0\n",
    "test_li = []\n",
    "train_li = []\n",
    "for rat in np.arange(0.1,1,0.1):\n",
    "    for alp in np.arange(0.01,10,0.01):\n",
    "        ela = ElasticNet(l1_ratio=rat, alpha=alp)\n",
    "        ela.fit(x_train_scaled, y_train)\n",
    "        preds_ela = ela.predict(x_test_scaled)\n",
    "        test_li.append(ela.score(x_test_scaled,y_test))\n",
    "        train_li.append(ela.score(x_train_scaled,y_train))\n",
    "        if max_score < ela.score(x_test_scaled,y_test):\n",
    "            max_score = ela.score(x_test_scaled,y_test)\n",
    "            max_alpha = alp\n",
    "            max_ratio = rat\n",
    "            train_score = ela.score(x_train_scaled,y_train)\n",
    "print('alpha =', max_alpha)\n",
    "print('ratio =', max_ratio)\n",
    "print('ela_train :', train_score)\n",
    "print('ela_test :', max_score)"
   ]
  },
  {
   "cell_type": "code",
   "execution_count": null,
   "id": "b30d3156",
   "metadata": {},
   "outputs": [],
   "source": [
    "plt.figure(figsize=(7,5))\n",
    "plt.plot(test_li, c='r')\n",
    "plt.plot(train_li, c='b')"
   ]
  },
  {
   "cell_type": "code",
   "execution_count": null,
   "id": "5a91416b",
   "metadata": {},
   "outputs": [],
   "source": [
    "ela = ElasticNet(l1_ratio=0.2, alpha=9.35)\n",
    "ela.fit(x_train_scaled, y_train)\n",
    "preds_ela = ela.predict(x_test_scaled)\n",
    "print('='*50)\n",
    "print('ela_train :', ela.score(x_train_scaled,y_train))\n",
    "print('ela_test :', ela.score(x_test_scaled,y_test))"
   ]
  },
  {
   "cell_type": "code",
   "execution_count": null,
   "id": "0661b06e",
   "metadata": {},
   "outputs": [],
   "source": [
    "plt.figure(figsize=(15,5))\n",
    "plt.plot(range(0,len(preds_ela)),preds_ela, c='r', label='Predict')\n",
    "plt.plot(range(0,len(preds_ela)),y_test, c='b', label='Real')\n",
    "plt.legend(loc='best', ncol=2) \n",
    "plt.show()"
   ]
  },
  {
   "cell_type": "code",
   "execution_count": null,
   "id": "33cc089c",
   "metadata": {},
   "outputs": [],
   "source": [
    "## 3개의 모델의 오차\n",
    "print('rid RMSE :', mean_squared_error(y_test, preds_rid)**0.5)\n",
    "print('las RMSE :', mean_squared_error(y_test, preds_las)**0.5)\n",
    "print('ela RMSE :', mean_squared_error(y_test, preds_ela)**0.5)"
   ]
  },
  {
   "cell_type": "code",
   "execution_count": null,
   "id": "d696549e",
   "metadata": {},
   "outputs": [],
   "source": []
  },
  {
   "cell_type": "code",
   "execution_count": null,
   "id": "b4586bff",
   "metadata": {},
   "outputs": [],
   "source": [
    "# feature 조정\n",
    "df = pd.read_csv('테슬라 총합 재무제표.csv', index_col=0)"
   ]
  },
  {
   "cell_type": "code",
   "execution_count": null,
   "id": "9c148ba0",
   "metadata": {},
   "outputs": [],
   "source": [
    "# NaN값 채우기\n",
    "df.interpolate(inplace=True)"
   ]
  },
  {
   "cell_type": "code",
   "execution_count": null,
   "id": "64473ba3",
   "metadata": {},
   "outputs": [],
   "source": [
    "# 5일 shift\n",
    "df.tesla = df.tesla.shift(-5)\n",
    "df.dropna(inplace=True)"
   ]
  },
  {
   "cell_type": "code",
   "execution_count": null,
   "id": "5a7367ef",
   "metadata": {},
   "outputs": [],
   "source": [
    "# 재무제표 드랍\n",
    "y = df.tesla\n",
    "x = df.drop(['date','tesla', 'elec_fee', 'tesla_volatility','snp_500', 'snp_500_volatility',\n",
    "            '매출액', '매출원가', '매출총이익', '영업이익', '순이익', '자산총계', '매출총이익률', '영업이익률',\n",
    "       '주당순이익EPS(달러)', '주가수익배수PER(배)', '총자산이익률ROA(%)'], axis=1)"
   ]
  },
  {
   "cell_type": "code",
   "execution_count": null,
   "id": "ad40445f",
   "metadata": {},
   "outputs": [],
   "source": [
    "# 75 : 25 비율\n",
    "x_train, x_test = x.iloc[:600], x.iloc[600:]\n",
    "y_train, y_test = y.iloc[:600], y.iloc[600:]"
   ]
  },
  {
   "cell_type": "code",
   "execution_count": null,
   "id": "4efea25d",
   "metadata": {},
   "outputs": [],
   "source": [
    "scaled = StandardScaler()\n",
    "scaled.fit(x_train)\n",
    "x_train_scaled = scaled.transform(x_train)\n",
    "x_test_scaled = scaled.transform(x_test)"
   ]
  },
  {
   "cell_type": "code",
   "execution_count": null,
   "id": "c549a300",
   "metadata": {},
   "outputs": [],
   "source": [
    "# model 돌려보기\n",
    "lr = LinearRegression()\n",
    "lr.fit(x_train_scaled, y_train)\n",
    "preds_lr = lr.predict(x_test_scaled)\n",
    "print('lr_train :', lr.score(x_train_scaled,y_train))\n",
    "print('lr_test :', lr.score(x_test_scaled,y_test))\n",
    "\n",
    "rid = Ridge()\n",
    "rid.fit(x_train_scaled, y_train)\n",
    "preds_rid = rid.predict(x_test_scaled)\n",
    "print('='*50)\n",
    "print('rid_train :', rid.score(x_train_scaled,y_train))\n",
    "print('rid_test :', rid.score(x_test_scaled,y_test))\n",
    "las = Lasso()\n",
    "las.fit(x_train_scaled, y_train)\n",
    "preds_las = las.predict(x_test_scaled)\n",
    "print('='*50)\n",
    "print('las_train :', las.score(x_train_scaled,y_train))\n",
    "print('las_test :', las.score(x_test_scaled,y_test))\n",
    "xb = XGBRegressor()\n",
    "xb.fit(x_train_scaled, y_train)\n",
    "preds_xb = xb.predict(x_test_scaled)\n",
    "print('='*50)\n",
    "print('xgb_train :', xb.score(x_train_scaled,y_train))\n",
    "print('xgb_test :', xb.score(x_test_scaled,y_test))\n",
    "lgbm = LGBMRegressor()\n",
    "lgbm.fit(x_train_scaled, y_train)\n",
    "preds_lgbm = lgbm.predict(x_test_scaled)\n",
    "print('='*50)\n",
    "print('lgbm_train :', lgbm.score(x_train_scaled,y_train))\n",
    "print('lgbm_test :', lgbm.score(x_test_scaled,y_test))\n",
    "ela = ElasticNet()\n",
    "ela.fit(x_train_scaled, y_train)\n",
    "preds_ela = ela.predict(x_test_scaled)\n",
    "print('='*50)\n",
    "print('ela_train :', ela.score(x_train_scaled,y_train))\n",
    "print('ela_test :', ela.score(x_test_scaled,y_test))"
   ]
  },
  {
   "cell_type": "code",
   "execution_count": null,
   "id": "b2cdb820",
   "metadata": {},
   "outputs": [],
   "source": [
    "cat = CatBoost()\n",
    "cat.fit(x_train_scaled, y_train)\n",
    "preds_cat = cat.predict(x_test_scaled)\n",
    "print('='*50)\n",
    "print('cat_test :', r2_score(y_test,preds_cat))"
   ]
  },
  {
   "cell_type": "code",
   "execution_count": null,
   "id": "2f8b773b",
   "metadata": {
    "scrolled": true
   },
   "outputs": [],
   "source": [
    "# rid 계수 바꿔보기\n",
    "for i in [0.0001,0.0005, 0.001, 0.005, 0.01, 0.05, 0.1, 0.5, 1, 5, 10, 100]:\n",
    "    rid = Ridge(alpha=i)\n",
    "    rid.fit(x_train_scaled, y_train)\n",
    "    preds_rid = rid.predict(x_test_scaled)\n",
    "    print('='*50)\n",
    "    print('alpha =', i)\n",
    "    print('rid_train :', rid.score(x_train_scaled,y_train))\n",
    "    print('rid_test :', rid.score(x_test_scaled,y_test))"
   ]
  },
  {
   "cell_type": "code",
   "execution_count": null,
   "id": "ac0fe5ef",
   "metadata": {},
   "outputs": [],
   "source": [
    "# rid 계수 확인하기\n",
    "max_score = -20\n",
    "max_alpha = 0\n",
    "train_score = 0\n",
    "test_li = []\n",
    "train_li = []\n",
    "for i in np.arange(0.05, 10, 0.01):\n",
    "    rid = Ridge(alpha=i)\n",
    "    rid.fit(x_train_scaled, y_train)\n",
    "    preds_rid = rid.predict(x_test_scaled)\n",
    "    test_li.append(rid.score(x_test_scaled,y_test))\n",
    "    train_li.append(rid.score(x_train_scaled,y_train))\n",
    "    if max_score < rid.score(x_test_scaled,y_test):\n",
    "        max_score = rid.score(x_test_scaled,y_test)\n",
    "        max_alpha = i\n",
    "        train_score = rid.score(x_train_scaled,y_train)\n",
    "        \n",
    "print('alpha =', max_alpha)\n",
    "print('rid_train :', train_score)\n",
    "print('rid_test :', max_score)"
   ]
  },
  {
   "cell_type": "code",
   "execution_count": null,
   "id": "72040137",
   "metadata": {},
   "outputs": [],
   "source": [
    "plt.figure(figsize=(7,5))\n",
    "plt.plot(test_li, c='r')\n",
    "plt.plot(train_li, c='b')"
   ]
  },
  {
   "cell_type": "code",
   "execution_count": null,
   "id": "d4f413d3",
   "metadata": {},
   "outputs": [],
   "source": [
    "rid = Ridge(alpha=8.75)\n",
    "rid.fit(x_train_scaled, y_train)\n",
    "preds_rid = rid.predict(x_test_scaled)\n",
    "rid.coef_\n",
    "print(rid.score(x_train_scaled,y_train))\n",
    "print(rid.score(x_test_scaled,y_test))"
   ]
  },
  {
   "cell_type": "code",
   "execution_count": null,
   "id": "892bed0c",
   "metadata": {},
   "outputs": [],
   "source": [
    "# etf종목 거래량이 갑자기 떨어진 날이 있음\n",
    "plt.figure(figsize=(15,5))\n",
    "plt.plot(range(0,len(preds_rid)),preds_rid, c='r', label='Predict')\n",
    "plt.plot(range(0,len(preds_rid)),y_test, c='b', label='Real')\n",
    "plt.legend(loc='best', ncol=2) \n",
    "plt.show()"
   ]
  },
  {
   "cell_type": "code",
   "execution_count": null,
   "id": "c071634c",
   "metadata": {
    "scrolled": true
   },
   "outputs": [],
   "source": [
    "# las 계수 바꿔보기\n",
    "for i in [0.0001, 0.0005, 0.001, 0.005, 0.01, 0.05, 0.1, 0.5, 1, 5, 10, 50, 100, 500, 1000]:\n",
    "    las = Lasso(alpha=i)\n",
    "    las.fit(x_train_scaled, y_train)\n",
    "    preds_las = las.predict(x_test_scaled)\n",
    "    print('='*50)\n",
    "    print('alpha =', i)\n",
    "    print('las_train :', las.score(x_train_scaled,y_train))\n",
    "    print('las_test :', las.score(x_test_scaled,y_test))"
   ]
  },
  {
   "cell_type": "code",
   "execution_count": null,
   "id": "5c7a8fdf",
   "metadata": {},
   "outputs": [],
   "source": [
    "# las 계수 찾기\n",
    "max_score = -99\n",
    "max_alpha = 0\n",
    "train_score = 0\n",
    "test_li = []\n",
    "train_li = []\n",
    "for i in np.arange(0.05, 1, 0.01):\n",
    "    las = Lasso(alpha=i)\n",
    "    las.fit(x_train_scaled, y_train)\n",
    "    preds_las = las.predict(x_test_scaled)\n",
    "    test_li.append(las.score(x_test_scaled,y_test))\n",
    "    train_li.append(las.score(x_train_scaled,y_train))\n",
    "    if max_score < las.score(x_test_scaled,y_test):\n",
    "        max_score = las.score(x_test_scaled,y_test)\n",
    "        max_alpha = i\n",
    "        train_score = las.score(x_train_scaled,y_train)\n",
    "        \n",
    "print('alpha =', max_alpha)\n",
    "print('las_train :', train_score)\n",
    "print('las_test :', max_score)"
   ]
  },
  {
   "cell_type": "code",
   "execution_count": null,
   "id": "d42f8a43",
   "metadata": {},
   "outputs": [],
   "source": [
    "plt.figure(figsize=(7,5))\n",
    "plt.plot(test_li, c='r')\n",
    "plt.plot(train_li, c='b')"
   ]
  },
  {
   "cell_type": "code",
   "execution_count": null,
   "id": "79b042ff",
   "metadata": {},
   "outputs": [],
   "source": [
    "las = Lasso(alpha=0.31)\n",
    "las.fit(x_train_scaled, y_train)\n",
    "preds_las = las.predict(x_test_scaled)\n",
    "las.coef_"
   ]
  },
  {
   "cell_type": "code",
   "execution_count": null,
   "id": "e6a263d2",
   "metadata": {},
   "outputs": [],
   "source": [
    "plt.figure(figsize=(15,5))\n",
    "plt.plot(range(0,len(preds_las)),preds_las, c='r', label='Predict')\n",
    "plt.plot(range(0,len(preds_las)),y_test, c='b', label='Real')\n",
    "plt.legend(loc='best', ncol=2) \n",
    "plt.show()"
   ]
  },
  {
   "cell_type": "code",
   "execution_count": null,
   "id": "58304e2b",
   "metadata": {},
   "outputs": [],
   "source": [
    "# elastic 계수 바꿔보기\n",
    "max_score = 0\n",
    "max_alpha = 0\n",
    "train_score = 0\n",
    "max_ratio = 0\n",
    "test_li = []\n",
    "train_li = []\n",
    "for rat in np.arange(0.1,1,0.1):\n",
    "    for alp in np.arange(0.01,10,0.01):\n",
    "        ela = ElasticNet(l1_ratio=rat, alpha=alp)\n",
    "        ela.fit(x_train_scaled, y_train)\n",
    "        preds_ela = ela.predict(x_test_scaled)\n",
    "        test_li.append(ela.score(x_test_scaled,y_test))\n",
    "        train_li.append(ela.score(x_train_scaled,y_train))\n",
    "        if max_score < ela.score(x_test_scaled,y_test):\n",
    "            max_score = ela.score(x_test_scaled,y_test)\n",
    "            max_alpha = alp\n",
    "            max_ratio = rat\n",
    "            train_score = ela.score(x_train_scaled,y_train)\n",
    "print('alpha =', max_alpha)\n",
    "print('ratio =', max_ratio)\n",
    "print('ela_train :', train_score)\n",
    "print('ela_test :', max_score)"
   ]
  },
  {
   "cell_type": "code",
   "execution_count": null,
   "id": "dafdc1f7",
   "metadata": {},
   "outputs": [],
   "source": [
    "plt.figure(figsize=(7,5))\n",
    "plt.plot(test_li, c='r')\n",
    "plt.plot(train_li, c='b')"
   ]
  },
  {
   "cell_type": "code",
   "execution_count": null,
   "id": "27c17788",
   "metadata": {},
   "outputs": [],
   "source": [
    "ela = ElasticNet(l1_ratio=0.8, alpha=0.05)\n",
    "ela.fit(x_train_scaled, y_train)\n",
    "preds_ela = ela.predict(x_test_scaled)\n",
    "print('='*50)\n",
    "print('ela_train :', ela.score(x_train_scaled,y_train))\n",
    "print('ela_test :', ela.score(x_test_scaled,y_test))"
   ]
  },
  {
   "cell_type": "code",
   "execution_count": null,
   "id": "5242c318",
   "metadata": {},
   "outputs": [],
   "source": [
    "ela.coef_"
   ]
  },
  {
   "cell_type": "code",
   "execution_count": null,
   "id": "931e8efb",
   "metadata": {},
   "outputs": [],
   "source": [
    "coef_df = pd.DataFrame(ela.coef_, index = x_train.columns)\n",
    "coef_df = coef_df.sort_values(0, ascending=False)\n",
    "sns.set(rc = {'figure.figsize':(5,15)})\n",
    "sns.barplot(x=coef_df[0].sort_values(ascending=False), y=coef_df.index)"
   ]
  },
  {
   "cell_type": "code",
   "execution_count": null,
   "id": "8e686947",
   "metadata": {},
   "outputs": [],
   "source": [
    "# etf종목 거래량이 갑자기 떨어진 날이 있음\n",
    "plt.figure(figsize=(15,5))\n",
    "plt.plot(range(0,len(preds_ela)),preds_ela, c='r', label='Predict')\n",
    "plt.plot(range(0,len(preds_ela)),y_test, c='b', label='Real')\n",
    "plt.legend(loc='best', ncol=2) \n",
    "plt.show()"
   ]
  },
  {
   "cell_type": "code",
   "execution_count": null,
   "id": "1019546a",
   "metadata": {},
   "outputs": [],
   "source": [
    "## 3개의 모델의 오차\n",
    "print('rid RMSE :', mean_squared_error(y_test, preds_rid)**0.5)\n",
    "print('las RMSE :', mean_squared_error(y_test, preds_las)**0.5)\n",
    "print('ela RMAE :', mean_squared_error(y_test, preds_ela)**0.5)"
   ]
  },
  {
   "cell_type": "code",
   "execution_count": null,
   "id": "a9cdc264",
   "metadata": {},
   "outputs": [],
   "source": []
  },
  {
   "cell_type": "code",
   "execution_count": null,
   "id": "48846c54",
   "metadata": {},
   "outputs": [],
   "source": [
    "# train, test 비율 바꿔보기"
   ]
  },
  {
   "cell_type": "code",
   "execution_count": null,
   "id": "ddbb73a8",
   "metadata": {},
   "outputs": [],
   "source": [
    "df = pd.read_csv('테슬라 총합 재무제표.csv', index_col=0)\n",
    "# NaN값 채우기\n",
    "df.interpolate(inplace=True)\n",
    "# 5일 shift\n",
    "df.tesla = df.tesla.shift(-5)\n",
    "df.dropna(inplace=True)"
   ]
  },
  {
   "cell_type": "code",
   "execution_count": null,
   "id": "3484ed3b",
   "metadata": {},
   "outputs": [],
   "source": [
    "# 재무제표 드랍\n",
    "y = df.tesla\n",
    "x = df.drop(['date','tesla', 'elec_fee', 'tesla_volatility','snp_500', 'snp_500_volatility',\n",
    "            '매출액', '매출원가', '매출총이익', '영업이익', '순이익', '자산총계', '매출총이익률', '영업이익률',\n",
    "       '주당순이익EPS(달러)', '주가수익배수PER(배)', '총자산이익률ROA(%)'], axis=1)"
   ]
  },
  {
   "cell_type": "code",
   "execution_count": null,
   "id": "68d86f91",
   "metadata": {},
   "outputs": [],
   "source": [
    "# 70 : 30 비율\n",
    "x_train, x_test = x.iloc[:560], x.iloc[560:]\n",
    "y_train, y_test = y.iloc[:560], y.iloc[560:]"
   ]
  },
  {
   "cell_type": "code",
   "execution_count": null,
   "id": "df471827",
   "metadata": {},
   "outputs": [],
   "source": [
    "scaled = StandardScaler()\n",
    "scaled.fit(x_train)\n",
    "x_train_scaled = scaled.transform(x_train)\n",
    "x_test_scaled = scaled.transform(x_test)"
   ]
  },
  {
   "cell_type": "code",
   "execution_count": null,
   "id": "79c8b85b",
   "metadata": {},
   "outputs": [],
   "source": [
    "# rid 계수 확인하기\n",
    "max_score = -20\n",
    "max_alpha = 0\n",
    "train_score = 0\n",
    "test_li = []\n",
    "train_li = []\n",
    "for i in np.arange(0.05, 1000, 1):\n",
    "    rid = Ridge(alpha=i)\n",
    "    rid.fit(x_train_scaled, y_train)\n",
    "    preds_rid = rid.predict(x_test_scaled)\n",
    "    test_li.append(rid.score(x_test_scaled,y_test))\n",
    "    train_li.append(rid.score(x_train_scaled,y_train))\n",
    "    if max_score < rid.score(x_test_scaled,y_test):\n",
    "        max_score = rid.score(x_test_scaled,y_test)\n",
    "        max_alpha = i\n",
    "        train_score = rid.score(x_train_scaled,y_train)\n",
    "        \n",
    "print('alpha =', max_alpha)\n",
    "print('rid_train :', train_score)\n",
    "print('rid_test :', max_score)"
   ]
  },
  {
   "cell_type": "code",
   "execution_count": null,
   "id": "31ee9563",
   "metadata": {},
   "outputs": [],
   "source": [
    "plt.figure(figsize=(7,5))\n",
    "plt.plot(test_li, c='r')\n",
    "plt.plot(train_li, c='b')"
   ]
  },
  {
   "cell_type": "code",
   "execution_count": null,
   "id": "0403af91",
   "metadata": {},
   "outputs": [],
   "source": [
    "rid = Ridge(alpha=34.05)\n",
    "rid.fit(x_train_scaled, y_train)\n",
    "preds_rid = rid.predict(x_test_scaled)\n",
    "rid.coef_\n",
    "print(rid.score(x_train_scaled,y_train))\n",
    "print(rid.score(x_test_scaled,y_test))"
   ]
  },
  {
   "cell_type": "code",
   "execution_count": null,
   "id": "2e5b4cd8",
   "metadata": {},
   "outputs": [],
   "source": [
    "plt.figure(figsize=(15,5))\n",
    "plt.plot(range(0,len(preds_rid)),preds_rid, c='r', label='Predict')\n",
    "plt.plot(range(0,len(preds_rid)),y_test, c='b', label='Real')\n",
    "plt.legend(loc='best', ncol=2) \n",
    "plt.show()"
   ]
  },
  {
   "cell_type": "code",
   "execution_count": null,
   "id": "06194e3d",
   "metadata": {},
   "outputs": [],
   "source": [
    "# las 계수 찾기\n",
    "max_score = -99\n",
    "max_alpha = 0\n",
    "train_score = 0\n",
    "test_li = []\n",
    "train_li = []\n",
    "for i in np.arange(0.05, 100, 0.01):\n",
    "    las = Lasso(alpha=i)\n",
    "    las.fit(x_train_scaled, y_train)\n",
    "    preds_las = las.predict(x_test_scaled)\n",
    "    test_li.append(las.score(x_test_scaled,y_test))\n",
    "    train_li.append(las.score(x_train_scaled,y_train))\n",
    "    if max_score < las.score(x_test_scaled,y_test):\n",
    "        max_score = las.score(x_test_scaled,y_test)\n",
    "        max_alpha = i\n",
    "        train_score = las.score(x_train_scaled,y_train)\n",
    "        \n",
    "print('alpha =', max_alpha)\n",
    "print('las_train :', train_score)\n",
    "print('las_test :', max_score)"
   ]
  },
  {
   "cell_type": "code",
   "execution_count": null,
   "id": "cafb62e7",
   "metadata": {},
   "outputs": [],
   "source": [
    "plt.figure(figsize=(7,5))\n",
    "plt.plot(test_li, c='r')\n",
    "plt.plot(train_li, c='b')"
   ]
  },
  {
   "cell_type": "code",
   "execution_count": null,
   "id": "b8b7082e",
   "metadata": {},
   "outputs": [],
   "source": [
    "las = Lasso(alpha=43.4)\n",
    "las.fit(x_train_scaled, y_train)\n",
    "preds_las = las.predict(x_test_scaled)\n",
    "las.coef_"
   ]
  },
  {
   "cell_type": "code",
   "execution_count": null,
   "id": "40285ceb",
   "metadata": {},
   "outputs": [],
   "source": [
    "plt.figure(figsize=(15,5))\n",
    "plt.plot(range(0,len(preds_las)),preds_las, c='r', label='Predict')\n",
    "plt.plot(range(0,len(preds_las)),y_test, c='b', label='Real')\n",
    "plt.legend(loc='best', ncol=2) \n",
    "plt.show()"
   ]
  },
  {
   "cell_type": "code",
   "execution_count": null,
   "id": "d3240afa",
   "metadata": {},
   "outputs": [],
   "source": [
    "# elastic 계수 바꿔보기\n",
    "max_score = 0\n",
    "max_alpha = 0\n",
    "train_score = 0\n",
    "max_ratio = 0\n",
    "test_li = []\n",
    "train_li = []\n",
    "for rat in np.arange(0.1,1,0.1):\n",
    "    for alp in np.arange(0.01,10,0.01):\n",
    "        ela = ElasticNet(l1_ratio=rat, alpha=alp)\n",
    "        ela.fit(x_train_scaled, y_train)\n",
    "        preds_ela = ela.predict(x_test_scaled)\n",
    "        test_li.append(ela.score(x_test_scaled,y_test))\n",
    "        train_li.append(ela.score(x_train_scaled,y_train))\n",
    "        if max_score < ela.score(x_test_scaled,y_test):\n",
    "            max_score = ela.score(x_test_scaled,y_test)\n",
    "            max_alpha = alp\n",
    "            max_ratio = rat\n",
    "            train_score = ela.score(x_train_scaled,y_train)\n",
    "print('alpha =', max_alpha)\n",
    "print('ratio =', max_ratio)\n",
    "print('ela_train :', train_score)\n",
    "print('ela_test :', max_score)"
   ]
  },
  {
   "cell_type": "code",
   "execution_count": null,
   "id": "35f19da2",
   "metadata": {},
   "outputs": [],
   "source": [
    "plt.figure(figsize=(7,5))\n",
    "plt.plot(test_li, c='r')\n",
    "plt.plot(train_li, c='b')"
   ]
  },
  {
   "cell_type": "code",
   "execution_count": null,
   "id": "ba3357dd",
   "metadata": {},
   "outputs": [],
   "source": [
    "ela = ElasticNet(l1_ratio=0.9, alpha=0.61)\n",
    "ela.fit(x_train_scaled, y_train)\n",
    "preds_ela = ela.predict(x_test_scaled)\n",
    "print('='*50)\n",
    "print('ela_train :', ela.score(x_train_scaled,y_train))\n",
    "print('ela_test :', ela.score(x_test_scaled,y_test))"
   ]
  },
  {
   "cell_type": "code",
   "execution_count": null,
   "id": "34025b3c",
   "metadata": {},
   "outputs": [],
   "source": [
    "plt.figure(figsize=(15,5))\n",
    "plt.plot(range(0,len(preds_ela)),preds_ela, c='r', label='Predict')\n",
    "plt.plot(range(0,len(preds_ela)),y_test, c='b', label='Real')\n",
    "plt.legend(loc='best', ncol=2) \n",
    "plt.show()"
   ]
  },
  {
   "cell_type": "code",
   "execution_count": null,
   "id": "12843d3e",
   "metadata": {},
   "outputs": [],
   "source": [
    "## 3개의 모델의 오차\n",
    "print('rid RMSE :', mean_squared_error(y_test, preds_rid)**0.5)\n",
    "print('las RMSE :', mean_squared_error(y_test, preds_las)**0.5)\n",
    "print('ela RMSE :', mean_squared_error(y_test, preds_ela)**0.5)"
   ]
  },
  {
   "cell_type": "code",
   "execution_count": null,
   "id": "47f9e665",
   "metadata": {},
   "outputs": [],
   "source": []
  },
  {
   "cell_type": "code",
   "execution_count": null,
   "id": "43dcadc3",
   "metadata": {},
   "outputs": [],
   "source": []
  },
  {
   "cell_type": "code",
   "execution_count": null,
   "id": "99092d60",
   "metadata": {},
   "outputs": [],
   "source": [
    "from itertools import combinations"
   ]
  },
  {
   "cell_type": "code",
   "execution_count": null,
   "id": "52dc5211",
   "metadata": {},
   "outputs": [],
   "source": [
    "# 10개의 무작위 column 조합\n",
    "df = pd.read_csv('테슬라 총합 재무제표.csv', index_col=0)\n",
    "# NaN값 채우기\n",
    "df.interpolate(inplace=True)\n",
    "# 5일 shift\n",
    "df.tesla = df.tesla.shift(-5)\n",
    "df.dropna(inplace=True)"
   ]
  },
  {
   "cell_type": "code",
   "execution_count": null,
   "id": "5cd08603",
   "metadata": {},
   "outputs": [],
   "source": [
    "cols = df.columns.to_list()\n",
    "cols = cols[5:]"
   ]
  },
  {
   "cell_type": "code",
   "execution_count": null,
   "id": "c223d4cf",
   "metadata": {},
   "outputs": [],
   "source": [
    "max_score = -99\n",
    "max_alpha = 0\n",
    "train_score = 0\n",
    "max_col = []\n",
    "for combi in combinations(cols, 10):\n",
    "    col = list(combi)\n",
    "    y = df.tesla\n",
    "    x = df[col]\n",
    "    # 70 : 30 비율\n",
    "    x_train, x_test = x.iloc[:560], x.iloc[560:]\n",
    "    y_train, y_test = y.iloc[:560], y.iloc[560:]\n",
    "    scaled = StandardScaler()\n",
    "    scaled.fit(x_train)\n",
    "    x_train_scaled = scaled.transform(x_train)\n",
    "    x_test_scaled = scaled.transform(x_test)\n",
    "    for i in [0.0001, 0.0005, 0.001, 0.005, 0.01, 0.05, 0.1, 0.5, 1, 5, 10, 50, 100, 500, 1000]:\n",
    "        rid = Ridge(alpha=i)\n",
    "        rid.fit(x_train_scaled, y_train)\n",
    "        preds_rid = rid.predict(x_test_scaled)\n",
    "        if max_score < rid.score(x_test_scaled,y_test):\n",
    "            max_score = rid.score(x_test_scaled,y_test)\n",
    "            max_alpha = i\n",
    "            max_col = col\n",
    "            train_score = rid.score(x_train_scaled,y_train)"
   ]
  },
  {
   "cell_type": "code",
   "execution_count": null,
   "id": "840535ac",
   "metadata": {},
   "outputs": [],
   "source": [
    "print(max_col)\n",
    "print(max_alpha)\n",
    "print(max_score)\n",
    "print(train_score)"
   ]
  },
  {
   "cell_type": "code",
   "execution_count": null,
   "id": "b4d97fd3",
   "metadata": {},
   "outputs": [],
   "source": [
    "y = df.tesla\n",
    "x = df[['oil_price', 'oil_price_volatility', 'carbon_credits', 'carbon_credits_volatility', 'EVE종가',\n",
    "        'EVE거래량', 'EVE변동률', 'kars', 'li_price', '주가수익배수PER(배)']]\n",
    "# 75 : 25 비율\n",
    "x_train, x_test = x.iloc[:560], x.iloc[560:]\n",
    "y_train, y_test = y.iloc[:560], y.iloc[560:]\n",
    "scaled = StandardScaler()\n",
    "scaled.fit(x_train)\n",
    "x_train_scaled = scaled.transform(x_train)\n",
    "x_test_scaled = scaled.transform(x_test)\n",
    "rid = Ridge(alpha=10)\n",
    "rid.fit(x_train_scaled, y_train)\n",
    "preds_rid = rid.predict(x_test_scaled)\n",
    "rid.coef_\n",
    "print(rid.score(x_train_scaled,y_train))\n",
    "print(rid.score(x_test_scaled,y_test))"
   ]
  },
  {
   "cell_type": "code",
   "execution_count": null,
   "id": "6dbf758f",
   "metadata": {},
   "outputs": [],
   "source": [
    "plt.figure(figsize=(15,5))\n",
    "plt.plot(range(0,len(preds_rid)),preds_rid, c='r', label='Predict')\n",
    "plt.plot(range(0,len(preds_rid)),y_test, c='b', label='Real')\n",
    "plt.legend(loc='best', ncol=2) \n",
    "plt.show()"
   ]
  },
  {
   "cell_type": "code",
   "execution_count": null,
   "id": "f4fa3de7",
   "metadata": {},
   "outputs": [],
   "source": [
    "print('rid RMSE :', mean_squared_error(y_test, preds_rid)**0.5)"
   ]
  },
  {
   "cell_type": "code",
   "execution_count": null,
   "id": "9e61be1c",
   "metadata": {},
   "outputs": [],
   "source": []
  }
 ],
 "metadata": {
  "kernelspec": {
   "display_name": "Python 3 (ipykernel)",
   "language": "python",
   "name": "python3"
  },
  "language_info": {
   "codemirror_mode": {
    "name": "ipython",
    "version": 3
   },
   "file_extension": ".py",
   "mimetype": "text/x-python",
   "name": "python",
   "nbconvert_exporter": "python",
   "pygments_lexer": "ipython3",
   "version": "3.9.7"
  }
 },
 "nbformat": 4,
 "nbformat_minor": 5
}
