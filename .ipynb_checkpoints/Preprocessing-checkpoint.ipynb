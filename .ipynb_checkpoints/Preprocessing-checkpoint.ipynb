{
 "cells": [
  {
   "cell_type": "code",
   "execution_count": 1,
   "id": "481f2442",
   "metadata": {},
   "outputs": [],
   "source": [
    "import pandas as pd\n",
    "import numpy as np\n",
    "import matplotlib.pyplot as plt \n",
    "import seaborn as sns"
   ]
  },
  {
   "cell_type": "code",
   "execution_count": 2,
   "id": "ea85f013",
   "metadata": {},
   "outputs": [],
   "source": [
    "import os"
   ]
  },
  {
   "cell_type": "code",
   "execution_count": 3,
   "id": "33402b7a",
   "metadata": {
    "collapsed": true
   },
   "outputs": [
    {
     "ename": "ValueError",
     "evalue": "Multiple files found in ZIP file. Only one file per ZIP: ['REGI ┐¬╗τ└√ ╡Ñ└╠┼═ (1).csv', 'REGI ┐¬╗τ└√ ╡Ñ└╠┼═ (2).csv', 'REGI ┐¬╗τ└√ ╡Ñ└╠┼═ (3).csv', 'REGI ┐¬╗τ└√ ╡Ñ└╠┼═ (4).csv', 'REGI ┐¬╗τ└√ ╡Ñ└╠┼═ (5).csv', 'REGI ┐¬╗τ└√ ╡Ñ└╠┼═ (6).csv', 'REGI ┐¬╗τ└√ ╡Ñ└╠┼═ (7).csv', 'REGI ┐¬╗τ└√ ╡Ñ└╠┼═ (8).csv']",
     "output_type": "error",
     "traceback": [
      "\u001b[1;31m---------------------------------------------------------------------------\u001b[0m",
      "\u001b[1;31mValueError\u001b[0m                                Traceback (most recent call last)",
      "\u001b[1;32m~\\AppData\\Local\\Temp/ipykernel_11092/2893535322.py\u001b[0m in \u001b[0;36m<module>\u001b[1;34m\u001b[0m\n\u001b[0;32m      3\u001b[0m \u001b[0mli\u001b[0m \u001b[1;33m=\u001b[0m \u001b[1;33m[\u001b[0m\u001b[1;33m]\u001b[0m\u001b[1;33m\u001b[0m\u001b[1;33m\u001b[0m\u001b[0m\n\u001b[0;32m      4\u001b[0m \u001b[1;32mfor\u001b[0m \u001b[0md\u001b[0m \u001b[1;32min\u001b[0m \u001b[0mdatas\u001b[0m\u001b[1;33m:\u001b[0m\u001b[1;33m\u001b[0m\u001b[1;33m\u001b[0m\u001b[0m\n\u001b[1;32m----> 5\u001b[1;33m     \u001b[0mdf\u001b[0m \u001b[1;33m=\u001b[0m \u001b[0mpd\u001b[0m\u001b[1;33m.\u001b[0m\u001b[0mread_csv\u001b[0m\u001b[1;33m(\u001b[0m\u001b[1;34mf\"data/REGI/{d}\"\u001b[0m\u001b[1;33m)\u001b[0m\u001b[1;33m\u001b[0m\u001b[1;33m\u001b[0m\u001b[0m\n\u001b[0m\u001b[0;32m      6\u001b[0m     \u001b[0mli\u001b[0m\u001b[1;33m.\u001b[0m\u001b[0mappend\u001b[0m\u001b[1;33m(\u001b[0m\u001b[0mdf\u001b[0m\u001b[1;33m)\u001b[0m\u001b[1;33m\u001b[0m\u001b[1;33m\u001b[0m\u001b[0m\n",
      "\u001b[1;32m~\\anaconda3\\lib\\site-packages\\pandas\\io\\parsers.py\u001b[0m in \u001b[0;36mread_csv\u001b[1;34m(filepath_or_buffer, sep, delimiter, header, names, index_col, usecols, squeeze, prefix, mangle_dupe_cols, dtype, engine, converters, true_values, false_values, skipinitialspace, skiprows, skipfooter, nrows, na_values, keep_default_na, na_filter, verbose, skip_blank_lines, parse_dates, infer_datetime_format, keep_date_col, date_parser, dayfirst, cache_dates, iterator, chunksize, compression, thousands, decimal, lineterminator, quotechar, quoting, doublequote, escapechar, comment, encoding, dialect, error_bad_lines, warn_bad_lines, delim_whitespace, low_memory, memory_map, float_precision, storage_options)\u001b[0m\n\u001b[0;32m    608\u001b[0m     \u001b[0mkwds\u001b[0m\u001b[1;33m.\u001b[0m\u001b[0mupdate\u001b[0m\u001b[1;33m(\u001b[0m\u001b[0mkwds_defaults\u001b[0m\u001b[1;33m)\u001b[0m\u001b[1;33m\u001b[0m\u001b[1;33m\u001b[0m\u001b[0m\n\u001b[0;32m    609\u001b[0m \u001b[1;33m\u001b[0m\u001b[0m\n\u001b[1;32m--> 610\u001b[1;33m     \u001b[1;32mreturn\u001b[0m \u001b[0m_read\u001b[0m\u001b[1;33m(\u001b[0m\u001b[0mfilepath_or_buffer\u001b[0m\u001b[1;33m,\u001b[0m \u001b[0mkwds\u001b[0m\u001b[1;33m)\u001b[0m\u001b[1;33m\u001b[0m\u001b[1;33m\u001b[0m\u001b[0m\n\u001b[0m\u001b[0;32m    611\u001b[0m \u001b[1;33m\u001b[0m\u001b[0m\n\u001b[0;32m    612\u001b[0m \u001b[1;33m\u001b[0m\u001b[0m\n",
      "\u001b[1;32m~\\anaconda3\\lib\\site-packages\\pandas\\io\\parsers.py\u001b[0m in \u001b[0;36m_read\u001b[1;34m(filepath_or_buffer, kwds)\u001b[0m\n\u001b[0;32m    460\u001b[0m \u001b[1;33m\u001b[0m\u001b[0m\n\u001b[0;32m    461\u001b[0m     \u001b[1;31m# Create the parser.\u001b[0m\u001b[1;33m\u001b[0m\u001b[1;33m\u001b[0m\u001b[0m\n\u001b[1;32m--> 462\u001b[1;33m     \u001b[0mparser\u001b[0m \u001b[1;33m=\u001b[0m \u001b[0mTextFileReader\u001b[0m\u001b[1;33m(\u001b[0m\u001b[0mfilepath_or_buffer\u001b[0m\u001b[1;33m,\u001b[0m \u001b[1;33m**\u001b[0m\u001b[0mkwds\u001b[0m\u001b[1;33m)\u001b[0m\u001b[1;33m\u001b[0m\u001b[1;33m\u001b[0m\u001b[0m\n\u001b[0m\u001b[0;32m    463\u001b[0m \u001b[1;33m\u001b[0m\u001b[0m\n\u001b[0;32m    464\u001b[0m     \u001b[1;32mif\u001b[0m \u001b[0mchunksize\u001b[0m \u001b[1;32mor\u001b[0m \u001b[0miterator\u001b[0m\u001b[1;33m:\u001b[0m\u001b[1;33m\u001b[0m\u001b[1;33m\u001b[0m\u001b[0m\n",
      "\u001b[1;32m~\\anaconda3\\lib\\site-packages\\pandas\\io\\parsers.py\u001b[0m in \u001b[0;36m__init__\u001b[1;34m(self, f, engine, **kwds)\u001b[0m\n\u001b[0;32m    817\u001b[0m             \u001b[0mself\u001b[0m\u001b[1;33m.\u001b[0m\u001b[0moptions\u001b[0m\u001b[1;33m[\u001b[0m\u001b[1;34m\"has_index_names\"\u001b[0m\u001b[1;33m]\u001b[0m \u001b[1;33m=\u001b[0m \u001b[0mkwds\u001b[0m\u001b[1;33m[\u001b[0m\u001b[1;34m\"has_index_names\"\u001b[0m\u001b[1;33m]\u001b[0m\u001b[1;33m\u001b[0m\u001b[1;33m\u001b[0m\u001b[0m\n\u001b[0;32m    818\u001b[0m \u001b[1;33m\u001b[0m\u001b[0m\n\u001b[1;32m--> 819\u001b[1;33m         \u001b[0mself\u001b[0m\u001b[1;33m.\u001b[0m\u001b[0m_engine\u001b[0m \u001b[1;33m=\u001b[0m \u001b[0mself\u001b[0m\u001b[1;33m.\u001b[0m\u001b[0m_make_engine\u001b[0m\u001b[1;33m(\u001b[0m\u001b[0mself\u001b[0m\u001b[1;33m.\u001b[0m\u001b[0mengine\u001b[0m\u001b[1;33m)\u001b[0m\u001b[1;33m\u001b[0m\u001b[1;33m\u001b[0m\u001b[0m\n\u001b[0m\u001b[0;32m    820\u001b[0m \u001b[1;33m\u001b[0m\u001b[0m\n\u001b[0;32m    821\u001b[0m     \u001b[1;32mdef\u001b[0m \u001b[0mclose\u001b[0m\u001b[1;33m(\u001b[0m\u001b[0mself\u001b[0m\u001b[1;33m)\u001b[0m\u001b[1;33m:\u001b[0m\u001b[1;33m\u001b[0m\u001b[1;33m\u001b[0m\u001b[0m\n",
      "\u001b[1;32m~\\anaconda3\\lib\\site-packages\\pandas\\io\\parsers.py\u001b[0m in \u001b[0;36m_make_engine\u001b[1;34m(self, engine)\u001b[0m\n\u001b[0;32m   1048\u001b[0m             )\n\u001b[0;32m   1049\u001b[0m         \u001b[1;31m# error: Too many arguments for \"ParserBase\"\u001b[0m\u001b[1;33m\u001b[0m\u001b[1;33m\u001b[0m\u001b[0m\n\u001b[1;32m-> 1050\u001b[1;33m         \u001b[1;32mreturn\u001b[0m \u001b[0mmapping\u001b[0m\u001b[1;33m[\u001b[0m\u001b[0mengine\u001b[0m\u001b[1;33m]\u001b[0m\u001b[1;33m(\u001b[0m\u001b[0mself\u001b[0m\u001b[1;33m.\u001b[0m\u001b[0mf\u001b[0m\u001b[1;33m,\u001b[0m \u001b[1;33m**\u001b[0m\u001b[0mself\u001b[0m\u001b[1;33m.\u001b[0m\u001b[0moptions\u001b[0m\u001b[1;33m)\u001b[0m  \u001b[1;31m# type: ignore[call-arg]\u001b[0m\u001b[1;33m\u001b[0m\u001b[1;33m\u001b[0m\u001b[0m\n\u001b[0m\u001b[0;32m   1051\u001b[0m \u001b[1;33m\u001b[0m\u001b[0m\n\u001b[0;32m   1052\u001b[0m     \u001b[1;32mdef\u001b[0m \u001b[0m_failover_to_python\u001b[0m\u001b[1;33m(\u001b[0m\u001b[0mself\u001b[0m\u001b[1;33m)\u001b[0m\u001b[1;33m:\u001b[0m\u001b[1;33m\u001b[0m\u001b[1;33m\u001b[0m\u001b[0m\n",
      "\u001b[1;32m~\\anaconda3\\lib\\site-packages\\pandas\\io\\parsers.py\u001b[0m in \u001b[0;36m__init__\u001b[1;34m(self, src, **kwds)\u001b[0m\n\u001b[0;32m   1865\u001b[0m \u001b[1;33m\u001b[0m\u001b[0m\n\u001b[0;32m   1866\u001b[0m         \u001b[1;31m# open handles\u001b[0m\u001b[1;33m\u001b[0m\u001b[1;33m\u001b[0m\u001b[0m\n\u001b[1;32m-> 1867\u001b[1;33m         \u001b[0mself\u001b[0m\u001b[1;33m.\u001b[0m\u001b[0m_open_handles\u001b[0m\u001b[1;33m(\u001b[0m\u001b[0msrc\u001b[0m\u001b[1;33m,\u001b[0m \u001b[0mkwds\u001b[0m\u001b[1;33m)\u001b[0m\u001b[1;33m\u001b[0m\u001b[1;33m\u001b[0m\u001b[0m\n\u001b[0m\u001b[0;32m   1868\u001b[0m         \u001b[1;32massert\u001b[0m \u001b[0mself\u001b[0m\u001b[1;33m.\u001b[0m\u001b[0mhandles\u001b[0m \u001b[1;32mis\u001b[0m \u001b[1;32mnot\u001b[0m \u001b[1;32mNone\u001b[0m\u001b[1;33m\u001b[0m\u001b[1;33m\u001b[0m\u001b[0m\n\u001b[0;32m   1869\u001b[0m         \u001b[1;32mfor\u001b[0m \u001b[0mkey\u001b[0m \u001b[1;32min\u001b[0m \u001b[1;33m(\u001b[0m\u001b[1;34m\"storage_options\"\u001b[0m\u001b[1;33m,\u001b[0m \u001b[1;34m\"encoding\"\u001b[0m\u001b[1;33m,\u001b[0m \u001b[1;34m\"memory_map\"\u001b[0m\u001b[1;33m,\u001b[0m \u001b[1;34m\"compression\"\u001b[0m\u001b[1;33m)\u001b[0m\u001b[1;33m:\u001b[0m\u001b[1;33m\u001b[0m\u001b[1;33m\u001b[0m\u001b[0m\n",
      "\u001b[1;32m~\\anaconda3\\lib\\site-packages\\pandas\\io\\parsers.py\u001b[0m in \u001b[0;36m_open_handles\u001b[1;34m(self, src, kwds)\u001b[0m\n\u001b[0;32m   1360\u001b[0m         \u001b[0mLet\u001b[0m \u001b[0mthe\u001b[0m \u001b[0mreaders\u001b[0m \u001b[0mopen\u001b[0m \u001b[0mIOHanldes\u001b[0m \u001b[0mafter\u001b[0m \u001b[0mthey\u001b[0m \u001b[0mare\u001b[0m \u001b[0mdone\u001b[0m \u001b[1;32mwith\u001b[0m \u001b[0mtheir\u001b[0m \u001b[0mpotential\u001b[0m \u001b[0mraises\u001b[0m\u001b[1;33m.\u001b[0m\u001b[1;33m\u001b[0m\u001b[1;33m\u001b[0m\u001b[0m\n\u001b[0;32m   1361\u001b[0m         \"\"\"\n\u001b[1;32m-> 1362\u001b[1;33m         self.handles = get_handle(\n\u001b[0m\u001b[0;32m   1363\u001b[0m             \u001b[0msrc\u001b[0m\u001b[1;33m,\u001b[0m\u001b[1;33m\u001b[0m\u001b[1;33m\u001b[0m\u001b[0m\n\u001b[0;32m   1364\u001b[0m             \u001b[1;34m\"r\"\u001b[0m\u001b[1;33m,\u001b[0m\u001b[1;33m\u001b[0m\u001b[1;33m\u001b[0m\u001b[0m\n",
      "\u001b[1;32m~\\anaconda3\\lib\\site-packages\\pandas\\io\\common.py\u001b[0m in \u001b[0;36mget_handle\u001b[1;34m(path_or_buf, mode, encoding, compression, memory_map, is_text, errors, storage_options)\u001b[0m\n\u001b[0;32m    620\u001b[0m                     \u001b[1;32mraise\u001b[0m \u001b[0mValueError\u001b[0m\u001b[1;33m(\u001b[0m\u001b[1;34mf\"Zero files found in ZIP file {path_or_buf}\"\u001b[0m\u001b[1;33m)\u001b[0m\u001b[1;33m\u001b[0m\u001b[1;33m\u001b[0m\u001b[0m\n\u001b[0;32m    621\u001b[0m                 \u001b[1;32melse\u001b[0m\u001b[1;33m:\u001b[0m\u001b[1;33m\u001b[0m\u001b[1;33m\u001b[0m\u001b[0m\n\u001b[1;32m--> 622\u001b[1;33m                     raise ValueError(\n\u001b[0m\u001b[0;32m    623\u001b[0m                         \u001b[1;34m\"Multiple files found in ZIP file. \"\u001b[0m\u001b[1;33m\u001b[0m\u001b[1;33m\u001b[0m\u001b[0m\n\u001b[0;32m    624\u001b[0m                         \u001b[1;34mf\"Only one file per ZIP: {zip_names}\"\u001b[0m\u001b[1;33m\u001b[0m\u001b[1;33m\u001b[0m\u001b[0m\n",
      "\u001b[1;31mValueError\u001b[0m: Multiple files found in ZIP file. Only one file per ZIP: ['REGI ┐¬╗τ└√ ╡Ñ└╠┼═ (1).csv', 'REGI ┐¬╗τ└√ ╡Ñ└╠┼═ (2).csv', 'REGI ┐¬╗τ└√ ╡Ñ└╠┼═ (3).csv', 'REGI ┐¬╗τ└√ ╡Ñ└╠┼═ (4).csv', 'REGI ┐¬╗τ└√ ╡Ñ└╠┼═ (5).csv', 'REGI ┐¬╗τ└√ ╡Ñ└╠┼═ (6).csv', 'REGI ┐¬╗τ└√ ╡Ñ└╠┼═ (7).csv', 'REGI ┐¬╗τ└√ ╡Ñ└╠┼═ (8).csv']"
     ]
    }
   ],
   "source": [
    "# REGI 데이터 가져오기\n",
    "datas = os.listdir('data/REGI')\n",
    "li = []\n",
    "for d in datas:\n",
    "    df = pd.read_csv(f\"data/REGI/{d}\")\n",
    "    li.append(df)"
   ]
  },
  {
   "cell_type": "code",
   "execution_count": null,
   "id": "c40f9c31",
   "metadata": {},
   "outputs": [],
   "source": [
    "# 합병, 저장\n",
    "regi = pd.concat(li)\n",
    "regi.to_csv('./prepro_data/REGI_data.csv')"
   ]
  },
  {
   "cell_type": "code",
   "execution_count": null,
   "id": "4bbd6c43",
   "metadata": {},
   "outputs": [],
   "source": []
  },
  {
   "cell_type": "code",
   "execution_count": 243,
   "id": "06868f9b",
   "metadata": {
    "collapsed": true
   },
   "outputs": [
    {
     "ename": "ImportError",
     "evalue": "cannot import name 'Stylesheet' from 'bs4.element' (C:\\Users\\bitcamp\\anaconda3\\lib\\site-packages\\bs4\\element.py)",
     "output_type": "error",
     "traceback": [
      "\u001b[1;31m---------------------------------------------------------------------------\u001b[0m",
      "\u001b[1;31mImportError\u001b[0m                               Traceback (most recent call last)",
      "\u001b[1;32m~\\AppData\\Local\\Temp/ipykernel_18036/852116523.py\u001b[0m in \u001b[0;36m<module>\u001b[1;34m\u001b[0m\n\u001b[0;32m      1\u001b[0m \u001b[1;32mimport\u001b[0m \u001b[0mrequests\u001b[0m\u001b[1;33m\u001b[0m\u001b[1;33m\u001b[0m\u001b[0m\n\u001b[1;32m----> 2\u001b[1;33m \u001b[1;32mfrom\u001b[0m \u001b[0mbs4\u001b[0m \u001b[1;32mimport\u001b[0m \u001b[0mBeautifulSoup\u001b[0m\u001b[1;33m\u001b[0m\u001b[1;33m\u001b[0m\u001b[0m\n\u001b[0m",
      "\u001b[1;32m~\\anaconda3\\lib\\site-packages\\bs4\\__init__.py\u001b[0m in \u001b[0;36m<module>\u001b[1;34m\u001b[0m\n\u001b[0;32m     36\u001b[0m     \u001b[1;32mraise\u001b[0m \u001b[0mImportError\u001b[0m\u001b[1;33m(\u001b[0m\u001b[1;34m'You are trying to use a Python 3-specific version of Beautiful Soup under Python 2. This will not work. The final version of Beautiful Soup to support Python 2 was 4.9.3.'\u001b[0m\u001b[1;33m)\u001b[0m\u001b[1;33m\u001b[0m\u001b[1;33m\u001b[0m\u001b[0m\n\u001b[0;32m     37\u001b[0m \u001b[1;33m\u001b[0m\u001b[0m\n\u001b[1;32m---> 38\u001b[1;33m \u001b[1;32mfrom\u001b[0m \u001b[1;33m.\u001b[0m\u001b[0mbuilder\u001b[0m \u001b[1;32mimport\u001b[0m \u001b[0mbuilder_registry\u001b[0m\u001b[1;33m,\u001b[0m \u001b[0mParserRejectedMarkup\u001b[0m\u001b[1;33m\u001b[0m\u001b[1;33m\u001b[0m\u001b[0m\n\u001b[0m\u001b[0;32m     39\u001b[0m \u001b[1;32mfrom\u001b[0m \u001b[1;33m.\u001b[0m\u001b[0mdammit\u001b[0m \u001b[1;32mimport\u001b[0m \u001b[0mUnicodeDammit\u001b[0m\u001b[1;33m\u001b[0m\u001b[1;33m\u001b[0m\u001b[0m\n\u001b[0;32m     40\u001b[0m from .element import (\n",
      "\u001b[1;32m~\\anaconda3\\lib\\site-packages\\bs4\\builder\\__init__.py\u001b[0m in \u001b[0;36m<module>\u001b[1;34m\u001b[0m\n\u001b[0;32m      5\u001b[0m \u001b[1;32mimport\u001b[0m \u001b[0mitertools\u001b[0m\u001b[1;33m\u001b[0m\u001b[1;33m\u001b[0m\u001b[0m\n\u001b[0;32m      6\u001b[0m \u001b[1;32mimport\u001b[0m \u001b[0msys\u001b[0m\u001b[1;33m\u001b[0m\u001b[1;33m\u001b[0m\u001b[0m\n\u001b[1;32m----> 7\u001b[1;33m from bs4.element import (\n\u001b[0m\u001b[0;32m      8\u001b[0m     \u001b[0mCharsetMetaAttributeValue\u001b[0m\u001b[1;33m,\u001b[0m\u001b[1;33m\u001b[0m\u001b[1;33m\u001b[0m\u001b[0m\n\u001b[0;32m      9\u001b[0m     \u001b[0mContentMetaAttributeValue\u001b[0m\u001b[1;33m,\u001b[0m\u001b[1;33m\u001b[0m\u001b[1;33m\u001b[0m\u001b[0m\n",
      "\u001b[1;31mImportError\u001b[0m: cannot import name 'Stylesheet' from 'bs4.element' (C:\\Users\\bitcamp\\anaconda3\\lib\\site-packages\\bs4\\element.py)"
     ]
    }
   ],
   "source": [
    "import requests\n",
    "from bs4 import BeautifulSoup\n",
    "from html_table_parser import parser_functions"
   ]
  },
  {
   "cell_type": "code",
   "execution_count": 34,
   "id": "76071baf",
   "metadata": {},
   "outputs": [],
   "source": [
    "# 재무제표 데이터 크롤링\n",
    "url = 'https://www.choicestock.co.kr/search/invest/TSLA/MRQ'\n",
    "res = requests.get(url)\n",
    "soup = BeautifulSoup(res.text, 'html.parser')\n",
    "datas = soup.select('table.tableRanking')"
   ]
  },
  {
   "cell_type": "code",
   "execution_count": null,
   "id": "850a8ea3",
   "metadata": {},
   "outputs": [],
   "source": [
    "# 데이터 프레임 생성\n",
    "li = []\n",
    "for data in datas:\n",
    "    table = parser_functions.make2d(data)\n",
    "    df = pd.DataFrame(data=table[1:], columns=table[0])\n",
    "    li.append(df)"
   ]
  },
  {
   "cell_type": "code",
   "execution_count": null,
   "id": "7f5bb7dd",
   "metadata": {},
   "outputs": [],
   "source": [
    "# 합병\n",
    "df = pd.concat(li)"
   ]
  },
  {
   "cell_type": "code",
   "execution_count": null,
   "id": "c835dc44",
   "metadata": {},
   "outputs": [],
   "source": [
    "# 저장\n",
    "df.to_csv('prepro_data/fn_statement.csv')"
   ]
  },
  {
   "cell_type": "code",
   "execution_count": null,
   "id": "bfc97fc2",
   "metadata": {},
   "outputs": [],
   "source": []
  },
  {
   "cell_type": "code",
   "execution_count": 82,
   "id": "ddda0001",
   "metadata": {},
   "outputs": [],
   "source": [
    "# 재무제표 데이터 크롤링2\n",
    "url = 'https://www.choicestock.co.kr/search/invest/TSLA'\n",
    "res = requests.get(url)\n",
    "soup = BeautifulSoup(res.text, 'html.parser')\n",
    "datas = soup.select('table')"
   ]
  },
  {
   "cell_type": "code",
   "execution_count": 86,
   "id": "a1fda45c",
   "metadata": {},
   "outputs": [],
   "source": [
    "# 테이블 데이터 프레임으로 생성\n",
    "li = []\n",
    "for data in datas:\n",
    "    table = parser_functions.make2d(data)\n",
    "    df = pd.DataFrame(data=table[1:], columns=table[0])\n",
    "    li.append(df)"
   ]
  },
  {
   "cell_type": "code",
   "execution_count": 93,
   "id": "eda15cb8",
   "metadata": {},
   "outputs": [],
   "source": [
    "# 합병\n",
    "df = pd.concat(li)"
   ]
  },
  {
   "cell_type": "code",
   "execution_count": 94,
   "id": "7d8bdc00",
   "metadata": {},
   "outputs": [],
   "source": [
    "# 전처리\n",
    "df = df.iloc[:12, :].drop(['초이스스탁US 프리미엄', '프리미엄', '무료'], axis=1).set_index('').T"
   ]
  },
  {
   "cell_type": "code",
   "execution_count": 96,
   "id": "c4fec08c",
   "metadata": {},
   "outputs": [],
   "source": [
    "# 저장\n",
    "df.to_csv('data/재무재표_전처리.csv')"
   ]
  },
  {
   "cell_type": "code",
   "execution_count": null,
   "id": "2522fe24",
   "metadata": {},
   "outputs": [],
   "source": []
  },
  {
   "cell_type": "code",
   "execution_count": null,
   "id": "ce99e315",
   "metadata": {},
   "outputs": [],
   "source": []
  },
  {
   "cell_type": "code",
   "execution_count": 31,
   "id": "ce8d9c2f",
   "metadata": {},
   "outputs": [],
   "source": [
    "# Date 전처리 함수\n",
    "def change_date(x):\n",
    "    ret = []\n",
    "    for da in x.split():\n",
    "        ret.append(da[:-1])\n",
    "    return '.'.join(ret)"
   ]
  },
  {
   "cell_type": "code",
   "execution_count": 32,
   "id": "7ebe293a",
   "metadata": {},
   "outputs": [],
   "source": [
    "# Volumn 전치리 함수\n",
    "def m_to_k(x):\n",
    "    if x[-1] == 'M':\n",
    "        return float(x[:-1]) * 1000\n",
    "    elif x[-1] == 'B':\n",
    "        return float(x[:-1]) * 1000000\n",
    "    elif x[-1] == 'K':\n",
    "        return float(x[:-1])\n",
    "    else:\n",
    "        return np.nan"
   ]
  },
  {
   "cell_type": "code",
   "execution_count": null,
   "id": "f11e6eb4",
   "metadata": {},
   "outputs": [],
   "source": []
  },
  {
   "cell_type": "code",
   "execution_count": 244,
   "id": "636e6479",
   "metadata": {},
   "outputs": [],
   "source": [
    "# 알루미늄 전처리\n",
    "df1 = pd.read_csv('data/알루미늄 내역.csv')\n",
    "df1.drop(['오픈', '고가', '저가'], axis=1, inplace=True)\n",
    "df1.columns = ['date', 'alu_price', 'alu_vol', 'alu_change']"
   ]
  },
  {
   "cell_type": "code",
   "execution_count": 245,
   "id": "fe7c8bee",
   "metadata": {},
   "outputs": [],
   "source": [
    "df1.date = df1.date.apply(change_date)"
   ]
  },
  {
   "cell_type": "code",
   "execution_count": 246,
   "id": "74787799",
   "metadata": {},
   "outputs": [],
   "source": [
    "df1.date = pd.to_datetime(df1.date)"
   ]
  },
  {
   "cell_type": "code",
   "execution_count": 247,
   "id": "c54573ef",
   "metadata": {},
   "outputs": [],
   "source": [
    "df1['alu_price'] = df1['alu_price'].apply(lambda x: x.replace(',', ''))"
   ]
  },
  {
   "cell_type": "code",
   "execution_count": 248,
   "id": "0cbf277d",
   "metadata": {},
   "outputs": [],
   "source": [
    "df1['alu_price'] = pd.to_numeric(df1['alu_price'])"
   ]
  },
  {
   "cell_type": "code",
   "execution_count": 249,
   "id": "3718a6e7",
   "metadata": {},
   "outputs": [],
   "source": [
    "df1['alu_vol'] = df1['alu_vol'].apply(m_to_k)"
   ]
  },
  {
   "cell_type": "code",
   "execution_count": 250,
   "id": "841180f6",
   "metadata": {},
   "outputs": [],
   "source": [
    "df1['alu_change'] = df1['alu_change'].apply(lambda x: float(x.replace('%', '')))"
   ]
  },
  {
   "cell_type": "code",
   "execution_count": 251,
   "id": "780fe96c",
   "metadata": {},
   "outputs": [
    {
     "name": "stdout",
     "output_type": "stream",
     "text": [
      "<class 'pandas.core.frame.DataFrame'>\n",
      "RangeIndex: 1815 entries, 0 to 1814\n",
      "Data columns (total 4 columns):\n",
      " #   Column      Non-Null Count  Dtype         \n",
      "---  ------      --------------  -----         \n",
      " 0   date        1815 non-null   datetime64[ns]\n",
      " 1   alu_price   1815 non-null   float64       \n",
      " 2   alu_vol     1814 non-null   float64       \n",
      " 3   alu_change  1815 non-null   float64       \n",
      "dtypes: datetime64[ns](1), float64(3)\n",
      "memory usage: 56.8 KB\n"
     ]
    }
   ],
   "source": [
    "df1.info()"
   ]
  },
  {
   "cell_type": "code",
   "execution_count": null,
   "id": "e3b0d370",
   "metadata": {},
   "outputs": [],
   "source": []
  },
  {
   "cell_type": "code",
   "execution_count": null,
   "id": "354f4648",
   "metadata": {},
   "outputs": [],
   "source": []
  },
  {
   "cell_type": "code",
   "execution_count": 252,
   "id": "1455c62f",
   "metadata": {},
   "outputs": [],
   "source": [
    "# 구리 데이터 전처리\n",
    "df2 = pd.read_csv('data/영국 구리 선물 내역.csv')\n",
    "df2.drop(['오픈', '고가', '저가', '거래량'], axis=1, inplace=True)\n",
    "df2.columns = ['date', 'cu_price', 'cu_change']"
   ]
  },
  {
   "cell_type": "code",
   "execution_count": 256,
   "id": "42d03757",
   "metadata": {},
   "outputs": [],
   "source": [
    "df2.date = df2.date.apply(change_date)"
   ]
  },
  {
   "cell_type": "code",
   "execution_count": 257,
   "id": "77d8d3a6",
   "metadata": {},
   "outputs": [],
   "source": [
    "df2.date = pd.to_datetime(df2.date)"
   ]
  },
  {
   "cell_type": "code",
   "execution_count": 258,
   "id": "fbfe1eb3",
   "metadata": {},
   "outputs": [],
   "source": [
    "df2.cu_price = df2.cu_price.apply(lambda x: float(x.replace(',', '')))"
   ]
  },
  {
   "cell_type": "code",
   "execution_count": 259,
   "id": "3acfb5af",
   "metadata": {},
   "outputs": [],
   "source": [
    "df2['cu_change'] = df2['cu_change'].apply(lambda x: float(x.replace('%', '')))"
   ]
  },
  {
   "cell_type": "code",
   "execution_count": null,
   "id": "a91913fc",
   "metadata": {},
   "outputs": [],
   "source": []
  },
  {
   "cell_type": "code",
   "execution_count": 181,
   "id": "0e36be0b",
   "metadata": {},
   "outputs": [],
   "source": [
    "# 알루미늄, 구리 데이터 합병\n",
    "df_mg = pd.merge(df1, df2, on='date', how='outer')"
   ]
  },
  {
   "cell_type": "code",
   "execution_count": null,
   "id": "e540b765",
   "metadata": {},
   "outputs": [],
   "source": []
  },
  {
   "cell_type": "code",
   "execution_count": 194,
   "id": "c43f14a7",
   "metadata": {},
   "outputs": [],
   "source": [
    "# REGI 데이터 전처리\n",
    "df3 = pd.read_csv('prepro_data/REGI_data.csv')\n",
    "df3.drop(['Unnamed: 0', '오픈', '고가', '저가'], axis=1, inplace=True)\n",
    "df3.columns = ['date', 'REGI_price', 'REGI_vol', 'REGI_change']"
   ]
  },
  {
   "cell_type": "code",
   "execution_count": 200,
   "id": "4fde923f",
   "metadata": {},
   "outputs": [],
   "source": [
    "df3.date = df3.date.apply(change_date)"
   ]
  },
  {
   "cell_type": "code",
   "execution_count": 201,
   "id": "7e4f455b",
   "metadata": {},
   "outputs": [],
   "source": [
    "df3.date = pd.to_datetime(df3.date)"
   ]
  },
  {
   "cell_type": "code",
   "execution_count": 204,
   "id": "61e57d92",
   "metadata": {},
   "outputs": [],
   "source": [
    "df3.REGI_vol = df3.REGI_vol.apply(m_to_k)"
   ]
  },
  {
   "cell_type": "code",
   "execution_count": 205,
   "id": "3df31ac6",
   "metadata": {},
   "outputs": [],
   "source": [
    "df3['REGI_change'] = df3['REGI_change'].apply(lambda x: float(x.replace('%', '')))"
   ]
  },
  {
   "cell_type": "code",
   "execution_count": 208,
   "id": "4b795396",
   "metadata": {},
   "outputs": [],
   "source": [
    "# REGI 합병\n",
    "df_mg1 = pd.merge(df_mg, df3, on='date', how='outer')"
   ]
  },
  {
   "cell_type": "code",
   "execution_count": 211,
   "id": "d8c2e1c8",
   "metadata": {},
   "outputs": [],
   "source": [
    "# 합병한 데이터프레임 저장\n",
    "df_mg1.to_csv('./prepro_data/alu_cu_REGI_df.csv')"
   ]
  },
  {
   "cell_type": "code",
   "execution_count": null,
   "id": "b9fe8d2b",
   "metadata": {},
   "outputs": [],
   "source": []
  },
  {
   "cell_type": "code",
   "execution_count": null,
   "id": "841184a8",
   "metadata": {},
   "outputs": [],
   "source": [
    "# 리튬 전처리 및 저장"
   ]
  },
  {
   "cell_type": "code",
   "execution_count": 222,
   "id": "6ff08828",
   "metadata": {},
   "outputs": [],
   "source": [
    "df = pd.read_excel('data/리튬+가격2022-03-08.xls')"
   ]
  },
  {
   "cell_type": "code",
   "execution_count": 224,
   "id": "e50715c5",
   "metadata": {},
   "outputs": [],
   "source": [
    "df.drop(['등락가', '등락비율', '재고량'], axis=1, inplace=True)"
   ]
  },
  {
   "cell_type": "code",
   "execution_count": 226,
   "id": "b8698b9a",
   "metadata": {},
   "outputs": [],
   "source": [
    "df.columns = ['date', 'li_price']"
   ]
  },
  {
   "cell_type": "code",
   "execution_count": 231,
   "id": "aaa08b46",
   "metadata": {},
   "outputs": [],
   "source": [
    "df.date = pd.to_datetime(df.date)"
   ]
  },
  {
   "cell_type": "code",
   "execution_count": 234,
   "id": "6fb5c61c",
   "metadata": {},
   "outputs": [],
   "source": [
    "df.to_csv('prepro_data/data_li.csv')"
   ]
  },
  {
   "cell_type": "code",
   "execution_count": null,
   "id": "d0541680",
   "metadata": {},
   "outputs": [],
   "source": []
  },
  {
   "cell_type": "code",
   "execution_count": 257,
   "id": "855f3c09",
   "metadata": {},
   "outputs": [],
   "source": [
    "df_total = pd.read_csv('prepro_data/테슬라 총합.csv', index_col=0)"
   ]
  },
  {
   "cell_type": "code",
   "execution_count": 202,
   "id": "75601b55",
   "metadata": {},
   "outputs": [],
   "source": [
    "datas = os.listdir('data/구글검색량')"
   ]
  },
  {
   "cell_type": "code",
   "execution_count": 235,
   "id": "15c216de",
   "metadata": {},
   "outputs": [],
   "source": [
    "li = []\n",
    "for data in datas:\n",
    "    df = pd.read_csv('data/구글검색량/{}'.format(data))\n",
    "    li.append(df)\n",
    "df_con = pd.concat(li)"
   ]
  },
  {
   "cell_type": "code",
   "execution_count": 237,
   "id": "325f98fe",
   "metadata": {
    "scrolled": true
   },
   "outputs": [],
   "source": [
    "df_con = df_con.reset_index()"
   ]
  },
  {
   "cell_type": "code",
   "execution_count": 244,
   "id": "aa85ef9d",
   "metadata": {},
   "outputs": [],
   "source": [
    "df_con = df_con.rename(columns={'index' : 'date', '카테고리: 모든 카테고리' : '검색량'})"
   ]
  },
  {
   "cell_type": "code",
   "execution_count": 251,
   "id": "f9d05105",
   "metadata": {},
   "outputs": [],
   "source": [
    "df_con.검색량 = df_con.검색량.apply(lambda x: x if x.isnumeric() else np.nan)"
   ]
  },
  {
   "cell_type": "code",
   "execution_count": 253,
   "id": "1c098e43",
   "metadata": {},
   "outputs": [],
   "source": [
    "df_con.dropna(inplace=True)"
   ]
  },
  {
   "cell_type": "code",
   "execution_count": 254,
   "id": "126b2a6d",
   "metadata": {},
   "outputs": [
    {
     "data": {
      "text/html": [
       "<div>\n",
       "<style scoped>\n",
       "    .dataframe tbody tr th:only-of-type {\n",
       "        vertical-align: middle;\n",
       "    }\n",
       "\n",
       "    .dataframe tbody tr th {\n",
       "        vertical-align: top;\n",
       "    }\n",
       "\n",
       "    .dataframe thead th {\n",
       "        text-align: right;\n",
       "    }\n",
       "</style>\n",
       "<table border=\"1\" class=\"dataframe\">\n",
       "  <thead>\n",
       "    <tr style=\"text-align: right;\">\n",
       "      <th></th>\n",
       "      <th>date</th>\n",
       "      <th>검색량</th>\n",
       "    </tr>\n",
       "  </thead>\n",
       "  <tbody>\n",
       "    <tr>\n",
       "      <th>1</th>\n",
       "      <td>2021-07-01</td>\n",
       "      <td>44</td>\n",
       "    </tr>\n",
       "    <tr>\n",
       "      <th>2</th>\n",
       "      <td>2021-07-02</td>\n",
       "      <td>45</td>\n",
       "    </tr>\n",
       "    <tr>\n",
       "      <th>3</th>\n",
       "      <td>2021-07-03</td>\n",
       "      <td>41</td>\n",
       "    </tr>\n",
       "    <tr>\n",
       "      <th>4</th>\n",
       "      <td>2021-07-04</td>\n",
       "      <td>40</td>\n",
       "    </tr>\n",
       "    <tr>\n",
       "      <th>5</th>\n",
       "      <td>2021-07-05</td>\n",
       "      <td>38</td>\n",
       "    </tr>\n",
       "    <tr>\n",
       "      <th>...</th>\n",
       "      <td>...</td>\n",
       "      <td>...</td>\n",
       "    </tr>\n",
       "    <tr>\n",
       "      <th>2665</th>\n",
       "      <td>2022-03-04</td>\n",
       "      <td>76</td>\n",
       "    </tr>\n",
       "    <tr>\n",
       "      <th>2666</th>\n",
       "      <td>2022-03-05</td>\n",
       "      <td>68</td>\n",
       "    </tr>\n",
       "    <tr>\n",
       "      <th>2667</th>\n",
       "      <td>2022-03-06</td>\n",
       "      <td>67</td>\n",
       "    </tr>\n",
       "    <tr>\n",
       "      <th>2668</th>\n",
       "      <td>2022-03-07</td>\n",
       "      <td>82</td>\n",
       "    </tr>\n",
       "    <tr>\n",
       "      <th>2669</th>\n",
       "      <td>2022-03-08</td>\n",
       "      <td>0</td>\n",
       "    </tr>\n",
       "  </tbody>\n",
       "</table>\n",
       "<p>2655 rows × 2 columns</p>\n",
       "</div>"
      ],
      "text/plain": [
       "            date 검색량\n",
       "1     2021-07-01  44\n",
       "2     2021-07-02  45\n",
       "3     2021-07-03  41\n",
       "4     2021-07-04  40\n",
       "5     2021-07-05  38\n",
       "...          ...  ..\n",
       "2665  2022-03-04  76\n",
       "2666  2022-03-05  68\n",
       "2667  2022-03-06  67\n",
       "2668  2022-03-07  82\n",
       "2669  2022-03-08   0\n",
       "\n",
       "[2655 rows x 2 columns]"
      ]
     },
     "execution_count": 254,
     "metadata": {},
     "output_type": "execute_result"
    }
   ],
   "source": [
    "df_con"
   ]
  },
  {
   "cell_type": "code",
   "execution_count": 261,
   "id": "f7ac68fc",
   "metadata": {},
   "outputs": [],
   "source": [
    "df_total = pd.merge(df_total, df_con, on='date', how='left')"
   ]
  },
  {
   "cell_type": "code",
   "execution_count": 262,
   "id": "0b6cbe54",
   "metadata": {},
   "outputs": [],
   "source": [
    "df_total.to_csv('prepro_data/검색량추가.csv')"
   ]
  },
  {
   "cell_type": "code",
   "execution_count": null,
   "id": "5635f2fc",
   "metadata": {},
   "outputs": [],
   "source": []
  },
  {
   "cell_type": "code",
   "execution_count": 304,
   "id": "0b0ed389",
   "metadata": {},
   "outputs": [],
   "source": [
    "df = pd.read_csv('prepro_data/검색량추가.csv', index_col=0)"
   ]
  },
  {
   "cell_type": "code",
   "execution_count": 305,
   "id": "cd7b3e12",
   "metadata": {
    "scrolled": true
   },
   "outputs": [],
   "source": [
    "df['updown'] = df.tesla_volatility.apply(lambda x: 1 if x >= 0 else 0)"
   ]
  },
  {
   "cell_type": "code",
   "execution_count": 306,
   "id": "60dcfc0d",
   "metadata": {},
   "outputs": [],
   "source": [
    "df.to_csv('data/최종데이터.csv')"
   ]
  },
  {
   "cell_type": "code",
   "execution_count": 307,
   "id": "2509b2fa",
   "metadata": {},
   "outputs": [
    {
     "data": {
      "text/html": [
       "<div>\n",
       "<style scoped>\n",
       "    .dataframe tbody tr th:only-of-type {\n",
       "        vertical-align: middle;\n",
       "    }\n",
       "\n",
       "    .dataframe tbody tr th {\n",
       "        vertical-align: top;\n",
       "    }\n",
       "\n",
       "    .dataframe thead th {\n",
       "        text-align: right;\n",
       "    }\n",
       "</style>\n",
       "<table border=\"1\" class=\"dataframe\">\n",
       "  <thead>\n",
       "    <tr style=\"text-align: right;\">\n",
       "      <th></th>\n",
       "      <th>date</th>\n",
       "      <th>tesla</th>\n",
       "      <th>tesla_거래량</th>\n",
       "      <th>tesla_volatility</th>\n",
       "      <th>elec_fee</th>\n",
       "      <th>oli_price</th>\n",
       "      <th>oli_price_volatility</th>\n",
       "      <th>carbon_credits</th>\n",
       "      <th>carbon_credits_volatility</th>\n",
       "      <th>EVE종가</th>\n",
       "      <th>...</th>\n",
       "      <th>alu_price</th>\n",
       "      <th>alu_vol</th>\n",
       "      <th>alu_change</th>\n",
       "      <th>cu_price</th>\n",
       "      <th>cu_change</th>\n",
       "      <th>REGI_price</th>\n",
       "      <th>REGI_vol</th>\n",
       "      <th>REGI_change</th>\n",
       "      <th>검색량</th>\n",
       "      <th>updown</th>\n",
       "    </tr>\n",
       "  </thead>\n",
       "  <tbody>\n",
       "    <tr>\n",
       "      <th>0</th>\n",
       "      <td>2015-01-02</td>\n",
       "      <td>43.86</td>\n",
       "      <td>23820.0</td>\n",
       "      <td>-1.39</td>\n",
       "      <td>6.67</td>\n",
       "      <td>52.69</td>\n",
       "      <td>-3.44</td>\n",
       "      <td>7.01</td>\n",
       "      <td>-3.31</td>\n",
       "      <td>13.38</td>\n",
       "      <td>...</td>\n",
       "      <td>1828.00</td>\n",
       "      <td>31.38</td>\n",
       "      <td>-1.12</td>\n",
       "      <td>6250.25</td>\n",
       "      <td>-0.55</td>\n",
       "      <td>9.79</td>\n",
       "      <td>436.60</td>\n",
       "      <td>0.82</td>\n",
       "      <td>22</td>\n",
       "      <td>0</td>\n",
       "    </tr>\n",
       "    <tr>\n",
       "      <th>1</th>\n",
       "      <td>2015-01-05</td>\n",
       "      <td>42.02</td>\n",
       "      <td>26840.0</td>\n",
       "      <td>-4.20</td>\n",
       "      <td>6.67</td>\n",
       "      <td>50.04</td>\n",
       "      <td>-5.03</td>\n",
       "      <td>6.90</td>\n",
       "      <td>-1.57</td>\n",
       "      <td>13.38</td>\n",
       "      <td>...</td>\n",
       "      <td>1812.25</td>\n",
       "      <td>43.25</td>\n",
       "      <td>-0.86</td>\n",
       "      <td>6142.00</td>\n",
       "      <td>-1.73</td>\n",
       "      <td>9.55</td>\n",
       "      <td>481.67</td>\n",
       "      <td>-2.45</td>\n",
       "      <td>19</td>\n",
       "      <td>0</td>\n",
       "    </tr>\n",
       "    <tr>\n",
       "      <th>2</th>\n",
       "      <td>2015-01-06</td>\n",
       "      <td>42.26</td>\n",
       "      <td>31310.0</td>\n",
       "      <td>0.57</td>\n",
       "      <td>6.67</td>\n",
       "      <td>47.93</td>\n",
       "      <td>-4.22</td>\n",
       "      <td>6.77</td>\n",
       "      <td>-1.88</td>\n",
       "      <td>13.89</td>\n",
       "      <td>...</td>\n",
       "      <td>1780.25</td>\n",
       "      <td>56.01</td>\n",
       "      <td>-1.77</td>\n",
       "      <td>6131.00</td>\n",
       "      <td>-0.18</td>\n",
       "      <td>9.12</td>\n",
       "      <td>534.76</td>\n",
       "      <td>-4.50</td>\n",
       "      <td>23</td>\n",
       "      <td>1</td>\n",
       "    </tr>\n",
       "    <tr>\n",
       "      <th>3</th>\n",
       "      <td>2015-01-07</td>\n",
       "      <td>42.19</td>\n",
       "      <td>14840.0</td>\n",
       "      <td>-0.17</td>\n",
       "      <td>6.67</td>\n",
       "      <td>48.65</td>\n",
       "      <td>1.50</td>\n",
       "      <td>6.78</td>\n",
       "      <td>0.15</td>\n",
       "      <td>13.75</td>\n",
       "      <td>...</td>\n",
       "      <td>1783.50</td>\n",
       "      <td>61.45</td>\n",
       "      <td>0.18</td>\n",
       "      <td>6125.00</td>\n",
       "      <td>-0.10</td>\n",
       "      <td>9.19</td>\n",
       "      <td>267.66</td>\n",
       "      <td>0.77</td>\n",
       "      <td>22</td>\n",
       "      <td>0</td>\n",
       "    </tr>\n",
       "    <tr>\n",
       "      <th>4</th>\n",
       "      <td>2015-01-08</td>\n",
       "      <td>42.12</td>\n",
       "      <td>17210.0</td>\n",
       "      <td>-0.17</td>\n",
       "      <td>6.67</td>\n",
       "      <td>48.79</td>\n",
       "      <td>0.29</td>\n",
       "      <td>6.81</td>\n",
       "      <td>0.44</td>\n",
       "      <td>13.80</td>\n",
       "      <td>...</td>\n",
       "      <td>1825.50</td>\n",
       "      <td>75.03</td>\n",
       "      <td>2.35</td>\n",
       "      <td>6122.75</td>\n",
       "      <td>-0.04</td>\n",
       "      <td>9.43</td>\n",
       "      <td>359.25</td>\n",
       "      <td>2.61</td>\n",
       "      <td>25</td>\n",
       "      <td>0</td>\n",
       "    </tr>\n",
       "    <tr>\n",
       "      <th>...</th>\n",
       "      <td>...</td>\n",
       "      <td>...</td>\n",
       "      <td>...</td>\n",
       "      <td>...</td>\n",
       "      <td>...</td>\n",
       "      <td>...</td>\n",
       "      <td>...</td>\n",
       "      <td>...</td>\n",
       "      <td>...</td>\n",
       "      <td>...</td>\n",
       "      <td>...</td>\n",
       "      <td>...</td>\n",
       "      <td>...</td>\n",
       "      <td>...</td>\n",
       "      <td>...</td>\n",
       "      <td>...</td>\n",
       "      <td>...</td>\n",
       "      <td>...</td>\n",
       "      <td>...</td>\n",
       "      <td>...</td>\n",
       "      <td>...</td>\n",
       "    </tr>\n",
       "    <tr>\n",
       "      <th>1822</th>\n",
       "      <td>2022-02-28</td>\n",
       "      <td>870.43</td>\n",
       "      <td>32770.0</td>\n",
       "      <td>7.48</td>\n",
       "      <td>7.16</td>\n",
       "      <td>95.72</td>\n",
       "      <td>4.51</td>\n",
       "      <td>82.65</td>\n",
       "      <td>-5.83</td>\n",
       "      <td>89.50</td>\n",
       "      <td>...</td>\n",
       "      <td>3368.50</td>\n",
       "      <td>85.69</td>\n",
       "      <td>0.33</td>\n",
       "      <td>9883.50</td>\n",
       "      <td>0.11</td>\n",
       "      <td>61.50</td>\n",
       "      <td>12740.00</td>\n",
       "      <td>40.38</td>\n",
       "      <td>70</td>\n",
       "      <td>1</td>\n",
       "    </tr>\n",
       "    <tr>\n",
       "      <th>1823</th>\n",
       "      <td>2022-03-01</td>\n",
       "      <td>864.37</td>\n",
       "      <td>24720.0</td>\n",
       "      <td>-0.70</td>\n",
       "      <td>7.16</td>\n",
       "      <td>103.41</td>\n",
       "      <td>8.03</td>\n",
       "      <td>69.74</td>\n",
       "      <td>-15.62</td>\n",
       "      <td>86.90</td>\n",
       "      <td>...</td>\n",
       "      <td>3478.00</td>\n",
       "      <td>68.56</td>\n",
       "      <td>3.25</td>\n",
       "      <td>10061.50</td>\n",
       "      <td>1.80</td>\n",
       "      <td>60.75</td>\n",
       "      <td>4790.00</td>\n",
       "      <td>-1.22</td>\n",
       "      <td>67</td>\n",
       "      <td>0</td>\n",
       "    </tr>\n",
       "    <tr>\n",
       "      <th>1824</th>\n",
       "      <td>2022-03-02</td>\n",
       "      <td>879.89</td>\n",
       "      <td>24650.0</td>\n",
       "      <td>1.80</td>\n",
       "      <td>7.16</td>\n",
       "      <td>110.60</td>\n",
       "      <td>6.95</td>\n",
       "      <td>67.72</td>\n",
       "      <td>-2.90</td>\n",
       "      <td>84.23</td>\n",
       "      <td>...</td>\n",
       "      <td>3569.00</td>\n",
       "      <td>68.40</td>\n",
       "      <td>2.62</td>\n",
       "      <td>10166.00</td>\n",
       "      <td>1.04</td>\n",
       "      <td>60.86</td>\n",
       "      <td>5040.00</td>\n",
       "      <td>0.18</td>\n",
       "      <td>68</td>\n",
       "      <td>1</td>\n",
       "    </tr>\n",
       "    <tr>\n",
       "      <th>1825</th>\n",
       "      <td>2022-03-03</td>\n",
       "      <td>839.29</td>\n",
       "      <td>20260.0</td>\n",
       "      <td>-4.61</td>\n",
       "      <td>7.16</td>\n",
       "      <td>107.67</td>\n",
       "      <td>-2.65</td>\n",
       "      <td>67.01</td>\n",
       "      <td>-1.05</td>\n",
       "      <td>79.51</td>\n",
       "      <td>...</td>\n",
       "      <td>3716.50</td>\n",
       "      <td>106.23</td>\n",
       "      <td>4.13</td>\n",
       "      <td>10351.00</td>\n",
       "      <td>1.82</td>\n",
       "      <td>61.26</td>\n",
       "      <td>5430.00</td>\n",
       "      <td>0.66</td>\n",
       "      <td>71</td>\n",
       "      <td>0</td>\n",
       "    </tr>\n",
       "    <tr>\n",
       "      <th>1826</th>\n",
       "      <td>2022-03-04</td>\n",
       "      <td>838.29</td>\n",
       "      <td>22390.0</td>\n",
       "      <td>-0.12</td>\n",
       "      <td>7.16</td>\n",
       "      <td>115.68</td>\n",
       "      <td>7.44</td>\n",
       "      <td>65.80</td>\n",
       "      <td>-1.81</td>\n",
       "      <td>78.15</td>\n",
       "      <td>...</td>\n",
       "      <td>3849.00</td>\n",
       "      <td>106.23</td>\n",
       "      <td>3.57</td>\n",
       "      <td>10674.00</td>\n",
       "      <td>3.12</td>\n",
       "      <td>61.04</td>\n",
       "      <td>4290.00</td>\n",
       "      <td>-0.36</td>\n",
       "      <td>76</td>\n",
       "      <td>0</td>\n",
       "    </tr>\n",
       "  </tbody>\n",
       "</table>\n",
       "<p>1827 rows × 47 columns</p>\n",
       "</div>"
      ],
      "text/plain": [
       "            date   tesla  tesla_거래량  tesla_volatility  elec_fee  oli_price  \\\n",
       "0     2015-01-02   43.86    23820.0             -1.39      6.67      52.69   \n",
       "1     2015-01-05   42.02    26840.0             -4.20      6.67      50.04   \n",
       "2     2015-01-06   42.26    31310.0              0.57      6.67      47.93   \n",
       "3     2015-01-07   42.19    14840.0             -0.17      6.67      48.65   \n",
       "4     2015-01-08   42.12    17210.0             -0.17      6.67      48.79   \n",
       "...          ...     ...        ...               ...       ...        ...   \n",
       "1822  2022-02-28  870.43    32770.0              7.48      7.16      95.72   \n",
       "1823  2022-03-01  864.37    24720.0             -0.70      7.16     103.41   \n",
       "1824  2022-03-02  879.89    24650.0              1.80      7.16     110.60   \n",
       "1825  2022-03-03  839.29    20260.0             -4.61      7.16     107.67   \n",
       "1826  2022-03-04  838.29    22390.0             -0.12      7.16     115.68   \n",
       "\n",
       "      oli_price_volatility  carbon_credits  carbon_credits_volatility  EVE종가  \\\n",
       "0                    -3.44            7.01                      -3.31  13.38   \n",
       "1                    -5.03            6.90                      -1.57  13.38   \n",
       "2                    -4.22            6.77                      -1.88  13.89   \n",
       "3                     1.50            6.78                       0.15  13.75   \n",
       "4                     0.29            6.81                       0.44  13.80   \n",
       "...                    ...             ...                        ...    ...   \n",
       "1822                  4.51           82.65                      -5.83  89.50   \n",
       "1823                  8.03           69.74                     -15.62  86.90   \n",
       "1824                  6.95           67.72                      -2.90  84.23   \n",
       "1825                 -2.65           67.01                      -1.05  79.51   \n",
       "1826                  7.44           65.80                      -1.81  78.15   \n",
       "\n",
       "      ...  alu_price  alu_vol  alu_change  cu_price  cu_change  REGI_price  \\\n",
       "0     ...    1828.00    31.38       -1.12   6250.25      -0.55        9.79   \n",
       "1     ...    1812.25    43.25       -0.86   6142.00      -1.73        9.55   \n",
       "2     ...    1780.25    56.01       -1.77   6131.00      -0.18        9.12   \n",
       "3     ...    1783.50    61.45        0.18   6125.00      -0.10        9.19   \n",
       "4     ...    1825.50    75.03        2.35   6122.75      -0.04        9.43   \n",
       "...   ...        ...      ...         ...       ...        ...         ...   \n",
       "1822  ...    3368.50    85.69        0.33   9883.50       0.11       61.50   \n",
       "1823  ...    3478.00    68.56        3.25  10061.50       1.80       60.75   \n",
       "1824  ...    3569.00    68.40        2.62  10166.00       1.04       60.86   \n",
       "1825  ...    3716.50   106.23        4.13  10351.00       1.82       61.26   \n",
       "1826  ...    3849.00   106.23        3.57  10674.00       3.12       61.04   \n",
       "\n",
       "      REGI_vol  REGI_change  검색량  updown  \n",
       "0       436.60         0.82   22       0  \n",
       "1       481.67        -2.45   19       0  \n",
       "2       534.76        -4.50   23       1  \n",
       "3       267.66         0.77   22       0  \n",
       "4       359.25         2.61   25       0  \n",
       "...        ...          ...  ...     ...  \n",
       "1822  12740.00        40.38   70       1  \n",
       "1823   4790.00        -1.22   67       0  \n",
       "1824   5040.00         0.18   68       1  \n",
       "1825   5430.00         0.66   71       0  \n",
       "1826   4290.00        -0.36   76       0  \n",
       "\n",
       "[1827 rows x 47 columns]"
      ]
     },
     "execution_count": 307,
     "metadata": {},
     "output_type": "execute_result"
    }
   ],
   "source": [
    "df"
   ]
  },
  {
   "cell_type": "code",
   "execution_count": null,
   "id": "b659d006",
   "metadata": {},
   "outputs": [],
   "source": []
  },
  {
   "cell_type": "code",
   "execution_count": null,
   "id": "a8292b76",
   "metadata": {},
   "outputs": [],
   "source": []
  },
  {
   "cell_type": "code",
   "execution_count": null,
   "id": "b65ee959",
   "metadata": {},
   "outputs": [],
   "source": []
  },
  {
   "cell_type": "code",
   "execution_count": null,
   "id": "f1ced42d",
   "metadata": {},
   "outputs": [],
   "source": []
  },
  {
   "cell_type": "code",
   "execution_count": null,
   "id": "5de0544a",
   "metadata": {},
   "outputs": [],
   "source": []
  },
  {
   "cell_type": "code",
   "execution_count": null,
   "id": "fed10d11",
   "metadata": {},
   "outputs": [],
   "source": []
  },
  {
   "cell_type": "code",
   "execution_count": null,
   "id": "1206b015",
   "metadata": {},
   "outputs": [],
   "source": []
  },
  {
   "cell_type": "code",
   "execution_count": null,
   "id": "ca6b1e37",
   "metadata": {},
   "outputs": [],
   "source": []
  },
  {
   "cell_type": "code",
   "execution_count": null,
   "id": "4bdcf733",
   "metadata": {},
   "outputs": [],
   "source": []
  },
  {
   "cell_type": "code",
   "execution_count": null,
   "id": "0c4fbaf2",
   "metadata": {},
   "outputs": [],
   "source": []
  },
  {
   "cell_type": "code",
   "execution_count": null,
   "id": "c5010216",
   "metadata": {},
   "outputs": [],
   "source": []
  },
  {
   "cell_type": "code",
   "execution_count": null,
   "id": "55e2cbd0",
   "metadata": {},
   "outputs": [],
   "source": []
  },
  {
   "cell_type": "code",
   "execution_count": null,
   "id": "9a8f184d",
   "metadata": {},
   "outputs": [],
   "source": []
  },
  {
   "cell_type": "code",
   "execution_count": null,
   "id": "1e73985f",
   "metadata": {},
   "outputs": [],
   "source": []
  }
 ],
 "metadata": {
  "kernelspec": {
   "display_name": "Python 3 (ipykernel)",
   "language": "python",
   "name": "python3"
  },
  "language_info": {
   "codemirror_mode": {
    "name": "ipython",
    "version": 3
   },
   "file_extension": ".py",
   "mimetype": "text/x-python",
   "name": "python",
   "nbconvert_exporter": "python",
   "pygments_lexer": "ipython3",
   "version": "3.9.7"
  }
 },
 "nbformat": 4,
 "nbformat_minor": 5
}
