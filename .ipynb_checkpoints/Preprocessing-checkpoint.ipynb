{
 "cells": [
  {
   "cell_type": "code",
   "execution_count": 15,
   "id": "d74ab1a6",
   "metadata": {},
   "outputs": [],
   "source": [
    "import pandas as pd\n",
    "import numpy as np\n",
    "import matplotlib.pyplot as plt \n",
    "import seaborn as sns\n",
    "import os"
   ]
  },
  {
   "cell_type": "code",
   "execution_count": 16,
   "id": "481f2442",
   "metadata": {
    "collapsed": true
   },
   "outputs": [
    {
     "ename": "ValueError",
     "evalue": "Multiple files found in ZIP file. Only one file per ZIP: ['REGI ┐¬╗τ└√ ╡Ñ└╠┼═ (1).csv', 'REGI ┐¬╗τ└√ ╡Ñ└╠┼═ (2).csv', 'REGI ┐¬╗τ└√ ╡Ñ└╠┼═ (3).csv', 'REGI ┐¬╗τ└√ ╡Ñ└╠┼═ (4).csv', 'REGI ┐¬╗τ└√ ╡Ñ└╠┼═ (5).csv', 'REGI ┐¬╗τ└√ ╡Ñ└╠┼═ (6).csv', 'REGI ┐¬╗τ└√ ╡Ñ└╠┼═ (7).csv', 'REGI ┐¬╗τ└√ ╡Ñ└╠┼═ (8).csv']",
     "output_type": "error",
     "traceback": [
      "\u001b[1;31m---------------------------------------------------------------------------\u001b[0m",
      "\u001b[1;31mValueError\u001b[0m                                Traceback (most recent call last)",
      "\u001b[1;32m~\\AppData\\Local\\Temp/ipykernel_5632/2893535322.py\u001b[0m in \u001b[0;36m<module>\u001b[1;34m\u001b[0m\n\u001b[0;32m      3\u001b[0m \u001b[0mli\u001b[0m \u001b[1;33m=\u001b[0m \u001b[1;33m[\u001b[0m\u001b[1;33m]\u001b[0m\u001b[1;33m\u001b[0m\u001b[1;33m\u001b[0m\u001b[0m\n\u001b[0;32m      4\u001b[0m \u001b[1;32mfor\u001b[0m \u001b[0md\u001b[0m \u001b[1;32min\u001b[0m \u001b[0mdatas\u001b[0m\u001b[1;33m:\u001b[0m\u001b[1;33m\u001b[0m\u001b[1;33m\u001b[0m\u001b[0m\n\u001b[1;32m----> 5\u001b[1;33m     \u001b[0mdf\u001b[0m \u001b[1;33m=\u001b[0m \u001b[0mpd\u001b[0m\u001b[1;33m.\u001b[0m\u001b[0mread_csv\u001b[0m\u001b[1;33m(\u001b[0m\u001b[1;34mf\"data/REGI/{d}\"\u001b[0m\u001b[1;33m)\u001b[0m\u001b[1;33m\u001b[0m\u001b[1;33m\u001b[0m\u001b[0m\n\u001b[0m\u001b[0;32m      6\u001b[0m     \u001b[0mli\u001b[0m\u001b[1;33m.\u001b[0m\u001b[0mappend\u001b[0m\u001b[1;33m(\u001b[0m\u001b[0mdf\u001b[0m\u001b[1;33m)\u001b[0m\u001b[1;33m\u001b[0m\u001b[1;33m\u001b[0m\u001b[0m\n",
      "\u001b[1;32m~\\anaconda3\\lib\\site-packages\\pandas\\io\\parsers.py\u001b[0m in \u001b[0;36mread_csv\u001b[1;34m(filepath_or_buffer, sep, delimiter, header, names, index_col, usecols, squeeze, prefix, mangle_dupe_cols, dtype, engine, converters, true_values, false_values, skipinitialspace, skiprows, skipfooter, nrows, na_values, keep_default_na, na_filter, verbose, skip_blank_lines, parse_dates, infer_datetime_format, keep_date_col, date_parser, dayfirst, cache_dates, iterator, chunksize, compression, thousands, decimal, lineterminator, quotechar, quoting, doublequote, escapechar, comment, encoding, dialect, error_bad_lines, warn_bad_lines, delim_whitespace, low_memory, memory_map, float_precision, storage_options)\u001b[0m\n\u001b[0;32m    608\u001b[0m     \u001b[0mkwds\u001b[0m\u001b[1;33m.\u001b[0m\u001b[0mupdate\u001b[0m\u001b[1;33m(\u001b[0m\u001b[0mkwds_defaults\u001b[0m\u001b[1;33m)\u001b[0m\u001b[1;33m\u001b[0m\u001b[1;33m\u001b[0m\u001b[0m\n\u001b[0;32m    609\u001b[0m \u001b[1;33m\u001b[0m\u001b[0m\n\u001b[1;32m--> 610\u001b[1;33m     \u001b[1;32mreturn\u001b[0m \u001b[0m_read\u001b[0m\u001b[1;33m(\u001b[0m\u001b[0mfilepath_or_buffer\u001b[0m\u001b[1;33m,\u001b[0m \u001b[0mkwds\u001b[0m\u001b[1;33m)\u001b[0m\u001b[1;33m\u001b[0m\u001b[1;33m\u001b[0m\u001b[0m\n\u001b[0m\u001b[0;32m    611\u001b[0m \u001b[1;33m\u001b[0m\u001b[0m\n\u001b[0;32m    612\u001b[0m \u001b[1;33m\u001b[0m\u001b[0m\n",
      "\u001b[1;32m~\\anaconda3\\lib\\site-packages\\pandas\\io\\parsers.py\u001b[0m in \u001b[0;36m_read\u001b[1;34m(filepath_or_buffer, kwds)\u001b[0m\n\u001b[0;32m    460\u001b[0m \u001b[1;33m\u001b[0m\u001b[0m\n\u001b[0;32m    461\u001b[0m     \u001b[1;31m# Create the parser.\u001b[0m\u001b[1;33m\u001b[0m\u001b[1;33m\u001b[0m\u001b[0m\n\u001b[1;32m--> 462\u001b[1;33m     \u001b[0mparser\u001b[0m \u001b[1;33m=\u001b[0m \u001b[0mTextFileReader\u001b[0m\u001b[1;33m(\u001b[0m\u001b[0mfilepath_or_buffer\u001b[0m\u001b[1;33m,\u001b[0m \u001b[1;33m**\u001b[0m\u001b[0mkwds\u001b[0m\u001b[1;33m)\u001b[0m\u001b[1;33m\u001b[0m\u001b[1;33m\u001b[0m\u001b[0m\n\u001b[0m\u001b[0;32m    463\u001b[0m \u001b[1;33m\u001b[0m\u001b[0m\n\u001b[0;32m    464\u001b[0m     \u001b[1;32mif\u001b[0m \u001b[0mchunksize\u001b[0m \u001b[1;32mor\u001b[0m \u001b[0miterator\u001b[0m\u001b[1;33m:\u001b[0m\u001b[1;33m\u001b[0m\u001b[1;33m\u001b[0m\u001b[0m\n",
      "\u001b[1;32m~\\anaconda3\\lib\\site-packages\\pandas\\io\\parsers.py\u001b[0m in \u001b[0;36m__init__\u001b[1;34m(self, f, engine, **kwds)\u001b[0m\n\u001b[0;32m    817\u001b[0m             \u001b[0mself\u001b[0m\u001b[1;33m.\u001b[0m\u001b[0moptions\u001b[0m\u001b[1;33m[\u001b[0m\u001b[1;34m\"has_index_names\"\u001b[0m\u001b[1;33m]\u001b[0m \u001b[1;33m=\u001b[0m \u001b[0mkwds\u001b[0m\u001b[1;33m[\u001b[0m\u001b[1;34m\"has_index_names\"\u001b[0m\u001b[1;33m]\u001b[0m\u001b[1;33m\u001b[0m\u001b[1;33m\u001b[0m\u001b[0m\n\u001b[0;32m    818\u001b[0m \u001b[1;33m\u001b[0m\u001b[0m\n\u001b[1;32m--> 819\u001b[1;33m         \u001b[0mself\u001b[0m\u001b[1;33m.\u001b[0m\u001b[0m_engine\u001b[0m \u001b[1;33m=\u001b[0m \u001b[0mself\u001b[0m\u001b[1;33m.\u001b[0m\u001b[0m_make_engine\u001b[0m\u001b[1;33m(\u001b[0m\u001b[0mself\u001b[0m\u001b[1;33m.\u001b[0m\u001b[0mengine\u001b[0m\u001b[1;33m)\u001b[0m\u001b[1;33m\u001b[0m\u001b[1;33m\u001b[0m\u001b[0m\n\u001b[0m\u001b[0;32m    820\u001b[0m \u001b[1;33m\u001b[0m\u001b[0m\n\u001b[0;32m    821\u001b[0m     \u001b[1;32mdef\u001b[0m \u001b[0mclose\u001b[0m\u001b[1;33m(\u001b[0m\u001b[0mself\u001b[0m\u001b[1;33m)\u001b[0m\u001b[1;33m:\u001b[0m\u001b[1;33m\u001b[0m\u001b[1;33m\u001b[0m\u001b[0m\n",
      "\u001b[1;32m~\\anaconda3\\lib\\site-packages\\pandas\\io\\parsers.py\u001b[0m in \u001b[0;36m_make_engine\u001b[1;34m(self, engine)\u001b[0m\n\u001b[0;32m   1048\u001b[0m             )\n\u001b[0;32m   1049\u001b[0m         \u001b[1;31m# error: Too many arguments for \"ParserBase\"\u001b[0m\u001b[1;33m\u001b[0m\u001b[1;33m\u001b[0m\u001b[0m\n\u001b[1;32m-> 1050\u001b[1;33m         \u001b[1;32mreturn\u001b[0m \u001b[0mmapping\u001b[0m\u001b[1;33m[\u001b[0m\u001b[0mengine\u001b[0m\u001b[1;33m]\u001b[0m\u001b[1;33m(\u001b[0m\u001b[0mself\u001b[0m\u001b[1;33m.\u001b[0m\u001b[0mf\u001b[0m\u001b[1;33m,\u001b[0m \u001b[1;33m**\u001b[0m\u001b[0mself\u001b[0m\u001b[1;33m.\u001b[0m\u001b[0moptions\u001b[0m\u001b[1;33m)\u001b[0m  \u001b[1;31m# type: ignore[call-arg]\u001b[0m\u001b[1;33m\u001b[0m\u001b[1;33m\u001b[0m\u001b[0m\n\u001b[0m\u001b[0;32m   1051\u001b[0m \u001b[1;33m\u001b[0m\u001b[0m\n\u001b[0;32m   1052\u001b[0m     \u001b[1;32mdef\u001b[0m \u001b[0m_failover_to_python\u001b[0m\u001b[1;33m(\u001b[0m\u001b[0mself\u001b[0m\u001b[1;33m)\u001b[0m\u001b[1;33m:\u001b[0m\u001b[1;33m\u001b[0m\u001b[1;33m\u001b[0m\u001b[0m\n",
      "\u001b[1;32m~\\anaconda3\\lib\\site-packages\\pandas\\io\\parsers.py\u001b[0m in \u001b[0;36m__init__\u001b[1;34m(self, src, **kwds)\u001b[0m\n\u001b[0;32m   1865\u001b[0m \u001b[1;33m\u001b[0m\u001b[0m\n\u001b[0;32m   1866\u001b[0m         \u001b[1;31m# open handles\u001b[0m\u001b[1;33m\u001b[0m\u001b[1;33m\u001b[0m\u001b[0m\n\u001b[1;32m-> 1867\u001b[1;33m         \u001b[0mself\u001b[0m\u001b[1;33m.\u001b[0m\u001b[0m_open_handles\u001b[0m\u001b[1;33m(\u001b[0m\u001b[0msrc\u001b[0m\u001b[1;33m,\u001b[0m \u001b[0mkwds\u001b[0m\u001b[1;33m)\u001b[0m\u001b[1;33m\u001b[0m\u001b[1;33m\u001b[0m\u001b[0m\n\u001b[0m\u001b[0;32m   1868\u001b[0m         \u001b[1;32massert\u001b[0m \u001b[0mself\u001b[0m\u001b[1;33m.\u001b[0m\u001b[0mhandles\u001b[0m \u001b[1;32mis\u001b[0m \u001b[1;32mnot\u001b[0m \u001b[1;32mNone\u001b[0m\u001b[1;33m\u001b[0m\u001b[1;33m\u001b[0m\u001b[0m\n\u001b[0;32m   1869\u001b[0m         \u001b[1;32mfor\u001b[0m \u001b[0mkey\u001b[0m \u001b[1;32min\u001b[0m \u001b[1;33m(\u001b[0m\u001b[1;34m\"storage_options\"\u001b[0m\u001b[1;33m,\u001b[0m \u001b[1;34m\"encoding\"\u001b[0m\u001b[1;33m,\u001b[0m \u001b[1;34m\"memory_map\"\u001b[0m\u001b[1;33m,\u001b[0m \u001b[1;34m\"compression\"\u001b[0m\u001b[1;33m)\u001b[0m\u001b[1;33m:\u001b[0m\u001b[1;33m\u001b[0m\u001b[1;33m\u001b[0m\u001b[0m\n",
      "\u001b[1;32m~\\anaconda3\\lib\\site-packages\\pandas\\io\\parsers.py\u001b[0m in \u001b[0;36m_open_handles\u001b[1;34m(self, src, kwds)\u001b[0m\n\u001b[0;32m   1360\u001b[0m         \u001b[0mLet\u001b[0m \u001b[0mthe\u001b[0m \u001b[0mreaders\u001b[0m \u001b[0mopen\u001b[0m \u001b[0mIOHanldes\u001b[0m \u001b[0mafter\u001b[0m \u001b[0mthey\u001b[0m \u001b[0mare\u001b[0m \u001b[0mdone\u001b[0m \u001b[1;32mwith\u001b[0m \u001b[0mtheir\u001b[0m \u001b[0mpotential\u001b[0m \u001b[0mraises\u001b[0m\u001b[1;33m.\u001b[0m\u001b[1;33m\u001b[0m\u001b[1;33m\u001b[0m\u001b[0m\n\u001b[0;32m   1361\u001b[0m         \"\"\"\n\u001b[1;32m-> 1362\u001b[1;33m         self.handles = get_handle(\n\u001b[0m\u001b[0;32m   1363\u001b[0m             \u001b[0msrc\u001b[0m\u001b[1;33m,\u001b[0m\u001b[1;33m\u001b[0m\u001b[1;33m\u001b[0m\u001b[0m\n\u001b[0;32m   1364\u001b[0m             \u001b[1;34m\"r\"\u001b[0m\u001b[1;33m,\u001b[0m\u001b[1;33m\u001b[0m\u001b[1;33m\u001b[0m\u001b[0m\n",
      "\u001b[1;32m~\\anaconda3\\lib\\site-packages\\pandas\\io\\common.py\u001b[0m in \u001b[0;36mget_handle\u001b[1;34m(path_or_buf, mode, encoding, compression, memory_map, is_text, errors, storage_options)\u001b[0m\n\u001b[0;32m    620\u001b[0m                     \u001b[1;32mraise\u001b[0m \u001b[0mValueError\u001b[0m\u001b[1;33m(\u001b[0m\u001b[1;34mf\"Zero files found in ZIP file {path_or_buf}\"\u001b[0m\u001b[1;33m)\u001b[0m\u001b[1;33m\u001b[0m\u001b[1;33m\u001b[0m\u001b[0m\n\u001b[0;32m    621\u001b[0m                 \u001b[1;32melse\u001b[0m\u001b[1;33m:\u001b[0m\u001b[1;33m\u001b[0m\u001b[1;33m\u001b[0m\u001b[0m\n\u001b[1;32m--> 622\u001b[1;33m                     raise ValueError(\n\u001b[0m\u001b[0;32m    623\u001b[0m                         \u001b[1;34m\"Multiple files found in ZIP file. \"\u001b[0m\u001b[1;33m\u001b[0m\u001b[1;33m\u001b[0m\u001b[0m\n\u001b[0;32m    624\u001b[0m                         \u001b[1;34mf\"Only one file per ZIP: {zip_names}\"\u001b[0m\u001b[1;33m\u001b[0m\u001b[1;33m\u001b[0m\u001b[0m\n",
      "\u001b[1;31mValueError\u001b[0m: Multiple files found in ZIP file. Only one file per ZIP: ['REGI ┐¬╗τ└√ ╡Ñ└╠┼═ (1).csv', 'REGI ┐¬╗τ└√ ╡Ñ└╠┼═ (2).csv', 'REGI ┐¬╗τ└√ ╡Ñ└╠┼═ (3).csv', 'REGI ┐¬╗τ└√ ╡Ñ└╠┼═ (4).csv', 'REGI ┐¬╗τ└√ ╡Ñ└╠┼═ (5).csv', 'REGI ┐¬╗τ└√ ╡Ñ└╠┼═ (6).csv', 'REGI ┐¬╗τ└√ ╡Ñ└╠┼═ (7).csv', 'REGI ┐¬╗τ└√ ╡Ñ└╠┼═ (8).csv']"
     ]
    }
   ],
   "source": [
    "# REGI 데이터 가져오기\n",
    "datas = os.listdir('data/REGI')\n",
    "li = []\n",
    "for d in datas:\n",
    "    df = pd.read_csv(f\"data/REGI/{d}\")\n",
    "    li.append(df)"
   ]
  },
  {
   "cell_type": "code",
   "execution_count": 17,
   "id": "c40f9c31",
   "metadata": {},
   "outputs": [],
   "source": [
    "# 합병, 저장\n",
    "regi = pd.concat(li)\n",
    "regi.to_csv('./prepro_data/REGI_data.csv')"
   ]
  },
  {
   "cell_type": "code",
   "execution_count": null,
   "id": "4bbd6c43",
   "metadata": {},
   "outputs": [],
   "source": []
  },
  {
   "cell_type": "code",
   "execution_count": 30,
   "id": "06868f9b",
   "metadata": {},
   "outputs": [],
   "source": [
    "import requests\n",
    "from bs4 import BeautifulSoup\n",
    "from html_table_parser import parser_functions"
   ]
  },
  {
   "cell_type": "code",
   "execution_count": 35,
   "id": "76071baf",
   "metadata": {},
   "outputs": [],
   "source": [
    "# 재무제표 데이터 크롤링\n",
    "url = 'https://www.choicestock.co.kr/search/invest/TSLA/MRQ'\n",
    "res = requests.get(url)\n",
    "soup = BeautifulSoup(res.text, 'html.parser')\n",
    "datas = soup.select('table.tableRanking')"
   ]
  },
  {
   "cell_type": "code",
   "execution_count": 36,
   "id": "850a8ea3",
   "metadata": {},
   "outputs": [],
   "source": [
    "# 데이터 프레임 생성\n",
    "li = []\n",
    "for data in datas:\n",
    "    table = parser_functions.make2d(data)\n",
    "    df = pd.DataFrame(data=table[1:], columns=table[0])\n",
    "    li.append(df)"
   ]
  },
  {
   "cell_type": "code",
   "execution_count": 37,
   "id": "7f5bb7dd",
   "metadata": {},
   "outputs": [],
   "source": [
    "# 합병\n",
    "df = pd.concat(li)"
   ]
  },
  {
   "cell_type": "code",
   "execution_count": 38,
   "id": "c835dc44",
   "metadata": {},
   "outputs": [],
   "source": [
    "# 저장\n",
    "df.to_csv('data/fn_statement.csv')"
   ]
  },
  {
   "cell_type": "code",
   "execution_count": null,
   "id": "bfc97fc2",
   "metadata": {},
   "outputs": [],
   "source": []
  },
  {
   "cell_type": "code",
   "execution_count": 39,
   "id": "ddda0001",
   "metadata": {},
   "outputs": [],
   "source": [
    "# 재무제표 데이터 크롤링2\n",
    "url = 'https://www.choicestock.co.kr/search/invest/TSLA'\n",
    "res = requests.get(url)\n",
    "soup = BeautifulSoup(res.text, 'html.parser')\n",
    "datas = soup.select('table')"
   ]
  },
  {
   "cell_type": "code",
   "execution_count": 40,
   "id": "a1fda45c",
   "metadata": {},
   "outputs": [],
   "source": [
    "# 테이블 데이터 프레임으로 생성\n",
    "li = []\n",
    "for data in datas:\n",
    "    table = parser_functions.make2d(data)\n",
    "    df = pd.DataFrame(data=table[1:], columns=table[0])\n",
    "    li.append(df)"
   ]
  },
  {
   "cell_type": "code",
   "execution_count": 41,
   "id": "eda15cb8",
   "metadata": {},
   "outputs": [],
   "source": [
    "# 합병\n",
    "df = pd.concat(li)"
   ]
  },
  {
   "cell_type": "code",
   "execution_count": 42,
   "id": "7d8bdc00",
   "metadata": {},
   "outputs": [],
   "source": [
    "# 전처리\n",
    "df = df.iloc[:12, :].drop(['초이스스탁US 프리미엄', '프리미엄', '무료'], axis=1).set_index('').T"
   ]
  },
  {
   "cell_type": "code",
   "execution_count": 43,
   "id": "c4fec08c",
   "metadata": {},
   "outputs": [],
   "source": [
    "# 저장\n",
    "df.to_csv('data/fn_statment2.csv')"
   ]
  },
  {
   "cell_type": "code",
   "execution_count": null,
   "id": "2522fe24",
   "metadata": {},
   "outputs": [],
   "source": []
  },
  {
   "cell_type": "code",
   "execution_count": null,
   "id": "ce99e315",
   "metadata": {},
   "outputs": [],
   "source": []
  },
  {
   "cell_type": "code",
   "execution_count": 44,
   "id": "ce8d9c2f",
   "metadata": {},
   "outputs": [],
   "source": [
    "# Date 전처리 함수\n",
    "def change_date(x):\n",
    "    ret = []\n",
    "    for da in x.split():\n",
    "        ret.append(da[:-1])\n",
    "    return '.'.join(ret)"
   ]
  },
  {
   "cell_type": "code",
   "execution_count": 45,
   "id": "7ebe293a",
   "metadata": {},
   "outputs": [],
   "source": [
    "# Volumn 전치리 함수\n",
    "def m_to_k(x):\n",
    "    if x[-1] == 'M':\n",
    "        return float(x[:-1]) * 1000\n",
    "    elif x[-1] == 'B':\n",
    "        return float(x[:-1]) * 1000000\n",
    "    elif x[-1] == 'K':\n",
    "        return float(x[:-1])\n",
    "    else:\n",
    "        return np.nan"
   ]
  },
  {
   "cell_type": "code",
   "execution_count": null,
   "id": "f11e6eb4",
   "metadata": {},
   "outputs": [],
   "source": []
  },
  {
   "cell_type": "code",
   "execution_count": 46,
   "id": "636e6479",
   "metadata": {},
   "outputs": [],
   "source": [
    "# 알루미늄 전처리\n",
    "df1 = pd.read_csv('data/알루미늄 내역.csv')\n",
    "df1.drop(['오픈', '고가', '저가'], axis=1, inplace=True)\n",
    "df1.columns = ['date', 'alu_price', 'alu_vol', 'alu_change']"
   ]
  },
  {
   "cell_type": "code",
   "execution_count": 47,
   "id": "fe7c8bee",
   "metadata": {},
   "outputs": [],
   "source": [
    "df1.date = df1.date.apply(change_date)"
   ]
  },
  {
   "cell_type": "code",
   "execution_count": 48,
   "id": "74787799",
   "metadata": {},
   "outputs": [],
   "source": [
    "df1.date = pd.to_datetime(df1.date)"
   ]
  },
  {
   "cell_type": "code",
   "execution_count": 49,
   "id": "c54573ef",
   "metadata": {},
   "outputs": [],
   "source": [
    "df1['alu_price'] = df1['alu_price'].apply(lambda x: x.replace(',', ''))"
   ]
  },
  {
   "cell_type": "code",
   "execution_count": 50,
   "id": "0cbf277d",
   "metadata": {},
   "outputs": [],
   "source": [
    "df1['alu_price'] = pd.to_numeric(df1['alu_price'])"
   ]
  },
  {
   "cell_type": "code",
   "execution_count": 51,
   "id": "3718a6e7",
   "metadata": {},
   "outputs": [],
   "source": [
    "df1['alu_vol'] = df1['alu_vol'].apply(m_to_k)"
   ]
  },
  {
   "cell_type": "code",
   "execution_count": 52,
   "id": "841180f6",
   "metadata": {},
   "outputs": [],
   "source": [
    "df1['alu_change'] = df1['alu_change'].apply(lambda x: float(x.replace('%', '')))"
   ]
  },
  {
   "cell_type": "code",
   "execution_count": 53,
   "id": "780fe96c",
   "metadata": {},
   "outputs": [
    {
     "name": "stdout",
     "output_type": "stream",
     "text": [
      "<class 'pandas.core.frame.DataFrame'>\n",
      "RangeIndex: 1815 entries, 0 to 1814\n",
      "Data columns (total 4 columns):\n",
      " #   Column      Non-Null Count  Dtype         \n",
      "---  ------      --------------  -----         \n",
      " 0   date        1815 non-null   datetime64[ns]\n",
      " 1   alu_price   1815 non-null   float64       \n",
      " 2   alu_vol     1814 non-null   float64       \n",
      " 3   alu_change  1815 non-null   float64       \n",
      "dtypes: datetime64[ns](1), float64(3)\n",
      "memory usage: 56.8 KB\n"
     ]
    }
   ],
   "source": [
    "df1.info()"
   ]
  },
  {
   "cell_type": "code",
   "execution_count": null,
   "id": "e3b0d370",
   "metadata": {},
   "outputs": [],
   "source": []
  },
  {
   "cell_type": "code",
   "execution_count": null,
   "id": "354f4648",
   "metadata": {},
   "outputs": [],
   "source": []
  },
  {
   "cell_type": "code",
   "execution_count": 54,
   "id": "1455c62f",
   "metadata": {},
   "outputs": [],
   "source": [
    "# 구리 데이터 전처리\n",
    "df2 = pd.read_csv('data/영국 구리 선물 내역.csv')\n",
    "df2.drop(['오픈', '고가', '저가', '거래량'], axis=1, inplace=True)\n",
    "df2.columns = ['date', 'cu_price', 'cu_change']"
   ]
  },
  {
   "cell_type": "code",
   "execution_count": 55,
   "id": "42d03757",
   "metadata": {},
   "outputs": [],
   "source": [
    "df2.date = df2.date.apply(change_date)"
   ]
  },
  {
   "cell_type": "code",
   "execution_count": 56,
   "id": "77d8d3a6",
   "metadata": {},
   "outputs": [],
   "source": [
    "df2.date = pd.to_datetime(df2.date)"
   ]
  },
  {
   "cell_type": "code",
   "execution_count": 57,
   "id": "fbfe1eb3",
   "metadata": {},
   "outputs": [],
   "source": [
    "df2.cu_price = df2.cu_price.apply(lambda x: float(x.replace(',', '')))"
   ]
  },
  {
   "cell_type": "code",
   "execution_count": 58,
   "id": "3acfb5af",
   "metadata": {},
   "outputs": [],
   "source": [
    "df2['cu_change'] = df2['cu_change'].apply(lambda x: float(x.replace('%', '')))"
   ]
  },
  {
   "cell_type": "code",
   "execution_count": null,
   "id": "a91913fc",
   "metadata": {},
   "outputs": [],
   "source": []
  },
  {
   "cell_type": "code",
   "execution_count": 59,
   "id": "0e36be0b",
   "metadata": {},
   "outputs": [],
   "source": [
    "# 알루미늄, 구리 데이터 합병\n",
    "df_mg = pd.merge(df1, df2, on='date', how='outer')"
   ]
  },
  {
   "cell_type": "code",
   "execution_count": null,
   "id": "e540b765",
   "metadata": {},
   "outputs": [],
   "source": []
  },
  {
   "cell_type": "code",
   "execution_count": 60,
   "id": "c43f14a7",
   "metadata": {},
   "outputs": [],
   "source": [
    "# REGI 데이터 전처리\n",
    "df3 = pd.read_csv('prepro_data/REGI_data.csv')\n",
    "df3.drop(['Unnamed: 0', '오픈', '고가', '저가'], axis=1, inplace=True)\n",
    "df3.columns = ['date', 'REGI_price', 'REGI_vol', 'REGI_change']"
   ]
  },
  {
   "cell_type": "code",
   "execution_count": 61,
   "id": "4fde923f",
   "metadata": {},
   "outputs": [],
   "source": [
    "df3.date = df3.date.apply(change_date)"
   ]
  },
  {
   "cell_type": "code",
   "execution_count": 62,
   "id": "7e4f455b",
   "metadata": {},
   "outputs": [],
   "source": [
    "df3.date = pd.to_datetime(df3.date)"
   ]
  },
  {
   "cell_type": "code",
   "execution_count": 63,
   "id": "61e57d92",
   "metadata": {},
   "outputs": [],
   "source": [
    "df3.REGI_vol = df3.REGI_vol.apply(m_to_k)"
   ]
  },
  {
   "cell_type": "code",
   "execution_count": 64,
   "id": "3df31ac6",
   "metadata": {},
   "outputs": [],
   "source": [
    "df3['REGI_change'] = df3['REGI_change'].apply(lambda x: float(x.replace('%', '')))"
   ]
  },
  {
   "cell_type": "code",
   "execution_count": 65,
   "id": "4b795396",
   "metadata": {},
   "outputs": [],
   "source": [
    "# REGI 합병\n",
    "df_mg1 = pd.merge(df_mg, df3, on='date', how='outer')"
   ]
  },
  {
   "cell_type": "code",
   "execution_count": 66,
   "id": "d8c2e1c8",
   "metadata": {},
   "outputs": [],
   "source": [
    "# 합병한 데이터프레임 저장\n",
    "df_mg1.to_csv('./prepro_data/alu_cu_REGI_df.csv')"
   ]
  },
  {
   "cell_type": "code",
   "execution_count": null,
   "id": "b9fe8d2b",
   "metadata": {},
   "outputs": [],
   "source": []
  },
  {
   "cell_type": "code",
   "execution_count": 67,
   "id": "841184a8",
   "metadata": {},
   "outputs": [],
   "source": [
    "# 리튬 전처리 및 저장"
   ]
  },
  {
   "cell_type": "code",
   "execution_count": 68,
   "id": "6ff08828",
   "metadata": {},
   "outputs": [],
   "source": [
    "df = pd.read_excel('data/리튬+가격2022-03-08.xls')"
   ]
  },
  {
   "cell_type": "code",
   "execution_count": 69,
   "id": "e50715c5",
   "metadata": {},
   "outputs": [],
   "source": [
    "df.drop(['등락가', '등락비율', '재고량'], axis=1, inplace=True)"
   ]
  },
  {
   "cell_type": "code",
   "execution_count": 70,
   "id": "b8698b9a",
   "metadata": {},
   "outputs": [],
   "source": [
    "df.columns = ['date', 'li_price']"
   ]
  },
  {
   "cell_type": "code",
   "execution_count": 71,
   "id": "aaa08b46",
   "metadata": {},
   "outputs": [],
   "source": [
    "df.date = pd.to_datetime(df.date)"
   ]
  },
  {
   "cell_type": "code",
   "execution_count": 72,
   "id": "6fb5c61c",
   "metadata": {},
   "outputs": [],
   "source": [
    "df.to_csv('prepro_data/data_li.csv')"
   ]
  },
  {
   "cell_type": "code",
   "execution_count": null,
   "id": "d0541680",
   "metadata": {},
   "outputs": [],
   "source": []
  },
  {
   "cell_type": "code",
   "execution_count": 73,
   "id": "855f3c09",
   "metadata": {},
   "outputs": [],
   "source": [
    "df_total = pd.read_csv('prepro_data/테슬라 총합.csv', index_col=0)"
   ]
  },
  {
   "cell_type": "code",
   "execution_count": 74,
   "id": "75601b55",
   "metadata": {},
   "outputs": [],
   "source": [
    "datas = os.listdir('data/구글검색량')"
   ]
  },
  {
   "cell_type": "code",
   "execution_count": 75,
   "id": "15c216de",
   "metadata": {},
   "outputs": [],
   "source": [
    "li = []\n",
    "for data in datas:\n",
    "    df = pd.read_csv('data/구글검색량/{}'.format(data))\n",
    "    li.append(df)\n",
    "df_con = pd.concat(li)"
   ]
  },
  {
   "cell_type": "code",
   "execution_count": 76,
   "id": "325f98fe",
   "metadata": {
    "scrolled": true
   },
   "outputs": [],
   "source": [
    "df_con = df_con.reset_index()"
   ]
  },
  {
   "cell_type": "code",
   "execution_count": 77,
   "id": "aa85ef9d",
   "metadata": {},
   "outputs": [],
   "source": [
    "df_con = df_con.rename(columns={'index' : 'date', '카테고리: 모든 카테고리' : '검색량'})"
   ]
  },
  {
   "cell_type": "code",
   "execution_count": 78,
   "id": "f9d05105",
   "metadata": {},
   "outputs": [],
   "source": [
    "df_con.검색량 = df_con.검색량.apply(lambda x: x if x.isnumeric() else np.nan)"
   ]
  },
  {
   "cell_type": "code",
   "execution_count": 79,
   "id": "1c098e43",
   "metadata": {},
   "outputs": [],
   "source": [
    "df_con.dropna(inplace=True)"
   ]
  },
  {
   "cell_type": "code",
   "execution_count": 80,
   "id": "126b2a6d",
   "metadata": {},
   "outputs": [
    {
     "data": {
      "text/html": [
       "<div>\n",
       "<style scoped>\n",
       "    .dataframe tbody tr th:only-of-type {\n",
       "        vertical-align: middle;\n",
       "    }\n",
       "\n",
       "    .dataframe tbody tr th {\n",
       "        vertical-align: top;\n",
       "    }\n",
       "\n",
       "    .dataframe thead th {\n",
       "        text-align: right;\n",
       "    }\n",
       "</style>\n",
       "<table border=\"1\" class=\"dataframe\">\n",
       "  <thead>\n",
       "    <tr style=\"text-align: right;\">\n",
       "      <th></th>\n",
       "      <th>date</th>\n",
       "      <th>검색량</th>\n",
       "    </tr>\n",
       "  </thead>\n",
       "  <tbody>\n",
       "    <tr>\n",
       "      <th>1</th>\n",
       "      <td>2021-07-01</td>\n",
       "      <td>44</td>\n",
       "    </tr>\n",
       "    <tr>\n",
       "      <th>2</th>\n",
       "      <td>2021-07-02</td>\n",
       "      <td>45</td>\n",
       "    </tr>\n",
       "    <tr>\n",
       "      <th>3</th>\n",
       "      <td>2021-07-03</td>\n",
       "      <td>41</td>\n",
       "    </tr>\n",
       "    <tr>\n",
       "      <th>4</th>\n",
       "      <td>2021-07-04</td>\n",
       "      <td>40</td>\n",
       "    </tr>\n",
       "    <tr>\n",
       "      <th>5</th>\n",
       "      <td>2021-07-05</td>\n",
       "      <td>38</td>\n",
       "    </tr>\n",
       "    <tr>\n",
       "      <th>...</th>\n",
       "      <td>...</td>\n",
       "      <td>...</td>\n",
       "    </tr>\n",
       "    <tr>\n",
       "      <th>2665</th>\n",
       "      <td>2022-03-04</td>\n",
       "      <td>76</td>\n",
       "    </tr>\n",
       "    <tr>\n",
       "      <th>2666</th>\n",
       "      <td>2022-03-05</td>\n",
       "      <td>68</td>\n",
       "    </tr>\n",
       "    <tr>\n",
       "      <th>2667</th>\n",
       "      <td>2022-03-06</td>\n",
       "      <td>67</td>\n",
       "    </tr>\n",
       "    <tr>\n",
       "      <th>2668</th>\n",
       "      <td>2022-03-07</td>\n",
       "      <td>82</td>\n",
       "    </tr>\n",
       "    <tr>\n",
       "      <th>2669</th>\n",
       "      <td>2022-03-08</td>\n",
       "      <td>0</td>\n",
       "    </tr>\n",
       "  </tbody>\n",
       "</table>\n",
       "<p>2655 rows × 2 columns</p>\n",
       "</div>"
      ],
      "text/plain": [
       "            date 검색량\n",
       "1     2021-07-01  44\n",
       "2     2021-07-02  45\n",
       "3     2021-07-03  41\n",
       "4     2021-07-04  40\n",
       "5     2021-07-05  38\n",
       "...          ...  ..\n",
       "2665  2022-03-04  76\n",
       "2666  2022-03-05  68\n",
       "2667  2022-03-06  67\n",
       "2668  2022-03-07  82\n",
       "2669  2022-03-08   0\n",
       "\n",
       "[2655 rows x 2 columns]"
      ]
     },
     "execution_count": 80,
     "metadata": {},
     "output_type": "execute_result"
    }
   ],
   "source": [
    "df_con"
   ]
  },
  {
   "cell_type": "code",
   "execution_count": 81,
   "id": "f7ac68fc",
   "metadata": {},
   "outputs": [],
   "source": [
    "df_total = pd.merge(df_total, df_con, on='date', how='left')"
   ]
  },
  {
   "cell_type": "code",
   "execution_count": 82,
   "id": "0b6cbe54",
   "metadata": {},
   "outputs": [],
   "source": [
    "df_total.to_csv('prepro_data/검색량추가.csv')"
   ]
  },
  {
   "cell_type": "code",
   "execution_count": null,
   "id": "5635f2fc",
   "metadata": {},
   "outputs": [],
   "source": []
  },
  {
   "cell_type": "code",
   "execution_count": 83,
   "id": "0b0ed389",
   "metadata": {},
   "outputs": [],
   "source": [
    "df = pd.read_csv('prepro_data/검색량추가.csv', index_col=0)"
   ]
  },
  {
   "cell_type": "code",
   "execution_count": 84,
   "id": "cd7b3e12",
   "metadata": {
    "scrolled": true
   },
   "outputs": [],
   "source": [
    "df['updown'] = df.tesla_volatility.apply(lambda x: 1 if x >= 0 else 0)"
   ]
  },
  {
   "cell_type": "code",
   "execution_count": 85,
   "id": "60dcfc0d",
   "metadata": {},
   "outputs": [],
   "source": [
    "df.to_csv('data/최종데이터.csv')"
   ]
  },
  {
   "cell_type": "code",
   "execution_count": 86,
   "id": "b659d006",
   "metadata": {},
   "outputs": [],
   "source": [
    "df = pd.read_csv('data/최종데이터.csv', index_col=0)"
   ]
  },
  {
   "cell_type": "code",
   "execution_count": 87,
   "id": "a8292b76",
   "metadata": {},
   "outputs": [],
   "source": [
    "df_fn = pd.read_csv('data/재무제표 2015.csv', index_col=0)"
   ]
  },
  {
   "cell_type": "code",
   "execution_count": 88,
   "id": "d5fa7406",
   "metadata": {},
   "outputs": [
    {
     "data": {
      "text/html": [
       "<div>\n",
       "<style scoped>\n",
       "    .dataframe tbody tr th:only-of-type {\n",
       "        vertical-align: middle;\n",
       "    }\n",
       "\n",
       "    .dataframe tbody tr th {\n",
       "        vertical-align: top;\n",
       "    }\n",
       "\n",
       "    .dataframe thead th {\n",
       "        text-align: right;\n",
       "    }\n",
       "</style>\n",
       "<table border=\"1\" class=\"dataframe\">\n",
       "  <thead>\n",
       "    <tr style=\"text-align: right;\">\n",
       "      <th></th>\n",
       "      <th>date</th>\n",
       "      <th>tesla</th>\n",
       "      <th>tesla_거래량</th>\n",
       "      <th>tesla_volatility</th>\n",
       "      <th>elec_fee</th>\n",
       "      <th>oli_price</th>\n",
       "      <th>oli_price_volatility</th>\n",
       "      <th>carbon_credits</th>\n",
       "      <th>carbon_credits_volatility</th>\n",
       "      <th>EVE종가</th>\n",
       "      <th>...</th>\n",
       "      <th>alu_price</th>\n",
       "      <th>alu_vol</th>\n",
       "      <th>alu_change</th>\n",
       "      <th>cu_price</th>\n",
       "      <th>cu_change</th>\n",
       "      <th>REGI_price</th>\n",
       "      <th>REGI_vol</th>\n",
       "      <th>REGI_change</th>\n",
       "      <th>검색량</th>\n",
       "      <th>updown</th>\n",
       "    </tr>\n",
       "  </thead>\n",
       "  <tbody>\n",
       "    <tr>\n",
       "      <th>0</th>\n",
       "      <td>2015-01-02</td>\n",
       "      <td>43.86</td>\n",
       "      <td>23820.0</td>\n",
       "      <td>-1.39</td>\n",
       "      <td>6.67</td>\n",
       "      <td>52.69</td>\n",
       "      <td>-3.44</td>\n",
       "      <td>7.01</td>\n",
       "      <td>-3.31</td>\n",
       "      <td>13.38</td>\n",
       "      <td>...</td>\n",
       "      <td>1828.00</td>\n",
       "      <td>31.38</td>\n",
       "      <td>-1.12</td>\n",
       "      <td>6250.25</td>\n",
       "      <td>-0.55</td>\n",
       "      <td>9.79</td>\n",
       "      <td>436.60</td>\n",
       "      <td>0.82</td>\n",
       "      <td>22</td>\n",
       "      <td>0</td>\n",
       "    </tr>\n",
       "    <tr>\n",
       "      <th>1</th>\n",
       "      <td>2015-01-05</td>\n",
       "      <td>42.02</td>\n",
       "      <td>26840.0</td>\n",
       "      <td>-4.20</td>\n",
       "      <td>6.67</td>\n",
       "      <td>50.04</td>\n",
       "      <td>-5.03</td>\n",
       "      <td>6.90</td>\n",
       "      <td>-1.57</td>\n",
       "      <td>13.38</td>\n",
       "      <td>...</td>\n",
       "      <td>1812.25</td>\n",
       "      <td>43.25</td>\n",
       "      <td>-0.86</td>\n",
       "      <td>6142.00</td>\n",
       "      <td>-1.73</td>\n",
       "      <td>9.55</td>\n",
       "      <td>481.67</td>\n",
       "      <td>-2.45</td>\n",
       "      <td>19</td>\n",
       "      <td>0</td>\n",
       "    </tr>\n",
       "    <tr>\n",
       "      <th>2</th>\n",
       "      <td>2015-01-06</td>\n",
       "      <td>42.26</td>\n",
       "      <td>31310.0</td>\n",
       "      <td>0.57</td>\n",
       "      <td>6.67</td>\n",
       "      <td>47.93</td>\n",
       "      <td>-4.22</td>\n",
       "      <td>6.77</td>\n",
       "      <td>-1.88</td>\n",
       "      <td>13.89</td>\n",
       "      <td>...</td>\n",
       "      <td>1780.25</td>\n",
       "      <td>56.01</td>\n",
       "      <td>-1.77</td>\n",
       "      <td>6131.00</td>\n",
       "      <td>-0.18</td>\n",
       "      <td>9.12</td>\n",
       "      <td>534.76</td>\n",
       "      <td>-4.50</td>\n",
       "      <td>23</td>\n",
       "      <td>1</td>\n",
       "    </tr>\n",
       "  </tbody>\n",
       "</table>\n",
       "<p>3 rows × 47 columns</p>\n",
       "</div>"
      ],
      "text/plain": [
       "         date  tesla  tesla_거래량  tesla_volatility  elec_fee  oli_price  \\\n",
       "0  2015-01-02  43.86    23820.0             -1.39      6.67      52.69   \n",
       "1  2015-01-05  42.02    26840.0             -4.20      6.67      50.04   \n",
       "2  2015-01-06  42.26    31310.0              0.57      6.67      47.93   \n",
       "\n",
       "   oli_price_volatility  carbon_credits  carbon_credits_volatility  EVE종가  \\\n",
       "0                 -3.44            7.01                      -3.31  13.38   \n",
       "1                 -5.03            6.90                      -1.57  13.38   \n",
       "2                 -4.22            6.77                      -1.88  13.89   \n",
       "\n",
       "   ...  alu_price  alu_vol  alu_change  cu_price  cu_change  REGI_price  \\\n",
       "0  ...    1828.00    31.38       -1.12   6250.25      -0.55        9.79   \n",
       "1  ...    1812.25    43.25       -0.86   6142.00      -1.73        9.55   \n",
       "2  ...    1780.25    56.01       -1.77   6131.00      -0.18        9.12   \n",
       "\n",
       "   REGI_vol  REGI_change  검색량  updown  \n",
       "0    436.60         0.82   22       0  \n",
       "1    481.67        -2.45   19       0  \n",
       "2    534.76        -4.50   23       1  \n",
       "\n",
       "[3 rows x 47 columns]"
      ]
     },
     "execution_count": 88,
     "metadata": {},
     "output_type": "execute_result"
    }
   ],
   "source": [
    "df.head(3)"
   ]
  },
  {
   "cell_type": "code",
   "execution_count": 89,
   "id": "89588d48",
   "metadata": {},
   "outputs": [
    {
     "data": {
      "text/html": [
       "<div>\n",
       "<style scoped>\n",
       "    .dataframe tbody tr th:only-of-type {\n",
       "        vertical-align: middle;\n",
       "    }\n",
       "\n",
       "    .dataframe tbody tr th {\n",
       "        vertical-align: top;\n",
       "    }\n",
       "\n",
       "    .dataframe thead th {\n",
       "        text-align: right;\n",
       "    }\n",
       "</style>\n",
       "<table border=\"1\" class=\"dataframe\">\n",
       "  <thead>\n",
       "    <tr style=\"text-align: right;\">\n",
       "      <th></th>\n",
       "      <th>date</th>\n",
       "      <th>매출액</th>\n",
       "      <th>매출원가</th>\n",
       "      <th>매출총이익</th>\n",
       "      <th>영업이익</th>\n",
       "      <th>순이익</th>\n",
       "      <th>자산총계</th>\n",
       "      <th>매출총이익률</th>\n",
       "      <th>영업이익률</th>\n",
       "      <th>주당순이익EPS(달러)</th>\n",
       "      <th>주가수익배수PER(배)</th>\n",
       "      <th>총자산이익률ROA(%)</th>\n",
       "    </tr>\n",
       "  </thead>\n",
       "  <tbody>\n",
       "    <tr>\n",
       "      <th>0</th>\n",
       "      <td>2015-01-02</td>\n",
       "      <td>NaN</td>\n",
       "      <td>NaN</td>\n",
       "      <td>NaN</td>\n",
       "      <td>NaN</td>\n",
       "      <td>NaN</td>\n",
       "      <td>NaN</td>\n",
       "      <td>NaN</td>\n",
       "      <td>NaN</td>\n",
       "      <td>NaN</td>\n",
       "      <td>NaN</td>\n",
       "      <td>NaN</td>\n",
       "    </tr>\n",
       "    <tr>\n",
       "      <th>1</th>\n",
       "      <td>2015-01-05</td>\n",
       "      <td>NaN</td>\n",
       "      <td>NaN</td>\n",
       "      <td>NaN</td>\n",
       "      <td>NaN</td>\n",
       "      <td>NaN</td>\n",
       "      <td>NaN</td>\n",
       "      <td>NaN</td>\n",
       "      <td>NaN</td>\n",
       "      <td>NaN</td>\n",
       "      <td>NaN</td>\n",
       "      <td>NaN</td>\n",
       "    </tr>\n",
       "    <tr>\n",
       "      <th>2</th>\n",
       "      <td>2015-01-06</td>\n",
       "      <td>NaN</td>\n",
       "      <td>NaN</td>\n",
       "      <td>NaN</td>\n",
       "      <td>NaN</td>\n",
       "      <td>NaN</td>\n",
       "      <td>NaN</td>\n",
       "      <td>NaN</td>\n",
       "      <td>NaN</td>\n",
       "      <td>NaN</td>\n",
       "      <td>NaN</td>\n",
       "      <td>NaN</td>\n",
       "    </tr>\n",
       "  </tbody>\n",
       "</table>\n",
       "</div>"
      ],
      "text/plain": [
       "         date  매출액  매출원가  매출총이익  영업이익  순이익  자산총계  매출총이익률  영업이익률  주당순이익EPS(달러)  \\\n",
       "0  2015-01-02  NaN   NaN    NaN   NaN  NaN   NaN     NaN    NaN           NaN   \n",
       "1  2015-01-05  NaN   NaN    NaN   NaN  NaN   NaN     NaN    NaN           NaN   \n",
       "2  2015-01-06  NaN   NaN    NaN   NaN  NaN   NaN     NaN    NaN           NaN   \n",
       "\n",
       "   주가수익배수PER(배)  총자산이익률ROA(%)  \n",
       "0           NaN           NaN  \n",
       "1           NaN           NaN  \n",
       "2           NaN           NaN  "
      ]
     },
     "execution_count": 89,
     "metadata": {},
     "output_type": "execute_result"
    }
   ],
   "source": [
    "df_fn.head(3)"
   ]
  },
  {
   "cell_type": "code",
   "execution_count": 90,
   "id": "e7e50ebc",
   "metadata": {},
   "outputs": [],
   "source": [
    "df_fn.dropna(inplace=True)"
   ]
  },
  {
   "cell_type": "code",
   "execution_count": null,
   "id": "d4f45f6f",
   "metadata": {},
   "outputs": [],
   "source": []
  },
  {
   "cell_type": "code",
   "execution_count": 91,
   "id": "b65ee959",
   "metadata": {},
   "outputs": [],
   "source": [
    "df_total = pd.merge(df, df_fn, on='date', how='right')"
   ]
  },
  {
   "cell_type": "code",
   "execution_count": 92,
   "id": "f1ced42d",
   "metadata": {},
   "outputs": [],
   "source": [
    "df_total.to_csv('prepro_data/최종+재무제표.csv')"
   ]
  },
  {
   "cell_type": "code",
   "execution_count": null,
   "id": "5de0544a",
   "metadata": {},
   "outputs": [],
   "source": []
  },
  {
   "cell_type": "code",
   "execution_count": 93,
   "id": "5c9ccd4e",
   "metadata": {},
   "outputs": [],
   "source": [
    "# 구글 검색량 추가"
   ]
  },
  {
   "cell_type": "code",
   "execution_count": 94,
   "id": "d25d62ff",
   "metadata": {},
   "outputs": [],
   "source": [
    "df_total = pd.read_csv('prepro_data/테슬라 총합.csv', index_col=0)"
   ]
  },
  {
   "cell_type": "code",
   "execution_count": 95,
   "id": "bb5d9ec7",
   "metadata": {},
   "outputs": [],
   "source": [
    "datas = os.listdir('data/구글검색량')"
   ]
  },
  {
   "cell_type": "code",
   "execution_count": 96,
   "id": "c2113140",
   "metadata": {},
   "outputs": [
    {
     "data": {
      "text/plain": [
       "['multiTimeline (1).csv',\n",
       " 'multiTimeline (10).csv',\n",
       " 'multiTimeline (11).csv',\n",
       " 'multiTimeline (12).csv',\n",
       " 'multiTimeline (13).csv',\n",
       " 'multiTimeline (14).csv',\n",
       " 'multiTimeline (2).csv',\n",
       " 'multiTimeline (3).csv',\n",
       " 'multiTimeline (4).csv',\n",
       " 'multiTimeline (5).csv',\n",
       " 'multiTimeline (6).csv',\n",
       " 'multiTimeline (7).csv',\n",
       " 'multiTimeline (8).csv',\n",
       " 'multiTimeline (9).csv',\n",
       " 'multiTimeline.csv']"
      ]
     },
     "execution_count": 96,
     "metadata": {},
     "output_type": "execute_result"
    }
   ],
   "source": [
    "datas"
   ]
  },
  {
   "cell_type": "code",
   "execution_count": 97,
   "id": "895db373",
   "metadata": {},
   "outputs": [],
   "source": [
    "li = []\n",
    "for data in datas:\n",
    "    df = pd.read_csv('data/구글검색량/{}'.format(data))\n",
    "    li.append(df)\n",
    "df_con = pd.concat(li)"
   ]
  },
  {
   "cell_type": "code",
   "execution_count": 98,
   "id": "cf435e93",
   "metadata": {
    "scrolled": true
   },
   "outputs": [],
   "source": [
    "df_con = df_con.reset_index()"
   ]
  },
  {
   "cell_type": "code",
   "execution_count": 99,
   "id": "6a2ab560",
   "metadata": {},
   "outputs": [],
   "source": [
    "df_con = df_con.rename(columns={'index' : 'date', '카테고리: 모든 카테고리' : '검색량'})"
   ]
  },
  {
   "cell_type": "code",
   "execution_count": 100,
   "id": "f9d05105",
   "metadata": {},
   "outputs": [],
   "source": [
    "df_con.검색량 = df_con.검색량.apply(lambda x: x if x.isnumeric() else np.nan)"
   ]
  },
  {
   "cell_type": "code",
   "execution_count": 101,
   "id": "1c098e43",
   "metadata": {},
   "outputs": [],
   "source": [
    "df_con.dropna(inplace=True)"
   ]
  },
  {
   "cell_type": "code",
   "execution_count": 102,
   "id": "126b2a6d",
   "metadata": {},
   "outputs": [
    {
     "data": {
      "text/html": [
       "<div>\n",
       "<style scoped>\n",
       "    .dataframe tbody tr th:only-of-type {\n",
       "        vertical-align: middle;\n",
       "    }\n",
       "\n",
       "    .dataframe tbody tr th {\n",
       "        vertical-align: top;\n",
       "    }\n",
       "\n",
       "    .dataframe thead th {\n",
       "        text-align: right;\n",
       "    }\n",
       "</style>\n",
       "<table border=\"1\" class=\"dataframe\">\n",
       "  <thead>\n",
       "    <tr style=\"text-align: right;\">\n",
       "      <th></th>\n",
       "      <th>date</th>\n",
       "      <th>검색량</th>\n",
       "    </tr>\n",
       "  </thead>\n",
       "  <tbody>\n",
       "    <tr>\n",
       "      <th>1</th>\n",
       "      <td>2021-07-01</td>\n",
       "      <td>44</td>\n",
       "    </tr>\n",
       "    <tr>\n",
       "      <th>2</th>\n",
       "      <td>2021-07-02</td>\n",
       "      <td>45</td>\n",
       "    </tr>\n",
       "    <tr>\n",
       "      <th>3</th>\n",
       "      <td>2021-07-03</td>\n",
       "      <td>41</td>\n",
       "    </tr>\n",
       "    <tr>\n",
       "      <th>4</th>\n",
       "      <td>2021-07-04</td>\n",
       "      <td>40</td>\n",
       "    </tr>\n",
       "    <tr>\n",
       "      <th>5</th>\n",
       "      <td>2021-07-05</td>\n",
       "      <td>38</td>\n",
       "    </tr>\n",
       "    <tr>\n",
       "      <th>...</th>\n",
       "      <td>...</td>\n",
       "      <td>...</td>\n",
       "    </tr>\n",
       "    <tr>\n",
       "      <th>2665</th>\n",
       "      <td>2022-03-04</td>\n",
       "      <td>76</td>\n",
       "    </tr>\n",
       "    <tr>\n",
       "      <th>2666</th>\n",
       "      <td>2022-03-05</td>\n",
       "      <td>68</td>\n",
       "    </tr>\n",
       "    <tr>\n",
       "      <th>2667</th>\n",
       "      <td>2022-03-06</td>\n",
       "      <td>67</td>\n",
       "    </tr>\n",
       "    <tr>\n",
       "      <th>2668</th>\n",
       "      <td>2022-03-07</td>\n",
       "      <td>82</td>\n",
       "    </tr>\n",
       "    <tr>\n",
       "      <th>2669</th>\n",
       "      <td>2022-03-08</td>\n",
       "      <td>0</td>\n",
       "    </tr>\n",
       "  </tbody>\n",
       "</table>\n",
       "<p>2655 rows × 2 columns</p>\n",
       "</div>"
      ],
      "text/plain": [
       "            date 검색량\n",
       "1     2021-07-01  44\n",
       "2     2021-07-02  45\n",
       "3     2021-07-03  41\n",
       "4     2021-07-04  40\n",
       "5     2021-07-05  38\n",
       "...          ...  ..\n",
       "2665  2022-03-04  76\n",
       "2666  2022-03-05  68\n",
       "2667  2022-03-06  67\n",
       "2668  2022-03-07  82\n",
       "2669  2022-03-08   0\n",
       "\n",
       "[2655 rows x 2 columns]"
      ]
     },
     "execution_count": 102,
     "metadata": {},
     "output_type": "execute_result"
    }
   ],
   "source": [
    "df_con"
   ]
  },
  {
   "cell_type": "code",
   "execution_count": 103,
   "id": "f7ac68fc",
   "metadata": {},
   "outputs": [],
   "source": [
    "df_total = pd.merge(df_total, df_con, on='date', how='left')"
   ]
  },
  {
   "cell_type": "code",
   "execution_count": 104,
   "id": "0b6cbe54",
   "metadata": {},
   "outputs": [],
   "source": [
    "df_total.to_csv('prepro_data/검색량추가.csv')"
   ]
  },
  {
   "cell_type": "code",
   "execution_count": null,
   "id": "fed10d11",
   "metadata": {},
   "outputs": [],
   "source": []
  },
  {
   "cell_type": "code",
   "execution_count": null,
   "id": "1206b015",
   "metadata": {},
   "outputs": [],
   "source": []
  },
  {
   "cell_type": "code",
   "execution_count": null,
   "id": "ca6b1e37",
   "metadata": {},
   "outputs": [],
   "source": []
  },
  {
   "cell_type": "code",
   "execution_count": null,
   "id": "4bdcf733",
   "metadata": {},
   "outputs": [],
   "source": []
  },
  {
   "cell_type": "code",
   "execution_count": null,
   "id": "0c4fbaf2",
   "metadata": {},
   "outputs": [],
   "source": []
  },
  {
   "cell_type": "code",
   "execution_count": null,
   "id": "c5010216",
   "metadata": {},
   "outputs": [],
   "source": []
  },
  {
   "cell_type": "code",
   "execution_count": null,
   "id": "55e2cbd0",
   "metadata": {},
   "outputs": [],
   "source": []
  },
  {
   "cell_type": "code",
   "execution_count": null,
   "id": "9a8f184d",
   "metadata": {},
   "outputs": [],
   "source": []
  },
  {
   "cell_type": "code",
   "execution_count": null,
   "id": "1e73985f",
   "metadata": {},
   "outputs": [],
   "source": []
  }
 ],
 "metadata": {
  "kernelspec": {
   "display_name": "Python 3 (ipykernel)",
   "language": "python",
   "name": "python3"
  },
  "language_info": {
   "codemirror_mode": {
    "name": "ipython",
    "version": 3
   },
   "file_extension": ".py",
   "mimetype": "text/x-python",
   "name": "python",
   "nbconvert_exporter": "python",
   "pygments_lexer": "ipython3",
   "version": "3.9.7"
  }
 },
 "nbformat": 4,
 "nbformat_minor": 5
}
