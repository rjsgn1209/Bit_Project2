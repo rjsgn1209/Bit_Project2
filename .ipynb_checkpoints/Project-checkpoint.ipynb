{
 "cells": [
  {
   "cell_type": "code",
   "execution_count": 28,
   "id": "481f2442",
   "metadata": {},
   "outputs": [],
   "source": [
    "import pandas as pd\n",
    "import numpy as np\n",
    "import matplotlib.pyplot as plt \n",
    "import seaborn as sns"
   ]
  },
  {
   "cell_type": "code",
   "execution_count": 29,
   "id": "ea85f013",
   "metadata": {},
   "outputs": [],
   "source": [
    "import os"
   ]
  },
  {
   "cell_type": "code",
   "execution_count": 156,
   "id": "33402b7a",
   "metadata": {},
   "outputs": [],
   "source": [
    "# REGI 데이터 가져오기\n",
    "datas = os.listdir('data/REGI')\n",
    "li = []\n",
    "for d in datas:\n",
    "    df = pd.read_csv(f\"data/REGI/{d}\")\n",
    "    li.append(df)"
   ]
  },
  {
   "cell_type": "code",
   "execution_count": 157,
   "id": "c40f9c31",
   "metadata": {},
   "outputs": [],
   "source": [
    "# 합병, 저장\n",
    "regi = pd.concat(li)\n",
    "regi.to_csv('./prepro_data/REGI_data.csv')"
   ]
  },
  {
   "cell_type": "code",
   "execution_count": null,
   "id": "4bbd6c43",
   "metadata": {},
   "outputs": [],
   "source": []
  },
  {
   "cell_type": "code",
   "execution_count": 243,
   "id": "06868f9b",
   "metadata": {
    "collapsed": true
   },
   "outputs": [
    {
     "ename": "ImportError",
     "evalue": "cannot import name 'Stylesheet' from 'bs4.element' (C:\\Users\\bitcamp\\anaconda3\\lib\\site-packages\\bs4\\element.py)",
     "output_type": "error",
     "traceback": [
      "\u001b[1;31m---------------------------------------------------------------------------\u001b[0m",
      "\u001b[1;31mImportError\u001b[0m                               Traceback (most recent call last)",
      "\u001b[1;32m~\\AppData\\Local\\Temp/ipykernel_18036/852116523.py\u001b[0m in \u001b[0;36m<module>\u001b[1;34m\u001b[0m\n\u001b[0;32m      1\u001b[0m \u001b[1;32mimport\u001b[0m \u001b[0mrequests\u001b[0m\u001b[1;33m\u001b[0m\u001b[1;33m\u001b[0m\u001b[0m\n\u001b[1;32m----> 2\u001b[1;33m \u001b[1;32mfrom\u001b[0m \u001b[0mbs4\u001b[0m \u001b[1;32mimport\u001b[0m \u001b[0mBeautifulSoup\u001b[0m\u001b[1;33m\u001b[0m\u001b[1;33m\u001b[0m\u001b[0m\n\u001b[0m",
      "\u001b[1;32m~\\anaconda3\\lib\\site-packages\\bs4\\__init__.py\u001b[0m in \u001b[0;36m<module>\u001b[1;34m\u001b[0m\n\u001b[0;32m     36\u001b[0m     \u001b[1;32mraise\u001b[0m \u001b[0mImportError\u001b[0m\u001b[1;33m(\u001b[0m\u001b[1;34m'You are trying to use a Python 3-specific version of Beautiful Soup under Python 2. This will not work. The final version of Beautiful Soup to support Python 2 was 4.9.3.'\u001b[0m\u001b[1;33m)\u001b[0m\u001b[1;33m\u001b[0m\u001b[1;33m\u001b[0m\u001b[0m\n\u001b[0;32m     37\u001b[0m \u001b[1;33m\u001b[0m\u001b[0m\n\u001b[1;32m---> 38\u001b[1;33m \u001b[1;32mfrom\u001b[0m \u001b[1;33m.\u001b[0m\u001b[0mbuilder\u001b[0m \u001b[1;32mimport\u001b[0m \u001b[0mbuilder_registry\u001b[0m\u001b[1;33m,\u001b[0m \u001b[0mParserRejectedMarkup\u001b[0m\u001b[1;33m\u001b[0m\u001b[1;33m\u001b[0m\u001b[0m\n\u001b[0m\u001b[0;32m     39\u001b[0m \u001b[1;32mfrom\u001b[0m \u001b[1;33m.\u001b[0m\u001b[0mdammit\u001b[0m \u001b[1;32mimport\u001b[0m \u001b[0mUnicodeDammit\u001b[0m\u001b[1;33m\u001b[0m\u001b[1;33m\u001b[0m\u001b[0m\n\u001b[0;32m     40\u001b[0m from .element import (\n",
      "\u001b[1;32m~\\anaconda3\\lib\\site-packages\\bs4\\builder\\__init__.py\u001b[0m in \u001b[0;36m<module>\u001b[1;34m\u001b[0m\n\u001b[0;32m      5\u001b[0m \u001b[1;32mimport\u001b[0m \u001b[0mitertools\u001b[0m\u001b[1;33m\u001b[0m\u001b[1;33m\u001b[0m\u001b[0m\n\u001b[0;32m      6\u001b[0m \u001b[1;32mimport\u001b[0m \u001b[0msys\u001b[0m\u001b[1;33m\u001b[0m\u001b[1;33m\u001b[0m\u001b[0m\n\u001b[1;32m----> 7\u001b[1;33m from bs4.element import (\n\u001b[0m\u001b[0;32m      8\u001b[0m     \u001b[0mCharsetMetaAttributeValue\u001b[0m\u001b[1;33m,\u001b[0m\u001b[1;33m\u001b[0m\u001b[1;33m\u001b[0m\u001b[0m\n\u001b[0;32m      9\u001b[0m     \u001b[0mContentMetaAttributeValue\u001b[0m\u001b[1;33m,\u001b[0m\u001b[1;33m\u001b[0m\u001b[1;33m\u001b[0m\u001b[0m\n",
      "\u001b[1;31mImportError\u001b[0m: cannot import name 'Stylesheet' from 'bs4.element' (C:\\Users\\bitcamp\\anaconda3\\lib\\site-packages\\bs4\\element.py)"
     ]
    }
   ],
   "source": [
    "import requests\n",
    "from bs4 import BeautifulSoup\n",
    "from html_table_parser import parser_functions"
   ]
  },
  {
   "cell_type": "code",
   "execution_count": 34,
   "id": "76071baf",
   "metadata": {},
   "outputs": [],
   "source": [
    "# 재무제표 데이터 크롤링\n",
    "url = 'https://www.choicestock.co.kr/search/invest/TSLA/MRQ'\n",
    "res = requests.get(url)\n",
    "soup = BeautifulSoup(res.text, 'html.parser')\n",
    "datas = soup.select('table.tableRanking')"
   ]
  },
  {
   "cell_type": "code",
   "execution_count": null,
   "id": "850a8ea3",
   "metadata": {},
   "outputs": [],
   "source": [
    "# 데이터 프레임 생성\n",
    "li = []\n",
    "for data in datas:\n",
    "    table = parser_functions.make2d(data)\n",
    "    df = pd.DataFrame(data=table[1:], columns=table[0])\n",
    "    li.append(df)"
   ]
  },
  {
   "cell_type": "code",
   "execution_count": null,
   "id": "7f5bb7dd",
   "metadata": {},
   "outputs": [],
   "source": [
    "# 합병\n",
    "df = pd.concat(li)"
   ]
  },
  {
   "cell_type": "code",
   "execution_count": null,
   "id": "c835dc44",
   "metadata": {},
   "outputs": [],
   "source": [
    "# 저장\n",
    "df.to_csv('prepro_data/fn_statement.csv')"
   ]
  },
  {
   "cell_type": "code",
   "execution_count": null,
   "id": "ce99e315",
   "metadata": {},
   "outputs": [],
   "source": []
  },
  {
   "cell_type": "code",
   "execution_count": 163,
   "id": "ce8d9c2f",
   "metadata": {},
   "outputs": [],
   "source": [
    "# Date 전처리 함수\n",
    "def change_date(x):\n",
    "    ret = []\n",
    "    for da in x.split():\n",
    "        ret.append(da[:-1])\n",
    "    return '.'.join(ret)"
   ]
  },
  {
   "cell_type": "code",
   "execution_count": 183,
   "id": "7ebe293a",
   "metadata": {},
   "outputs": [],
   "source": [
    "# Volumn 전치리 함수\n",
    "def m_to_k(x):\n",
    "    if x[-1] == 'M':\n",
    "        return float(x[:-1]) * 1000\n",
    "    elif x[-1] == 'B':\n",
    "        return float(x[:-1]) * 1000000\n",
    "    elif x[-1] == 'K':\n",
    "        return float(x[:-1])\n",
    "    else:\n",
    "        return np.nan"
   ]
  },
  {
   "cell_type": "code",
   "execution_count": null,
   "id": "f11e6eb4",
   "metadata": {},
   "outputs": [],
   "source": []
  },
  {
   "cell_type": "code",
   "execution_count": 244,
   "id": "636e6479",
   "metadata": {},
   "outputs": [],
   "source": [
    "# 알루미늄 전처리\n",
    "df1 = pd.read_csv('data/알루미늄 내역.csv')\n",
    "df1.drop(['오픈', '고가', '저가'], axis=1, inplace=True)\n",
    "df1.columns = ['date', 'alu_price', 'alu_vol', 'alu_change']"
   ]
  },
  {
   "cell_type": "code",
   "execution_count": 245,
   "id": "fe7c8bee",
   "metadata": {},
   "outputs": [],
   "source": [
    "df1.date = df1.date.apply(change_date)"
   ]
  },
  {
   "cell_type": "code",
   "execution_count": 246,
   "id": "74787799",
   "metadata": {},
   "outputs": [],
   "source": [
    "df1.date = pd.to_datetime(df1.date)"
   ]
  },
  {
   "cell_type": "code",
   "execution_count": 247,
   "id": "c54573ef",
   "metadata": {},
   "outputs": [],
   "source": [
    "df1['alu_price'] = df1['alu_price'].apply(lambda x: x.replace(',', ''))"
   ]
  },
  {
   "cell_type": "code",
   "execution_count": 248,
   "id": "0cbf277d",
   "metadata": {},
   "outputs": [],
   "source": [
    "df1['alu_price'] = pd.to_numeric(df1['alu_price'])"
   ]
  },
  {
   "cell_type": "code",
   "execution_count": 249,
   "id": "3718a6e7",
   "metadata": {},
   "outputs": [],
   "source": [
    "df1['alu_vol'] = df1['alu_vol'].apply(m_to_k)"
   ]
  },
  {
   "cell_type": "code",
   "execution_count": 250,
   "id": "841180f6",
   "metadata": {},
   "outputs": [],
   "source": [
    "df1['alu_change'] = df1['alu_change'].apply(lambda x: float(x.replace('%', '')))"
   ]
  },
  {
   "cell_type": "code",
   "execution_count": 251,
   "id": "780fe96c",
   "metadata": {},
   "outputs": [
    {
     "name": "stdout",
     "output_type": "stream",
     "text": [
      "<class 'pandas.core.frame.DataFrame'>\n",
      "RangeIndex: 1815 entries, 0 to 1814\n",
      "Data columns (total 4 columns):\n",
      " #   Column      Non-Null Count  Dtype         \n",
      "---  ------      --------------  -----         \n",
      " 0   date        1815 non-null   datetime64[ns]\n",
      " 1   alu_price   1815 non-null   float64       \n",
      " 2   alu_vol     1814 non-null   float64       \n",
      " 3   alu_change  1815 non-null   float64       \n",
      "dtypes: datetime64[ns](1), float64(3)\n",
      "memory usage: 56.8 KB\n"
     ]
    }
   ],
   "source": [
    "df1.info()"
   ]
  },
  {
   "cell_type": "code",
   "execution_count": null,
   "id": "e3b0d370",
   "metadata": {},
   "outputs": [],
   "source": []
  },
  {
   "cell_type": "code",
   "execution_count": null,
   "id": "354f4648",
   "metadata": {},
   "outputs": [],
   "source": []
  },
  {
   "cell_type": "code",
   "execution_count": 252,
   "id": "1455c62f",
   "metadata": {},
   "outputs": [],
   "source": [
    "# 구리 데이터 전처리\n",
    "df2 = pd.read_csv('data/영국 구리 선물 내역.csv')\n",
    "df2.drop(['오픈', '고가', '저가', '거래량'], axis=1, inplace=True)\n",
    "df2.columns = ['date', 'cu_price', 'cu_change']"
   ]
  },
  {
   "cell_type": "code",
   "execution_count": 256,
   "id": "42d03757",
   "metadata": {},
   "outputs": [],
   "source": [
    "df2.date = df2.date.apply(change_date)"
   ]
  },
  {
   "cell_type": "code",
   "execution_count": 257,
   "id": "77d8d3a6",
   "metadata": {},
   "outputs": [],
   "source": [
    "df2.date = pd.to_datetime(df2.date)"
   ]
  },
  {
   "cell_type": "code",
   "execution_count": 258,
   "id": "fbfe1eb3",
   "metadata": {},
   "outputs": [],
   "source": [
    "df2.cu_price = df2.cu_price.apply(lambda x: float(x.replace(',', '')))"
   ]
  },
  {
   "cell_type": "code",
   "execution_count": 259,
   "id": "3acfb5af",
   "metadata": {},
   "outputs": [],
   "source": [
    "df2['cu_change'] = df2['cu_change'].apply(lambda x: float(x.replace('%', '')))"
   ]
  },
  {
   "cell_type": "code",
   "execution_count": null,
   "id": "a91913fc",
   "metadata": {},
   "outputs": [],
   "source": []
  },
  {
   "cell_type": "code",
   "execution_count": 181,
   "id": "0e36be0b",
   "metadata": {},
   "outputs": [],
   "source": [
    "# 알루미늄, 구리 데이터 합병\n",
    "df_mg = pd.merge(df1, df2, on='date', how='outer')"
   ]
  },
  {
   "cell_type": "code",
   "execution_count": null,
   "id": "e540b765",
   "metadata": {},
   "outputs": [],
   "source": []
  },
  {
   "cell_type": "code",
   "execution_count": 194,
   "id": "c43f14a7",
   "metadata": {},
   "outputs": [],
   "source": [
    "# REGI 데이터 전처리\n",
    "df3 = pd.read_csv('prepro_data/REGI_data.csv')\n",
    "df3.drop(['Unnamed: 0', '오픈', '고가', '저가'], axis=1, inplace=True)\n",
    "df3.columns = ['date', 'REGI_price', 'REGI_vol', 'REGI_change']"
   ]
  },
  {
   "cell_type": "code",
   "execution_count": 200,
   "id": "4fde923f",
   "metadata": {},
   "outputs": [],
   "source": [
    "df3.date = df3.date.apply(change_date)"
   ]
  },
  {
   "cell_type": "code",
   "execution_count": 201,
   "id": "7e4f455b",
   "metadata": {},
   "outputs": [],
   "source": [
    "df3.date = pd.to_datetime(df3.date)"
   ]
  },
  {
   "cell_type": "code",
   "execution_count": 204,
   "id": "61e57d92",
   "metadata": {},
   "outputs": [],
   "source": [
    "df3.REGI_vol = df3.REGI_vol.apply(m_to_k)"
   ]
  },
  {
   "cell_type": "code",
   "execution_count": 205,
   "id": "3df31ac6",
   "metadata": {},
   "outputs": [],
   "source": [
    "df3['REGI_change'] = df3['REGI_change'].apply(lambda x: float(x.replace('%', '')))"
   ]
  },
  {
   "cell_type": "code",
   "execution_count": 208,
   "id": "4b795396",
   "metadata": {},
   "outputs": [],
   "source": [
    "# REGI 합병\n",
    "df_mg1 = pd.merge(df_mg, df3, on='date', how='outer')"
   ]
  },
  {
   "cell_type": "code",
   "execution_count": 211,
   "id": "d8c2e1c8",
   "metadata": {},
   "outputs": [],
   "source": [
    "# 합병한 데이터프레임 저장\n",
    "df_mg1.to_csv('./prepro_data/alu_cu_REGI_df.csv')"
   ]
  },
  {
   "cell_type": "code",
   "execution_count": null,
   "id": "b9fe8d2b",
   "metadata": {},
   "outputs": [],
   "source": []
  },
  {
   "cell_type": "code",
   "execution_count": null,
   "id": "841184a8",
   "metadata": {},
   "outputs": [],
   "source": [
    "# 리튬 전처리 및 저장"
   ]
  },
  {
   "cell_type": "code",
   "execution_count": 222,
   "id": "6ff08828",
   "metadata": {},
   "outputs": [],
   "source": [
    "df = pd.read_excel('data/리튬+가격2022-03-08.xls')"
   ]
  },
  {
   "cell_type": "code",
   "execution_count": 224,
   "id": "e50715c5",
   "metadata": {},
   "outputs": [],
   "source": [
    "df.drop(['등락가', '등락비율', '재고량'], axis=1, inplace=True)"
   ]
  },
  {
   "cell_type": "code",
   "execution_count": 226,
   "id": "b8698b9a",
   "metadata": {},
   "outputs": [],
   "source": [
    "df.columns = ['date', 'li_price']"
   ]
  },
  {
   "cell_type": "code",
   "execution_count": 231,
   "id": "aaa08b46",
   "metadata": {},
   "outputs": [],
   "source": [
    "df.date = pd.to_datetime(df.date)"
   ]
  },
  {
   "cell_type": "code",
   "execution_count": 234,
   "id": "6fb5c61c",
   "metadata": {},
   "outputs": [],
   "source": [
    "df.to_csv('prepro_data/data_li.csv')"
   ]
  },
  {
   "cell_type": "code",
   "execution_count": null,
   "id": "d0541680",
   "metadata": {},
   "outputs": [],
   "source": []
  },
  {
   "cell_type": "code",
   "execution_count": null,
   "id": "855f3c09",
   "metadata": {},
   "outputs": [],
   "source": []
  },
  {
   "cell_type": "code",
   "execution_count": 400,
   "id": "b76e70a0",
   "metadata": {},
   "outputs": [],
   "source": [
    "df = pd.read_csv('prepro_data/테슬라 총합.csv')"
   ]
  },
  {
   "cell_type": "code",
   "execution_count": 414,
   "id": "b4f83158",
   "metadata": {},
   "outputs": [
    {
     "name": "stdout",
     "output_type": "stream",
     "text": [
      "LinearRegression\n",
      "r2_score : 0.15786761258417115\n",
      "rmse : 0.4563038358649629\n",
      "Ridge\n",
      "r2_score : 0.1579368576315302\n",
      "rmse : 0.4562850754950131\n",
      "Lasso\n",
      "r2_score : 0.024409340687458037\n",
      "rmse : 0.49113145670303243\n"
     ]
    }
   ],
   "source": [
    "# y = df.tesla\n",
    "# x = df.drop(['Unnamed: 0', 'date', 'tesla'], axis=1)\n",
    "\n",
    "from sklearn.model_selection import train_test_split\n",
    "\n",
    "x_train, x_test, y_train, y_test = train_test_split(x, y, test_size=0.2, random_state=111)\n",
    "\n",
    "from sklearn.linear_model import LogisticRegression\n",
    "from sklearn.metrics import classification_report\n",
    "\n",
    "lg = LogisticRegression()\n",
    "# rid = Ridge()\n",
    "# las = Lasso()\n",
    "\n",
    "models = [lr, rid, las]\n",
    "\n",
    "for model in models:\n",
    "    model.fit(x_train, y_train)\n",
    "    preds = model.predict(x_test)\n",
    "    print(model.__class__.__name__)\n",
    "    print('r2_score :', r2_score(y_test, preds))\n",
    "    print('rmse :', np.sqrt(mean_squared_error(y_test, preds)))"
   ]
  },
  {
   "cell_type": "code",
   "execution_count": 415,
   "id": "a16663b0",
   "metadata": {},
   "outputs": [],
   "source": [
    "x_train, x_test, y_train, y_test = train_test_split(x, y, test_size=0.2, random_state=111)"
   ]
  },
  {
   "cell_type": "code",
   "execution_count": 512,
   "id": "195e1c13",
   "metadata": {},
   "outputs": [],
   "source": [
    "df_total = pd.read_csv('prepro_data/테슬라 총합.csv')"
   ]
  },
  {
   "cell_type": "code",
   "execution_count": null,
   "id": "02acf35b",
   "metadata": {},
   "outputs": [],
   "source": []
  },
  {
   "cell_type": "code",
   "execution_count": 267,
   "id": "6183bcb0",
   "metadata": {},
   "outputs": [],
   "source": [
    "y = df.tesla\n",
    "x = df.drop(['Unnamed: 0', 'date', 'tesla'], axis=1)"
   ]
  },
  {
   "cell_type": "code",
   "execution_count": 268,
   "id": "5dcb8d54",
   "metadata": {},
   "outputs": [],
   "source": [
    "from sklearn.model_selection import train_test_split"
   ]
  },
  {
   "cell_type": "code",
   "execution_count": 275,
   "id": "053b2491",
   "metadata": {},
   "outputs": [],
   "source": [
    "x_train, x_test, y_train, y_test = train_test_split(x, y, test_size=0.2, random_state=111)"
   ]
  },
  {
   "cell_type": "code",
   "execution_count": 300,
   "id": "273c1e6e",
   "metadata": {},
   "outputs": [],
   "source": [
    "from sklearn.linear_model import LinearRegression, Ridge, Lasso\n",
    "from sklearn.metrics import r2_score, mean_squared_error"
   ]
  },
  {
   "cell_type": "code",
   "execution_count": 303,
   "id": "4b7153c2",
   "metadata": {},
   "outputs": [],
   "source": [
    "lr = LinearRegression()\n",
    "rid = Ridge()\n",
    "las = Lasso\n",
    "\n",
    "models = [lr, rid, las]"
   ]
  },
  {
   "cell_type": "code",
   "execution_count": 304,
   "id": "32cb617c",
   "metadata": {
    "collapsed": true
   },
   "outputs": [
    {
     "name": "stdout",
     "output_type": "stream",
     "text": [
      "LinearRegression\n",
      "r2_score : 0.9802214926606811\n",
      "Ridge\n",
      "r2_score : 0.9802204979242496\n"
     ]
    },
    {
     "ename": "TypeError",
     "evalue": "fit() missing 1 required positional argument: 'y'",
     "output_type": "error",
     "traceback": [
      "\u001b[1;31m---------------------------------------------------------------------------\u001b[0m",
      "\u001b[1;31mTypeError\u001b[0m                                 Traceback (most recent call last)",
      "\u001b[1;32m~\\AppData\\Local\\Temp/ipykernel_18036/1674180044.py\u001b[0m in \u001b[0;36m<module>\u001b[1;34m\u001b[0m\n\u001b[0;32m      1\u001b[0m \u001b[1;32mfor\u001b[0m \u001b[0mmodel\u001b[0m \u001b[1;32min\u001b[0m \u001b[0mmodels\u001b[0m\u001b[1;33m:\u001b[0m\u001b[1;33m\u001b[0m\u001b[1;33m\u001b[0m\u001b[0m\n\u001b[1;32m----> 2\u001b[1;33m     \u001b[0mmodel\u001b[0m\u001b[1;33m.\u001b[0m\u001b[0mfit\u001b[0m\u001b[1;33m(\u001b[0m\u001b[0mx_train\u001b[0m\u001b[1;33m,\u001b[0m \u001b[0my_train\u001b[0m\u001b[1;33m)\u001b[0m\u001b[1;33m\u001b[0m\u001b[1;33m\u001b[0m\u001b[0m\n\u001b[0m\u001b[0;32m      3\u001b[0m     \u001b[0mpreds\u001b[0m \u001b[1;33m=\u001b[0m \u001b[0mmodel\u001b[0m\u001b[1;33m.\u001b[0m\u001b[0mpredict\u001b[0m\u001b[1;33m(\u001b[0m\u001b[0mx_test\u001b[0m\u001b[1;33m)\u001b[0m\u001b[1;33m\u001b[0m\u001b[1;33m\u001b[0m\u001b[0m\n\u001b[0;32m      4\u001b[0m     \u001b[0mprint\u001b[0m\u001b[1;33m(\u001b[0m\u001b[0mmodel\u001b[0m\u001b[1;33m.\u001b[0m\u001b[0m__class__\u001b[0m\u001b[1;33m.\u001b[0m\u001b[0m__name__\u001b[0m\u001b[1;33m)\u001b[0m\u001b[1;33m\u001b[0m\u001b[1;33m\u001b[0m\u001b[0m\n\u001b[0;32m      5\u001b[0m     \u001b[0mprint\u001b[0m\u001b[1;33m(\u001b[0m\u001b[1;34m'r2_score :'\u001b[0m\u001b[1;33m,\u001b[0m \u001b[0mr2_score\u001b[0m\u001b[1;33m(\u001b[0m\u001b[0my_test\u001b[0m\u001b[1;33m,\u001b[0m \u001b[0mpreds\u001b[0m\u001b[1;33m)\u001b[0m\u001b[1;33m)\u001b[0m\u001b[1;33m\u001b[0m\u001b[1;33m\u001b[0m\u001b[0m\n",
      "\u001b[1;31mTypeError\u001b[0m: fit() missing 1 required positional argument: 'y'"
     ]
    }
   ],
   "source": [
    "for model in models:\n",
    "    model.fit(x_train, y_train)\n",
    "    preds = model.predict(x_test)\n",
    "    print(model.__class__.__name__)\n",
    "    print('r2_score :', r2_score(y_test, preds))"
   ]
  },
  {
   "cell_type": "code",
   "execution_count": 290,
   "id": "bfe27776",
   "metadata": {
    "scrolled": true
   },
   "outputs": [
    {
     "data": {
      "text/plain": [
       "LinearRegression()"
      ]
     },
     "execution_count": 290,
     "metadata": {},
     "output_type": "execute_result"
    }
   ],
   "source": [
    "lr.fit(x_train, y_train)"
   ]
  },
  {
   "cell_type": "code",
   "execution_count": 291,
   "id": "f86db360",
   "metadata": {},
   "outputs": [],
   "source": [
    "preds = lr.predict(x_test)"
   ]
  },
  {
   "cell_type": "code",
   "execution_count": 297,
   "id": "70fe38fe",
   "metadata": {},
   "outputs": [
    {
     "data": {
      "text/plain": [
       "0.9802214926606811"
      ]
     },
     "execution_count": 297,
     "metadata": {},
     "output_type": "execute_result"
    }
   ],
   "source": [
    "r2_score(y_test, preds)"
   ]
  },
  {
   "cell_type": "code",
   "execution_count": 299,
   "id": "8dde116a",
   "metadata": {},
   "outputs": [
    {
     "data": {
      "text/plain": [
       "41.816757742474046"
      ]
     },
     "execution_count": 299,
     "metadata": {},
     "output_type": "execute_result"
    }
   ],
   "source": [
    "np.sqrt(mean_squared_error(y_test, preds))"
   ]
  },
  {
   "cell_type": "code",
   "execution_count": null,
   "id": "9eb79670",
   "metadata": {},
   "outputs": [],
   "source": [
    "lg = LogisticRegression()"
   ]
  },
  {
   "cell_type": "code",
   "execution_count": null,
   "id": "b6ef6aaf",
   "metadata": {},
   "outputs": [],
   "source": []
  },
  {
   "cell_type": "code",
   "execution_count": 513,
   "id": "15c315f8",
   "metadata": {},
   "outputs": [],
   "source": [
    "df_cha = pd.read_csv('data/TSLA 역사적 데이터.csv')"
   ]
  },
  {
   "cell_type": "code",
   "execution_count": 514,
   "id": "7a4446d6",
   "metadata": {},
   "outputs": [],
   "source": [
    "df_cha['change'] = df_cha['변동 %'].apply(lambda x: 0 if float(x[:-1]) < 0 else 1)"
   ]
  },
  {
   "cell_type": "code",
   "execution_count": 515,
   "id": "4ae6b70e",
   "metadata": {},
   "outputs": [],
   "source": [
    "df_cha = df_cha[['날짜', 'change']].rename(columns = {'날짜': 'date'})"
   ]
  },
  {
   "cell_type": "code",
   "execution_count": 516,
   "id": "e03b11c8",
   "metadata": {},
   "outputs": [],
   "source": [
    "df_cha.date = pd.to_datetime(df_cha.date.apply(change_date))"
   ]
  },
  {
   "cell_type": "code",
   "execution_count": 517,
   "id": "0bce9dbf",
   "metadata": {},
   "outputs": [
    {
     "name": "stdout",
     "output_type": "stream",
     "text": [
      "<class 'pandas.core.frame.DataFrame'>\n",
      "RangeIndex: 1808 entries, 0 to 1807\n",
      "Data columns (total 2 columns):\n",
      " #   Column  Non-Null Count  Dtype         \n",
      "---  ------  --------------  -----         \n",
      " 0   date    1808 non-null   datetime64[ns]\n",
      " 1   change  1808 non-null   int64         \n",
      "dtypes: datetime64[ns](1), int64(1)\n",
      "memory usage: 28.4 KB\n"
     ]
    }
   ],
   "source": [
    "df_cha.info()"
   ]
  },
  {
   "cell_type": "code",
   "execution_count": 518,
   "id": "31ca0057",
   "metadata": {},
   "outputs": [],
   "source": [
    "df_total.date = pd.to_datetime(df_total.date)"
   ]
  },
  {
   "cell_type": "code",
   "execution_count": 566,
   "id": "a04f59c3",
   "metadata": {},
   "outputs": [],
   "source": [
    "df_cla = pd.merge(df_total, df_cha, on='date', how='left')"
   ]
  },
  {
   "cell_type": "code",
   "execution_count": 567,
   "id": "5da84c9e",
   "metadata": {},
   "outputs": [],
   "source": [
    "from sklearn.preprocessing import LabelEncoder\n",
    "le = LabelEncoder()"
   ]
  },
  {
   "cell_type": "code",
   "execution_count": 568,
   "id": "ad65f685",
   "metadata": {},
   "outputs": [
    {
     "data": {
      "text/plain": [
       "0      2015-01-02\n",
       "1      2015-01-05\n",
       "2      2015-01-06\n",
       "3      2015-01-07\n",
       "4      2015-01-08\n",
       "          ...    \n",
       "1802   2022-02-28\n",
       "1803   2022-03-01\n",
       "1804   2022-03-02\n",
       "1805   2022-03-03\n",
       "1806   2022-03-04\n",
       "Name: date, Length: 1807, dtype: datetime64[ns]"
      ]
     },
     "execution_count": 568,
     "metadata": {},
     "output_type": "execute_result"
    }
   ],
   "source": [
    "df_cla.date"
   ]
  },
  {
   "cell_type": "code",
   "execution_count": 569,
   "id": "1a0c886c",
   "metadata": {},
   "outputs": [
    {
     "data": {
      "text/plain": [
       "LabelEncoder()"
      ]
     },
     "execution_count": 569,
     "metadata": {},
     "output_type": "execute_result"
    }
   ],
   "source": [
    "le.fit(df_cla.date)"
   ]
  },
  {
   "cell_type": "code",
   "execution_count": 570,
   "id": "4b893faf",
   "metadata": {},
   "outputs": [],
   "source": [
    "df_cla.date = le.transform(df_cla.date)"
   ]
  },
  {
   "cell_type": "code",
   "execution_count": 571,
   "id": "cd124a56",
   "metadata": {
    "collapsed": true
   },
   "outputs": [
    {
     "data": {
      "text/html": [
       "<div>\n",
       "<style scoped>\n",
       "    .dataframe tbody tr th:only-of-type {\n",
       "        vertical-align: middle;\n",
       "    }\n",
       "\n",
       "    .dataframe tbody tr th {\n",
       "        vertical-align: top;\n",
       "    }\n",
       "\n",
       "    .dataframe thead th {\n",
       "        text-align: right;\n",
       "    }\n",
       "</style>\n",
       "<table border=\"1\" class=\"dataframe\">\n",
       "  <thead>\n",
       "    <tr style=\"text-align: right;\">\n",
       "      <th></th>\n",
       "      <th>Unnamed: 0</th>\n",
       "      <th>date</th>\n",
       "      <th>tesla</th>\n",
       "      <th>tesla_거래량</th>\n",
       "      <th>tesla_volatility</th>\n",
       "      <th>elec_fee</th>\n",
       "      <th>oli_price</th>\n",
       "      <th>oli_price_volatility</th>\n",
       "      <th>carbon_credits</th>\n",
       "      <th>carbon_credits_volatility</th>\n",
       "      <th>...</th>\n",
       "      <th>dollar_volatility</th>\n",
       "      <th>alu_price</th>\n",
       "      <th>alu_vol</th>\n",
       "      <th>alu_change</th>\n",
       "      <th>cu_price</th>\n",
       "      <th>cu_change</th>\n",
       "      <th>REGI_price</th>\n",
       "      <th>REGI_vol</th>\n",
       "      <th>REGI_change</th>\n",
       "      <th>change</th>\n",
       "    </tr>\n",
       "  </thead>\n",
       "  <tbody>\n",
       "    <tr>\n",
       "      <th>0</th>\n",
       "      <td>0</td>\n",
       "      <td>0</td>\n",
       "      <td>43.86</td>\n",
       "      <td>23820.0</td>\n",
       "      <td>-1.39</td>\n",
       "      <td>6.67</td>\n",
       "      <td>52.69</td>\n",
       "      <td>-3.44</td>\n",
       "      <td>7.01</td>\n",
       "      <td>-3.31</td>\n",
       "      <td>...</td>\n",
       "      <td>0.90</td>\n",
       "      <td>1828.00</td>\n",
       "      <td>31.38</td>\n",
       "      <td>-1.12</td>\n",
       "      <td>6250.25</td>\n",
       "      <td>-0.55</td>\n",
       "      <td>9.79</td>\n",
       "      <td>436.60</td>\n",
       "      <td>0.82</td>\n",
       "      <td>0</td>\n",
       "    </tr>\n",
       "    <tr>\n",
       "      <th>1</th>\n",
       "      <td>1</td>\n",
       "      <td>1</td>\n",
       "      <td>42.02</td>\n",
       "      <td>26840.0</td>\n",
       "      <td>-4.20</td>\n",
       "      <td>6.67</td>\n",
       "      <td>50.04</td>\n",
       "      <td>-5.03</td>\n",
       "      <td>6.90</td>\n",
       "      <td>-1.57</td>\n",
       "      <td>...</td>\n",
       "      <td>0.33</td>\n",
       "      <td>1812.25</td>\n",
       "      <td>43.25</td>\n",
       "      <td>-0.86</td>\n",
       "      <td>6142.00</td>\n",
       "      <td>-1.73</td>\n",
       "      <td>9.55</td>\n",
       "      <td>481.67</td>\n",
       "      <td>-2.45</td>\n",
       "      <td>0</td>\n",
       "    </tr>\n",
       "    <tr>\n",
       "      <th>2</th>\n",
       "      <td>2</td>\n",
       "      <td>2</td>\n",
       "      <td>42.26</td>\n",
       "      <td>31310.0</td>\n",
       "      <td>0.57</td>\n",
       "      <td>6.67</td>\n",
       "      <td>47.93</td>\n",
       "      <td>-4.22</td>\n",
       "      <td>6.77</td>\n",
       "      <td>-1.88</td>\n",
       "      <td>...</td>\n",
       "      <td>0.13</td>\n",
       "      <td>1780.25</td>\n",
       "      <td>56.01</td>\n",
       "      <td>-1.77</td>\n",
       "      <td>6131.00</td>\n",
       "      <td>-0.18</td>\n",
       "      <td>9.12</td>\n",
       "      <td>534.76</td>\n",
       "      <td>-4.50</td>\n",
       "      <td>1</td>\n",
       "    </tr>\n",
       "    <tr>\n",
       "      <th>3</th>\n",
       "      <td>3</td>\n",
       "      <td>3</td>\n",
       "      <td>42.19</td>\n",
       "      <td>14840.0</td>\n",
       "      <td>-0.17</td>\n",
       "      <td>6.67</td>\n",
       "      <td>48.65</td>\n",
       "      <td>1.50</td>\n",
       "      <td>6.78</td>\n",
       "      <td>0.15</td>\n",
       "      <td>...</td>\n",
       "      <td>0.43</td>\n",
       "      <td>1783.50</td>\n",
       "      <td>61.45</td>\n",
       "      <td>0.18</td>\n",
       "      <td>6125.00</td>\n",
       "      <td>-0.10</td>\n",
       "      <td>9.19</td>\n",
       "      <td>267.66</td>\n",
       "      <td>0.77</td>\n",
       "      <td>0</td>\n",
       "    </tr>\n",
       "    <tr>\n",
       "      <th>4</th>\n",
       "      <td>4</td>\n",
       "      <td>4</td>\n",
       "      <td>42.12</td>\n",
       "      <td>17210.0</td>\n",
       "      <td>-0.17</td>\n",
       "      <td>6.67</td>\n",
       "      <td>48.79</td>\n",
       "      <td>0.29</td>\n",
       "      <td>6.81</td>\n",
       "      <td>0.44</td>\n",
       "      <td>...</td>\n",
       "      <td>0.52</td>\n",
       "      <td>1825.50</td>\n",
       "      <td>75.03</td>\n",
       "      <td>2.35</td>\n",
       "      <td>6122.75</td>\n",
       "      <td>-0.04</td>\n",
       "      <td>9.43</td>\n",
       "      <td>359.25</td>\n",
       "      <td>2.61</td>\n",
       "      <td>0</td>\n",
       "    </tr>\n",
       "    <tr>\n",
       "      <th>...</th>\n",
       "      <td>...</td>\n",
       "      <td>...</td>\n",
       "      <td>...</td>\n",
       "      <td>...</td>\n",
       "      <td>...</td>\n",
       "      <td>...</td>\n",
       "      <td>...</td>\n",
       "      <td>...</td>\n",
       "      <td>...</td>\n",
       "      <td>...</td>\n",
       "      <td>...</td>\n",
       "      <td>...</td>\n",
       "      <td>...</td>\n",
       "      <td>...</td>\n",
       "      <td>...</td>\n",
       "      <td>...</td>\n",
       "      <td>...</td>\n",
       "      <td>...</td>\n",
       "      <td>...</td>\n",
       "      <td>...</td>\n",
       "      <td>...</td>\n",
       "    </tr>\n",
       "    <tr>\n",
       "      <th>1802</th>\n",
       "      <td>1802</td>\n",
       "      <td>1802</td>\n",
       "      <td>870.43</td>\n",
       "      <td>32770.0</td>\n",
       "      <td>7.48</td>\n",
       "      <td>7.16</td>\n",
       "      <td>95.72</td>\n",
       "      <td>4.51</td>\n",
       "      <td>82.65</td>\n",
       "      <td>-5.83</td>\n",
       "      <td>...</td>\n",
       "      <td>0.10</td>\n",
       "      <td>3368.50</td>\n",
       "      <td>85.69</td>\n",
       "      <td>0.33</td>\n",
       "      <td>9883.50</td>\n",
       "      <td>0.11</td>\n",
       "      <td>61.50</td>\n",
       "      <td>12740.00</td>\n",
       "      <td>40.38</td>\n",
       "      <td>1</td>\n",
       "    </tr>\n",
       "    <tr>\n",
       "      <th>1803</th>\n",
       "      <td>1803</td>\n",
       "      <td>1803</td>\n",
       "      <td>864.37</td>\n",
       "      <td>24720.0</td>\n",
       "      <td>-0.70</td>\n",
       "      <td>7.16</td>\n",
       "      <td>103.41</td>\n",
       "      <td>8.03</td>\n",
       "      <td>69.74</td>\n",
       "      <td>-15.62</td>\n",
       "      <td>...</td>\n",
       "      <td>0.73</td>\n",
       "      <td>3478.00</td>\n",
       "      <td>68.56</td>\n",
       "      <td>3.25</td>\n",
       "      <td>10061.50</td>\n",
       "      <td>1.80</td>\n",
       "      <td>60.75</td>\n",
       "      <td>4790.00</td>\n",
       "      <td>-1.22</td>\n",
       "      <td>0</td>\n",
       "    </tr>\n",
       "    <tr>\n",
       "      <th>1804</th>\n",
       "      <td>1804</td>\n",
       "      <td>1804</td>\n",
       "      <td>879.89</td>\n",
       "      <td>24650.0</td>\n",
       "      <td>1.80</td>\n",
       "      <td>7.16</td>\n",
       "      <td>110.60</td>\n",
       "      <td>6.95</td>\n",
       "      <td>67.72</td>\n",
       "      <td>-2.90</td>\n",
       "      <td>...</td>\n",
       "      <td>-0.02</td>\n",
       "      <td>3569.00</td>\n",
       "      <td>68.40</td>\n",
       "      <td>2.62</td>\n",
       "      <td>10166.00</td>\n",
       "      <td>1.04</td>\n",
       "      <td>60.86</td>\n",
       "      <td>5040.00</td>\n",
       "      <td>0.18</td>\n",
       "      <td>1</td>\n",
       "    </tr>\n",
       "    <tr>\n",
       "      <th>1805</th>\n",
       "      <td>1805</td>\n",
       "      <td>1805</td>\n",
       "      <td>839.29</td>\n",
       "      <td>20260.0</td>\n",
       "      <td>-4.61</td>\n",
       "      <td>7.16</td>\n",
       "      <td>107.67</td>\n",
       "      <td>-2.65</td>\n",
       "      <td>67.01</td>\n",
       "      <td>-1.05</td>\n",
       "      <td>...</td>\n",
       "      <td>0.41</td>\n",
       "      <td>3716.50</td>\n",
       "      <td>106.23</td>\n",
       "      <td>4.13</td>\n",
       "      <td>10351.00</td>\n",
       "      <td>1.82</td>\n",
       "      <td>61.26</td>\n",
       "      <td>5430.00</td>\n",
       "      <td>0.66</td>\n",
       "      <td>0</td>\n",
       "    </tr>\n",
       "    <tr>\n",
       "      <th>1806</th>\n",
       "      <td>1806</td>\n",
       "      <td>1806</td>\n",
       "      <td>838.29</td>\n",
       "      <td>22390.0</td>\n",
       "      <td>-0.12</td>\n",
       "      <td>7.16</td>\n",
       "      <td>115.68</td>\n",
       "      <td>7.44</td>\n",
       "      <td>65.80</td>\n",
       "      <td>-1.81</td>\n",
       "      <td>...</td>\n",
       "      <td>0.88</td>\n",
       "      <td>3849.00</td>\n",
       "      <td>106.23</td>\n",
       "      <td>3.57</td>\n",
       "      <td>10674.00</td>\n",
       "      <td>3.12</td>\n",
       "      <td>61.04</td>\n",
       "      <td>4290.00</td>\n",
       "      <td>-0.36</td>\n",
       "      <td>0</td>\n",
       "    </tr>\n",
       "  </tbody>\n",
       "</table>\n",
       "<p>1807 rows × 47 columns</p>\n",
       "</div>"
      ],
      "text/plain": [
       "      Unnamed: 0  date   tesla  tesla_거래량  tesla_volatility  elec_fee  \\\n",
       "0              0     0   43.86    23820.0             -1.39      6.67   \n",
       "1              1     1   42.02    26840.0             -4.20      6.67   \n",
       "2              2     2   42.26    31310.0              0.57      6.67   \n",
       "3              3     3   42.19    14840.0             -0.17      6.67   \n",
       "4              4     4   42.12    17210.0             -0.17      6.67   \n",
       "...          ...   ...     ...        ...               ...       ...   \n",
       "1802        1802  1802  870.43    32770.0              7.48      7.16   \n",
       "1803        1803  1803  864.37    24720.0             -0.70      7.16   \n",
       "1804        1804  1804  879.89    24650.0              1.80      7.16   \n",
       "1805        1805  1805  839.29    20260.0             -4.61      7.16   \n",
       "1806        1806  1806  838.29    22390.0             -0.12      7.16   \n",
       "\n",
       "      oli_price  oli_price_volatility  carbon_credits  \\\n",
       "0         52.69                 -3.44            7.01   \n",
       "1         50.04                 -5.03            6.90   \n",
       "2         47.93                 -4.22            6.77   \n",
       "3         48.65                  1.50            6.78   \n",
       "4         48.79                  0.29            6.81   \n",
       "...         ...                   ...             ...   \n",
       "1802      95.72                  4.51           82.65   \n",
       "1803     103.41                  8.03           69.74   \n",
       "1804     110.60                  6.95           67.72   \n",
       "1805     107.67                 -2.65           67.01   \n",
       "1806     115.68                  7.44           65.80   \n",
       "\n",
       "      carbon_credits_volatility  ...  dollar_volatility  alu_price  alu_vol  \\\n",
       "0                         -3.31  ...               0.90    1828.00    31.38   \n",
       "1                         -1.57  ...               0.33    1812.25    43.25   \n",
       "2                         -1.88  ...               0.13    1780.25    56.01   \n",
       "3                          0.15  ...               0.43    1783.50    61.45   \n",
       "4                          0.44  ...               0.52    1825.50    75.03   \n",
       "...                         ...  ...                ...        ...      ...   \n",
       "1802                      -5.83  ...               0.10    3368.50    85.69   \n",
       "1803                     -15.62  ...               0.73    3478.00    68.56   \n",
       "1804                      -2.90  ...              -0.02    3569.00    68.40   \n",
       "1805                      -1.05  ...               0.41    3716.50   106.23   \n",
       "1806                      -1.81  ...               0.88    3849.00   106.23   \n",
       "\n",
       "      alu_change  cu_price  cu_change  REGI_price  REGI_vol  REGI_change  \\\n",
       "0          -1.12   6250.25      -0.55        9.79    436.60         0.82   \n",
       "1          -0.86   6142.00      -1.73        9.55    481.67        -2.45   \n",
       "2          -1.77   6131.00      -0.18        9.12    534.76        -4.50   \n",
       "3           0.18   6125.00      -0.10        9.19    267.66         0.77   \n",
       "4           2.35   6122.75      -0.04        9.43    359.25         2.61   \n",
       "...          ...       ...        ...         ...       ...          ...   \n",
       "1802        0.33   9883.50       0.11       61.50  12740.00        40.38   \n",
       "1803        3.25  10061.50       1.80       60.75   4790.00        -1.22   \n",
       "1804        2.62  10166.00       1.04       60.86   5040.00         0.18   \n",
       "1805        4.13  10351.00       1.82       61.26   5430.00         0.66   \n",
       "1806        3.57  10674.00       3.12       61.04   4290.00        -0.36   \n",
       "\n",
       "      change  \n",
       "0          0  \n",
       "1          0  \n",
       "2          1  \n",
       "3          0  \n",
       "4          0  \n",
       "...      ...  \n",
       "1802       1  \n",
       "1803       0  \n",
       "1804       1  \n",
       "1805       0  \n",
       "1806       0  \n",
       "\n",
       "[1807 rows x 47 columns]"
      ]
     },
     "execution_count": 571,
     "metadata": {},
     "output_type": "execute_result"
    }
   ],
   "source": [
    "df_cla"
   ]
  },
  {
   "cell_type": "code",
   "execution_count": null,
   "id": "d49724d8",
   "metadata": {},
   "outputs": [],
   "source": []
  },
  {
   "cell_type": "code",
   "execution_count": 572,
   "id": "9f4d1a23",
   "metadata": {},
   "outputs": [],
   "source": [
    "y = df_cla.change\n",
    "x = df_cla.drop(['Unnamed: 0', 'change'], axis=1)"
   ]
  },
  {
   "cell_type": "code",
   "execution_count": 579,
   "id": "3b9fe1ca",
   "metadata": {},
   "outputs": [],
   "source": [
    "y_train = y[:1444]\n",
    "y_test = y[1444:]\n",
    "x_train = x[:1444]\n",
    "x_test = x[1444:]"
   ]
  },
  {
   "cell_type": "code",
   "execution_count": 582,
   "id": "fa437de3",
   "metadata": {},
   "outputs": [],
   "source": [
    "from sklearn.linear_model import LogisticRegression\n",
    "from sklearn.metrics import classification_report"
   ]
  },
  {
   "cell_type": "code",
   "execution_count": 583,
   "id": "06ce46da",
   "metadata": {},
   "outputs": [
    {
     "data": {
      "text/plain": [
       "LogisticRegression()"
      ]
     },
     "execution_count": 583,
     "metadata": {},
     "output_type": "execute_result"
    }
   ],
   "source": [
    "lg = LogisticRegression()\n",
    "lg.fit(x_train, y_train)"
   ]
  },
  {
   "cell_type": "code",
   "execution_count": 584,
   "id": "f84e7760",
   "metadata": {},
   "outputs": [],
   "source": [
    "preds = lg.predict(x_test)"
   ]
  },
  {
   "cell_type": "code",
   "execution_count": 585,
   "id": "95c902b3",
   "metadata": {},
   "outputs": [
    {
     "name": "stdout",
     "output_type": "stream",
     "text": [
      "              precision    recall  f1-score   support\n",
      "\n",
      "           0       0.46      0.99      0.63       167\n",
      "           1       0.50      0.01      0.01       196\n",
      "\n",
      "    accuracy                           0.46       363\n",
      "   macro avg       0.48      0.50      0.32       363\n",
      "weighted avg       0.48      0.46      0.29       363\n",
      "\n"
     ]
    }
   ],
   "source": [
    "print(classification_report(y_test, preds))"
   ]
  },
  {
   "cell_type": "code",
   "execution_count": 586,
   "id": "d68de816",
   "metadata": {},
   "outputs": [],
   "source": [
    "from sklearn.preprocessing import StandardScaler"
   ]
  },
  {
   "cell_type": "code",
   "execution_count": 601,
   "id": "181fa418",
   "metadata": {},
   "outputs": [],
   "source": [
    "scaler = StandardScaler()"
   ]
  },
  {
   "cell_type": "code",
   "execution_count": 602,
   "id": "efb2ef88",
   "metadata": {},
   "outputs": [
    {
     "data": {
      "text/plain": [
       "StandardScaler()"
      ]
     },
     "execution_count": 602,
     "metadata": {},
     "output_type": "execute_result"
    }
   ],
   "source": [
    "scaler.fit(x_train)"
   ]
  },
  {
   "cell_type": "code",
   "execution_count": 603,
   "id": "3b7a91cf",
   "metadata": {},
   "outputs": [],
   "source": [
    "x_train_scaled = scaler.transform(x_train)\n",
    "x_test_scaled = scaler.transform(x_test)"
   ]
  },
  {
   "cell_type": "code",
   "execution_count": 604,
   "id": "903e08e0",
   "metadata": {},
   "outputs": [
    {
     "data": {
      "text/plain": [
       "LogisticRegression()"
      ]
     },
     "execution_count": 604,
     "metadata": {},
     "output_type": "execute_result"
    }
   ],
   "source": [
    "lg.fit(x_train_scaled, y_train)"
   ]
  },
  {
   "cell_type": "code",
   "execution_count": 605,
   "id": "1488488b",
   "metadata": {},
   "outputs": [],
   "source": [
    "preds = lg.predict(x_test_scaled)"
   ]
  },
  {
   "cell_type": "code",
   "execution_count": 606,
   "id": "930b3931",
   "metadata": {},
   "outputs": [
    {
     "name": "stdout",
     "output_type": "stream",
     "text": [
      "              precision    recall  f1-score   support\n",
      "\n",
      "           0       1.00      0.40      0.57       167\n",
      "           1       0.66      1.00      0.80       196\n",
      "\n",
      "    accuracy                           0.72       363\n",
      "   macro avg       0.83      0.70      0.68       363\n",
      "weighted avg       0.82      0.72      0.69       363\n",
      "\n"
     ]
    }
   ],
   "source": [
    "print(classification_report(y_test, preds))"
   ]
  },
  {
   "cell_type": "code",
   "execution_count": 607,
   "id": "239fe8bf",
   "metadata": {},
   "outputs": [],
   "source": [
    "from sklearn.ensemble import RandomForestClassifier"
   ]
  },
  {
   "cell_type": "code",
   "execution_count": 625,
   "id": "b07d2c71",
   "metadata": {},
   "outputs": [],
   "source": [
    "rfc = RandomForestClassifier(n_estimators=5)"
   ]
  },
  {
   "cell_type": "code",
   "execution_count": 626,
   "id": "8e36fb68",
   "metadata": {},
   "outputs": [
    {
     "data": {
      "text/plain": [
       "RandomForestClassifier(n_estimators=5)"
      ]
     },
     "execution_count": 626,
     "metadata": {},
     "output_type": "execute_result"
    }
   ],
   "source": [
    "rfc.fit(x_train, y_train)"
   ]
  },
  {
   "cell_type": "code",
   "execution_count": 627,
   "id": "14f9fd22",
   "metadata": {},
   "outputs": [],
   "source": [
    "preds = rfc.predict(x_test)"
   ]
  },
  {
   "cell_type": "code",
   "execution_count": 628,
   "id": "c21bde0f",
   "metadata": {},
   "outputs": [
    {
     "name": "stdout",
     "output_type": "stream",
     "text": [
      "              precision    recall  f1-score   support\n",
      "\n",
      "           0       0.81      0.96      0.88       167\n",
      "           1       0.96      0.81      0.88       196\n",
      "\n",
      "    accuracy                           0.88       363\n",
      "   macro avg       0.89      0.89      0.88       363\n",
      "weighted avg       0.89      0.88      0.88       363\n",
      "\n"
     ]
    }
   ],
   "source": [
    "print(classification_report(y_test, preds))"
   ]
  },
  {
   "cell_type": "code",
   "execution_count": 629,
   "id": "080744ab",
   "metadata": {},
   "outputs": [
    {
     "data": {
      "text/plain": [
       "0       0\n",
       "1       0\n",
       "2       1\n",
       "3       0\n",
       "4       0\n",
       "       ..\n",
       "1439    1\n",
       "1440    1\n",
       "1441    0\n",
       "1442    0\n",
       "1443    1\n",
       "Name: change, Length: 1444, dtype: int64"
      ]
     },
     "execution_count": 629,
     "metadata": {},
     "output_type": "execute_result"
    }
   ],
   "source": [
    "y_train"
   ]
  },
  {
   "cell_type": "code",
   "execution_count": 638,
   "id": "75601b55",
   "metadata": {},
   "outputs": [
    {
     "data": {
      "text/plain": [
       "5"
      ]
     },
     "execution_count": 638,
     "metadata": {},
     "output_type": "execute_result"
    }
   ],
   "source": []
  },
  {
   "cell_type": "code",
   "execution_count": null,
   "id": "15c216de",
   "metadata": {},
   "outputs": [],
   "source": []
  },
  {
   "cell_type": "code",
   "execution_count": null,
   "id": "325f98fe",
   "metadata": {},
   "outputs": [],
   "source": []
  },
  {
   "cell_type": "code",
   "execution_count": null,
   "id": "aa85ef9d",
   "metadata": {},
   "outputs": [],
   "source": []
  },
  {
   "cell_type": "code",
   "execution_count": null,
   "id": "f9d05105",
   "metadata": {},
   "outputs": [],
   "source": []
  }
 ],
 "metadata": {
  "kernelspec": {
   "display_name": "Python 3 (ipykernel)",
   "language": "python",
   "name": "python3"
  },
  "language_info": {
   "codemirror_mode": {
    "name": "ipython",
    "version": 3
   },
   "file_extension": ".py",
   "mimetype": "text/x-python",
   "name": "python",
   "nbconvert_exporter": "python",
   "pygments_lexer": "ipython3",
   "version": "3.9.7"
  }
 },
 "nbformat": 4,
 "nbformat_minor": 5
}
