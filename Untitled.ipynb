{
 "cells": [
  {
   "cell_type": "code",
   "execution_count": 257,
   "id": "855f3c09",
   "metadata": {},
   "outputs": [],
   "source": [
    "df_total = pd.read_csv('prepro_data/테슬라 총합.csv', index_col=0)"
   ]
  },
  {
   "cell_type": "code",
   "execution_count": 202,
   "id": "75601b55",
   "metadata": {},
   "outputs": [],
   "source": [
    "datas = os.listdir('data/구글검색량')"
   ]
  },
  {
   "cell_type": "code",
   "execution_count": 235,
   "id": "15c216de",
   "metadata": {},
   "outputs": [],
   "source": [
    "li = []\n",
    "for data in datas:\n",
    "    df = pd.read_csv('data/구글검색량/{}'.format(data))\n",
    "    li.append(df)\n",
    "df_con = pd.concat(li)"
   ]
  },
  {
   "cell_type": "code",
   "execution_count": 237,
   "id": "325f98fe",
   "metadata": {
    "scrolled": true
   },
   "outputs": [],
   "source": [
    "df_con = df_con.reset_index()"
   ]
  },
  {
   "cell_type": "code",
   "execution_count": 244,
   "id": "aa85ef9d",
   "metadata": {},
   "outputs": [],
   "source": [
    "df_con = df_con.rename(columns={'index' : 'date', '카테고리: 모든 카테고리' : '검색량'})"
   ]
  },
  {
   "cell_type": "code",
   "execution_count": 251,
   "id": "f9d05105",
   "metadata": {},
   "outputs": [],
   "source": [
    "df_con.검색량 = df_con.검색량.apply(lambda x: x if x.isnumeric() else np.nan)"
   ]
  },
  {
   "cell_type": "code",
   "execution_count": 253,
   "id": "1c098e43",
   "metadata": {},
   "outputs": [],
   "source": [
    "df_con.dropna(inplace=True)"
   ]
  },
  {
   "cell_type": "code",
   "execution_count": 254,
   "id": "126b2a6d",
   "metadata": {},
   "outputs": [
    {
     "data": {
      "text/html": [
       "<div>\n",
       "<style scoped>\n",
       "    .dataframe tbody tr th:only-of-type {\n",
       "        vertical-align: middle;\n",
       "    }\n",
       "\n",
       "    .dataframe tbody tr th {\n",
       "        vertical-align: top;\n",
       "    }\n",
       "\n",
       "    .dataframe thead th {\n",
       "        text-align: right;\n",
       "    }\n",
       "</style>\n",
       "<table border=\"1\" class=\"dataframe\">\n",
       "  <thead>\n",
       "    <tr style=\"text-align: right;\">\n",
       "      <th></th>\n",
       "      <th>date</th>\n",
       "      <th>검색량</th>\n",
       "    </tr>\n",
       "  </thead>\n",
       "  <tbody>\n",
       "    <tr>\n",
       "      <th>1</th>\n",
       "      <td>2021-07-01</td>\n",
       "      <td>44</td>\n",
       "    </tr>\n",
       "    <tr>\n",
       "      <th>2</th>\n",
       "      <td>2021-07-02</td>\n",
       "      <td>45</td>\n",
       "    </tr>\n",
       "    <tr>\n",
       "      <th>3</th>\n",
       "      <td>2021-07-03</td>\n",
       "      <td>41</td>\n",
       "    </tr>\n",
       "    <tr>\n",
       "      <th>4</th>\n",
       "      <td>2021-07-04</td>\n",
       "      <td>40</td>\n",
       "    </tr>\n",
       "    <tr>\n",
       "      <th>5</th>\n",
       "      <td>2021-07-05</td>\n",
       "      <td>38</td>\n",
       "    </tr>\n",
       "    <tr>\n",
       "      <th>...</th>\n",
       "      <td>...</td>\n",
       "      <td>...</td>\n",
       "    </tr>\n",
       "    <tr>\n",
       "      <th>2665</th>\n",
       "      <td>2022-03-04</td>\n",
       "      <td>76</td>\n",
       "    </tr>\n",
       "    <tr>\n",
       "      <th>2666</th>\n",
       "      <td>2022-03-05</td>\n",
       "      <td>68</td>\n",
       "    </tr>\n",
       "    <tr>\n",
       "      <th>2667</th>\n",
       "      <td>2022-03-06</td>\n",
       "      <td>67</td>\n",
       "    </tr>\n",
       "    <tr>\n",
       "      <th>2668</th>\n",
       "      <td>2022-03-07</td>\n",
       "      <td>82</td>\n",
       "    </tr>\n",
       "    <tr>\n",
       "      <th>2669</th>\n",
       "      <td>2022-03-08</td>\n",
       "      <td>0</td>\n",
       "    </tr>\n",
       "  </tbody>\n",
       "</table>\n",
       "<p>2655 rows × 2 columns</p>\n",
       "</div>"
      ],
      "text/plain": [
       "            date 검색량\n",
       "1     2021-07-01  44\n",
       "2     2021-07-02  45\n",
       "3     2021-07-03  41\n",
       "4     2021-07-04  40\n",
       "5     2021-07-05  38\n",
       "...          ...  ..\n",
       "2665  2022-03-04  76\n",
       "2666  2022-03-05  68\n",
       "2667  2022-03-06  67\n",
       "2668  2022-03-07  82\n",
       "2669  2022-03-08   0\n",
       "\n",
       "[2655 rows x 2 columns]"
      ]
     },
     "execution_count": 254,
     "metadata": {},
     "output_type": "execute_result"
    }
   ],
   "source": [
    "df_con"
   ]
  },
  {
   "cell_type": "code",
   "execution_count": 261,
   "id": "f7ac68fc",
   "metadata": {},
   "outputs": [],
   "source": [
    "df_total = pd.merge(df_total, df_con, on='date', how='left')"
   ]
  },
  {
   "cell_type": "code",
   "execution_count": 262,
   "id": "0b6cbe54",
   "metadata": {},
   "outputs": [],
   "source": [
    "df_total.to_csv('prepro_data/검색량추가.csv')"
   ]
  },
  {
   "cell_type": "code",
   "execution_count": null,
   "id": "238c45f4",
   "metadata": {},
   "outputs": [],
   "source": []
  }
 ],
 "metadata": {
  "kernelspec": {
   "display_name": "Python 3 (ipykernel)",
   "language": "python",
   "name": "python3"
  },
  "language_info": {
   "codemirror_mode": {
    "name": "ipython",
    "version": 3
   },
   "file_extension": ".py",
   "mimetype": "text/x-python",
   "name": "python",
   "nbconvert_exporter": "python",
   "pygments_lexer": "ipython3",
   "version": "3.9.7"
  }
 },
 "nbformat": 4,
 "nbformat_minor": 5
}
