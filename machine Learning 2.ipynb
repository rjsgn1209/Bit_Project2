{
 "cells": [
  {
   "cell_type": "code",
   "execution_count": 26,
   "id": "03c3b1c5",
   "metadata": {},
   "outputs": [],
   "source": [
    "import pandas as pd\n",
    "import numpy as np\n",
    "import matplotlib.pyplot as plt\n",
    "import seaborn as sns"
   ]
  },
  {
   "cell_type": "code",
   "execution_count": 27,
   "id": "206d18b8",
   "metadata": {},
   "outputs": [],
   "source": [
    "from sklearn.metrics import accuracy_score, f1_score\n",
    "from lightgbm import LGBMClassifier\n",
    "import xgboost as xgb"
   ]
  },
  {
   "cell_type": "code",
   "execution_count": 28,
   "id": "2fb3c4ec",
   "metadata": {},
   "outputs": [],
   "source": [
    "df = pd.read_csv('prepro_data/최종+재무제표.csv', index_col=0)"
   ]
  },
  {
   "cell_type": "code",
   "execution_count": 29,
   "id": "964fc292",
   "metadata": {},
   "outputs": [],
   "source": [
    "y = df.updown[5:]\n",
    "x = df.loc[:, [ 'tesla', 'tesla_거래량', 'oli_price', 'EVE거래량', 'alu_change']][:-5]\n",
    "#x_de = df.drop(['updown', 'date'], axis=1)[:-1]\n",
    "#x = x_de.loc[:, []]"
   ]
  },
  {
   "cell_type": "code",
   "execution_count": 30,
   "id": "482781d8",
   "metadata": {},
   "outputs": [],
   "source": [
    "x_train = x[:1444]\n",
    "x_test = x[1444:]\n",
    "y_train = y[:1444]\n",
    "y_test = y[1444:]"
   ]
  },
  {
   "cell_type": "code",
   "execution_count": 31,
   "id": "2ee0208d",
   "metadata": {},
   "outputs": [
    {
     "name": "stdout",
     "output_type": "stream",
     "text": [
      "LGBMClassifier\n",
      "accuracy_score : 0.6201117318435754\n",
      "f1_score : 0.5952380952380953\n",
      "[19:27:18] WARNING: C:/Users/Administrator/workspace/xgboost-win64_release_1.5.1/src/learner.cc:1115: Starting in XGBoost 1.3.0, the default evaluation metric used with the objective 'binary:logistic' was changed from 'error' to 'logloss'. Explicitly set eval_metric if you'd like to restore the old behavior.\n",
      "XGBClassifier\n",
      "accuracy_score : 0.5754189944134078\n",
      "f1_score : 0.5824175824175825\n"
     ]
    },
    {
     "name": "stderr",
     "output_type": "stream",
     "text": [
      "C:\\Users\\bitcamp\\anaconda3\\lib\\site-packages\\xgboost\\sklearn.py:1224: UserWarning: The use of label encoder in XGBClassifier is deprecated and will be removed in a future release. To remove this warning, do the following: 1) Pass option use_label_encoder=False when constructing XGBClassifier object; and 2) Encode your labels (y) as integers starting with 0, i.e. 0, 1, 2, ..., [num_class - 1].\n",
      "  warnings.warn(label_encoder_deprecation_msg, UserWarning)\n"
     ]
    }
   ],
   "source": [
    "lgbm = LGBMClassifier()\n",
    "xgbs = xgb.XGBClassifier()\n",
    "\n",
    "models = [lgbm, xgbs]\n",
    "\n",
    "for model in models:\n",
    "    model.fit(x_train, y_train)\n",
    "    preds = model.predict(x_test)\n",
    "    print(model.__class__.__name__)\n",
    "    print('accuracy_score :', accuracy_score(y_test, preds))\n",
    "    print('f1_score :', f1_score(y_test, preds))\n",
    "    #print('classification_report :', classification_report(y_test, preds))\n"
   ]
  },
  {
   "cell_type": "code",
   "execution_count": 21,
   "id": "4ea91a6b",
   "metadata": {},
   "outputs": [],
   "source": [
    "# confusion_matrix 시각화"
   ]
  },
  {
   "cell_type": "code",
   "execution_count": 22,
   "id": "17020ed3",
   "metadata": {},
   "outputs": [],
   "source": [
    "from sklearn.metrics import confusion_matrix, plot_confusion_matrix\n",
    "import matplotlib.pyplot as plt"
   ]
  },
  {
   "cell_type": "code",
   "execution_count": 23,
   "id": "f97539bf",
   "metadata": {},
   "outputs": [],
   "source": [
    "import seaborn as sns"
   ]
  },
  {
   "cell_type": "code",
   "execution_count": 24,
   "id": "2984c39f",
   "metadata": {},
   "outputs": [
    {
     "data": {
      "text/plain": [
       "array([[100,  66],\n",
       "       [ 86, 106]], dtype=int64)"
      ]
     },
     "execution_count": 24,
     "metadata": {},
     "output_type": "execute_result"
    }
   ],
   "source": [
    "cm = confusion_matrix(y_test, preds)\n",
    "cm"
   ]
  },
  {
   "cell_type": "code",
   "execution_count": 25,
   "id": "732c4690",
   "metadata": {
    "scrolled": true
   },
   "outputs": [
    {
     "data": {
      "image/png": "[encoded data removed]",
      "text/plain": [
       "<Figure size 432x288 with 2 Axes>"
      ]
     },
     "metadata": {
      "needs_background": "light"
     },
     "output_type": "display_data"
    }
   ],
   "source": [
    "ax= plt.subplot()\n",
    "sns.heatmap(cm, annot=True, fmt='g', ax=ax, cmap='Blues');  #annot=True to annotate cells, ftm='g' to disable scientific notation\n",
    "\n",
    "# labels, title and ticks\n",
    "ax.set_xlabel('Predicted labels');ax.set_ylabel('True labels'); \n",
    "ax.set_title('Confusion Matrix'); \n",
    "ax.xaxis.set_ticklabels(['Negative', 'Positive']); ax.yaxis.set_ticklabels(['False', 'True']);"
   ]
  },
  {
   "cell_type": "code",
   "execution_count": null,
   "id": "6441d29a",
   "metadata": {},
   "outputs": [],
   "source": []
  }
 ],
 "metadata": {
  "kernelspec": {
   "display_name": "Python 3 (ipykernel)",
   "language": "python",
   "name": "python3"
  },
  "language_info": {
   "codemirror_mode": {
    "name": "ipython",
    "version": 3
   },
   "file_extension": ".py",
   "mimetype": "text/x-python",
   "name": "python",
   "nbconvert_exporter": "python",
   "pygments_lexer": "ipython3",
   "version": "3.9.7"
  }
 },
 "nbformat": 4,
 "nbformat_minor": 5
}
